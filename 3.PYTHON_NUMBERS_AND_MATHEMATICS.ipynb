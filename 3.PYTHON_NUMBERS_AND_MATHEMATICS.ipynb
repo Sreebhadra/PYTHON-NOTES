{
 "cells": [
  {
   "cell_type": "markdown",
   "id": "5c7d64bf-803e-4280-919b-d37898d6d364",
   "metadata": {},
   "source": [
    "### **PYTHON DATA TYPES**"
   ]
  },
  {
   "cell_type": "code",
   "execution_count": 2,
   "id": "39a16d47-d96e-42f6-98fd-6a5137396a3f",
   "metadata": {},
   "outputs": [
    {
     "name": "stdout",
     "output_type": "stream",
     "text": [
      "5 is of type <class 'int'>\n",
      "5.42 is of type <class 'float'>\n",
      "(8+2j) is of type <class 'complex'>\n"
     ]
    }
   ],
   "source": [
    "num1 = 5\n",
    "print(num1, 'is of type', type(num1))\n",
    "\n",
    "num2 = 5.42\n",
    "print(num2, 'is of type', type(num2))\n",
    "\n",
    "num3 = 8+2j\n",
    "print(num3, 'is of type', type(num3))"
   ]
  },
  {
   "cell_type": "code",
   "execution_count": 4,
   "id": "2e611d27-038d-4d34-b6f9-20a27204e571",
   "metadata": {},
   "outputs": [
    {
     "name": "stdout",
     "output_type": "stream",
     "text": [
      "107\n",
      "253\n",
      "13\n"
     ]
    }
   ],
   "source": [
    "print(0b1101011) \n",
    "print(0xFB + 0b10)  \n",
    "print(0o15) "
   ]
  },
  {
   "cell_type": "code",
   "execution_count": 5,
   "id": "f8c2eb05-b977-4aea-9015-1d9bf69261e7",
   "metadata": {},
   "outputs": [
    {
     "name": "stdout",
     "output_type": "stream",
     "text": [
      "2\n",
      "-2\n",
      "5.0\n",
      "(3+5j)\n"
     ]
    }
   ],
   "source": [
    "num1 = int(2.3)\n",
    "print(num1)  \n",
    "num2 = int(-2.8)\n",
    "print(num2)  \n",
    "num3 = float(5)\n",
    "print(num3) \n",
    "num4 = complex('3+5j')\n",
    "print(num4) "
   ]
  },
  {
   "cell_type": "code",
   "execution_count": 6,
   "id": "d33f7ca0-0430-4aa9-bc0e-8badd89ebc24",
   "metadata": {},
   "outputs": [
    {
     "name": "stdout",
     "output_type": "stream",
     "text": [
      "3.141592653589793\n",
      "-1.0\n",
      "22026.465794806718\n",
      "3.0\n",
      "1.1752011936438014\n",
      "720\n"
     ]
    }
   ],
   "source": [
    "import math\n",
    "\n",
    "print(math.pi)\n",
    "\n",
    "print(math.cos(math.pi))\n",
    "\n",
    "print(math.exp(10))\n",
    "\n",
    "print(math.log10(1000))\n",
    "\n",
    "print(math.sinh(1))\n",
    "\n",
    "print(math.factorial(6))"
   ]
  },
  {
   "cell_type": "code",
   "execution_count": 7,
   "id": "93e3660b-586d-4c43-ab11-1f93023ff039",
   "metadata": {},
   "outputs": [
    {
     "name": "stdout",
     "output_type": "stream",
     "text": [
      "17\n",
      "c\n",
      "['e', 'b', 'd', 'a', 'c']\n",
      "0.982985298558942\n"
     ]
    }
   ],
   "source": [
    "import random\n",
    "\n",
    "print(random.randrange(10, 20))\n",
    "\n",
    "list1 = ['a', 'b', 'c', 'd', 'e']\n",
    "print(random.choice(list1))\n",
    "\n",
    "random.shuffle(list1)\n",
    "print(list1)\n",
    "\n",
    "print(random.random())"
   ]
  },
  {
   "cell_type": "code",
   "execution_count": null,
   "id": "2a23d9ce-fa59-4a60-9880-236e02275a2d",
   "metadata": {},
   "outputs": [],
   "source": []
  }
 ],
 "metadata": {
  "kernelspec": {
   "display_name": "Python 3 (ipykernel)",
   "language": "python",
   "name": "python3"
  },
  "language_info": {
   "codemirror_mode": {
    "name": "ipython",
    "version": 3
   },
   "file_extension": ".py",
   "mimetype": "text/x-python",
   "name": "python",
   "nbconvert_exporter": "python",
   "pygments_lexer": "ipython3",
   "version": "3.12.4"
  }
 },
 "nbformat": 4,
 "nbformat_minor": 5
}
