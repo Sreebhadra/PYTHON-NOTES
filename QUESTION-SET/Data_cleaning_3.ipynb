{
 "cells": [
  {
   "cell_type": "raw",
   "id": "ff65ba39-0a8a-48dd-bcb8-fd55de7f0afc",
   "metadata": {},
   "source": [
    "['imo', 'vessel', 'report_date_time', 'report_type', 'status',\n",
    "       'sea_state', 'cargo_total', 'cargo_total_teu', 'speed_by_log',\n",
    "       'speed_by_gps', 'rpm', 'slip', 'wind_speed', 'draft_aft', 'draft_fwd',\n",
    "       'wave_height', 'sw_temp', 'steaming_time_me_rsdl_vls',\n",
    "       'steaming_time_me_rsdl_hs', 'steaming_time_me_rsdl_uls',\n",
    "       'steaming_time_me_dstlt_vls', 'steaming_time_me_dstlt_uls',\n",
    "       'steaming_time_me_tnktnr_dstlt_vls', 'steaming_time_me_mdo',\n",
    "       'steaming_time_aux_1', 'steaming_time_aux_2', 'steaming_time_aux_3',\n",
    "       'steaming_time_aux_4', 'steaming_time_aux_5', 'ae_t_steaming',\n",
    "       'total_steaming_time', 'me_fuel_only_steaming_time', 'miles_by_gps',\n",
    "       'manvrng_miles_by_gps', 'fuel_me_rsdl_vls', 'fuel_me_rsdl_hs',\n",
    "       'fuel_me_rsdl_uls', 'fuel_me_dstlt_vls', 'fuel_me_dstlt_uls',\n",
    "       'fuel_me_mdo', 'fuel_me_tnktnr_dstlt_vls', 'fuel_aux_rsdl_vls',\n",
    "       'fuel_aux_rsdl_hs', 'fuel_aux_rsdl_uls', 'fuel_aux_dstlt_vls',\n",
    "       'fuel_aux_dstlt_uls', 'fuel_aux_tnktnr_dstlt_vls', 'fuel_aux_mdo',\n",
    "       'fuel_boiler_rsdl_vls', 'fuel_boiler_rsdl_hs', 'fuel_boiler_rsdl_uls',\n",
    "       'fuel_boiler_dstlt_vls', 'fuel_boiler_dstlt_uls',\n",
    "       'fuel_boiler_tnktnr_dstlt_vls', 'fuel_boiler_mdo', 'power_kw',\n",
    "       'total_steaming_time.1', 'fuel_type', 'fuel_hs', 'fuel_ls', 'fuel_mdo',\n",
    "       'fuel_mgo', 'fuel_mgo_ls', 'draft', 'total_fo', 'total_co_2', 'me_con',\n",
    "       'ae_con', 'bl_con', 'total_fo.1', 'manvrng_miles_by_speed_log',\n",
    "       'eta_port', 'port_code', 'port', 'miles_by_speed_log', 'voyage_order',\n",
    "       'voyage_code']"
   ]
  },
  {
   "cell_type": "raw",
   "id": "0e91a794-db6f-4fff-840c-6fcc156f35f5",
   "metadata": {},
   "source": [
    "Write a code to find all the text having 'time' or 'steam' in their names\n",
    "take it out in a separate list"
   ]
  },
  {
   "cell_type": "code",
   "execution_count": 12,
   "id": "2926d61b-7d98-44f3-a3d4-f639166caf1c",
   "metadata": {},
   "outputs": [
    {
     "name": "stdout",
     "output_type": "stream",
     "text": [
      "New list: ['report_date_time', 'steaming_time_me_rsdl_vls', 'steaming_time_me_rsdl_hs', 'steaming_time_me_rsdl_uls', 'steaming_time_me_dstlt_vls', 'steaming_time_me_dstlt_uls', 'steaming_time_me_tnktnr_dstlt_vls', 'steaming_time_me_mdo', 'steaming_time_aux_1', 'steaming_time_aux_2', 'steaming_time_aux_3', 'steaming_time_aux_4', 'steaming_time_aux_5', 'ae_t_steaming', 'total_steaming_time', 'me_fuel_only_steaming_time', 'total_steaming_time.1']\n"
     ]
    }
   ],
   "source": [
    "list1 = ['imo', 'vessel', 'report_date_time', 'report_type', 'status',\n",
    "       'sea_state', 'cargo_total', 'cargo_total_teu', 'speed_by_log',\n",
    "       'speed_by_gps', 'rpm', 'slip', 'wind_speed', 'draft_aft', 'draft_fwd',\n",
    "       'wave_height', 'sw_temp', 'steaming_time_me_rsdl_vls',\n",
    "       'steaming_time_me_rsdl_hs', 'steaming_time_me_rsdl_uls',\n",
    "       'steaming_time_me_dstlt_vls', 'steaming_time_me_dstlt_uls',\n",
    "       'steaming_time_me_tnktnr_dstlt_vls', 'steaming_time_me_mdo',\n",
    "       'steaming_time_aux_1', 'steaming_time_aux_2', 'steaming_time_aux_3',\n",
    "       'steaming_time_aux_4', 'steaming_time_aux_5', 'ae_t_steaming',\n",
    "       'total_steaming_time', 'me_fuel_only_steaming_time', 'miles_by_gps',\n",
    "       'manvrng_miles_by_gps', 'fuel_me_rsdl_vls', 'fuel_me_rsdl_hs',\n",
    "       'fuel_me_rsdl_uls', 'fuel_me_dstlt_vls', 'fuel_me_dstlt_uls',\n",
    "       'fuel_me_mdo', 'fuel_me_tnktnr_dstlt_vls', 'fuel_aux_rsdl_vls',\n",
    "       'fuel_aux_rsdl_hs', 'fuel_aux_rsdl_uls', 'fuel_aux_dstlt_vls',\n",
    "       'fuel_aux_dstlt_uls', 'fuel_aux_tnktnr_dstlt_vls', 'fuel_aux_mdo',\n",
    "       'fuel_boiler_rsdl_vls', 'fuel_boiler_rsdl_hs', 'fuel_boiler_rsdl_uls',\n",
    "       'fuel_boiler_dstlt_vls', 'fuel_boiler_dstlt_uls',\n",
    "       'fuel_boiler_tnktnr_dstlt_vls', 'fuel_boiler_mdo', 'power_kw',\n",
    "       'total_steaming_time.1', 'fuel_type', 'fuel_hs', 'fuel_ls', 'fuel_mdo',\n",
    "       'fuel_mgo', 'fuel_mgo_ls', 'draft', 'total_fo', 'total_co_2', 'me_con',\n",
    "       'ae_con', 'bl_con', 'total_fo.1', 'manvrng_miles_by_speed_log',\n",
    "       'eta_port', 'port_code', 'port', 'miles_by_speed_log', 'voyage_order',\n",
    "       'voyage_code']\n",
    "\n",
    "list2 = []\n",
    "\n",
    "for i in list1:\n",
    "    if 'time' in i.lower() or 'steam' in i.lower(): ## Check if 'time' or 'steam' is in the i \n",
    "        list2.append(i)\n",
    "\n",
    "print(\"New list:\", list2)"
   ]
  },
  {
   "cell_type": "code",
   "execution_count": null,
   "id": "e733f66e-361a-4ea4-9a60-ba50dfe95276",
   "metadata": {},
   "outputs": [],
   "source": []
  }
 ],
 "metadata": {
  "kernelspec": {
   "display_name": "Python 3 (ipykernel)",
   "language": "python",
   "name": "python3"
  },
  "language_info": {
   "codemirror_mode": {
    "name": "ipython",
    "version": 3
   },
   "file_extension": ".py",
   "mimetype": "text/x-python",
   "name": "python",
   "nbconvert_exporter": "python",
   "pygments_lexer": "ipython3",
   "version": "3.12.4"
  }
 },
 "nbformat": 4,
 "nbformat_minor": 5
}
