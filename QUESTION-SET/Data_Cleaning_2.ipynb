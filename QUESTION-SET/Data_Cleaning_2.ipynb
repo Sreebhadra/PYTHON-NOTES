{
 "cells": [
  {
   "cell_type": "raw",
   "id": "851799f0-640b-423c-9ea3-b8ca8a41e37b",
   "metadata": {},
   "source": [
    "\"\"\"\\n\\n    \\n    School Story\\n\\n\\n    The First Day of School\\n    It was a bright, sunny morning when Emily woke up to the sound of her alarm clock ringing loudly. She jumped out of bed, feeling a mix of excitement and nervousness. Today was her first day at the new school.\\n    \\n    As she hurriedly got dressed, she remembered her mother’s advice, “Just be yourself and you’ll make friends in no time.” Emily smiled and finished getting ready. After a quick breakfast, she grabbed her backpack and headed out the door.\\n    \\n    The school building was massive, with red brick walls and tall windows. As she walked through the main entrance, she noticed the hallway was bustling with students. Some were chatting in groups, while others were hurrying to their classrooms.\\n    \\n    Emily’s first class was History. She found the room and took a seat near the middle. Just as she was settling in, a girl with curly hair and glasses sat down next to her.\\n    \\n    “Hi, I’m Sophie,” she said with a friendly smile. “Are you new here?”\\n    \\n    “Yes, I’m Emily,” she replied, feeling relieved to have someone to talk to. “I just moved here last week.”\\n    \\n    Sophie nodded, “Well, welcome! If you need any help, just let me know.”\\n    \\n    The teacher, Mr. Johnson, entered the room and began the lesson. He was an older man with a kind face and a gentle voice. Throughout the class, he made sure to engage the students with interesting stories about historical events.\\n    \\n    At lunchtime, Emily and Sophie decided to sit together. They found a table in the cafeteria and were soon joined by two other girls, Abby and Izzy.\\n    \\n    “So, how do you like the school so far?” Abby asked, opening her lunchbox.\\n    \\n    “It’s really nice. Everyone seems friendly,” Emily replied, taking a bite of her sandwich.\\n    \\n    Izzy nodded, “Yeah, it’s a great place. We have a lot of fun activities too. Are you planning to join any clubs or sports teams?”\\n    \\n    Emily thought for a moment. “I’m not sure yet. I was thinking about joining the photo club or maybe trying out for the soccer team.”\\n    \\n    “Both are awesome choices,” Sophie said. “I’m in the photo club, and Abby and Izzy are on the soccer team. You should definitely come to the meetings and practices!”\\n    \\n    Emily smiled, feeling more at ease. By the end of the day, she had attended all her classes and even made a few more friends. As she walked home, she felt happy and excited about the days to come.\\n    \\n    That night, she told her parents all about her first day. “It was great!” she exclaimed. “I think I’m going to like it here.”\\n    \\n    Her mother hugged her, “I’m so glad to hear that, sweetheart. Remember, every new beginning is a chance to make wonderful memories.”\\n    \\n    Emily nodded, feeling grateful for her new friends and the exciting opportunities ahead. As she drifted off to sleep, she couldn’t wait to see what tomorrow would bring.\\n\\n\"\"\"\n"
   ]
  },
  {
   "cell_type": "raw",
   "id": "ad243f55-6046-4d24-a2e4-b68ec46780f7",
   "metadata": {},
   "source": [
    "Clean this data using Python.\n",
    "Replace words eg  I'm with I am \n",
    "Remove all unnecessary punctuations and extra spaces.\n",
    "Retrieve the cleaned story of school text book.\n",
    "Find number of unique words in the story. (answer to be close to 275)"
   ]
  },
  {
   "cell_type": "code",
   "execution_count": 20,
   "id": "bed315cd-f0cd-4197-a5e5-1ffacaaf86ac",
   "metadata": {},
   "outputs": [
    {
     "name": "stdout",
     "output_type": "stream",
     "text": [
      "School Story\n",
      "\n",
      "The First Day of School\n",
      "\n",
      "It was a bright sunny morning when Emily woke up to the sound of her alarm clock ringing loudly She jumped out of bed feeling a mix of excitement and nervousness Today was her first day at the new school          As she hurriedly got dressed she remembered her mother’s advice “Just be yourself and you’ll make friends in no time” Emily smiled and finished getting ready After a quick breakfast she grabbed her backpack and headed out the door          The school building was massive with red brick walls and tall windows As she walked through the main entrance she noticed the hallway was bustling with students Some were chatting in groups while others were hurrying to their classrooms          Emily’s first class was History She found the room and took a seat near the middle Just as she was settling in a girl with curly hair and glasses sat down next to her          “Hi I’m Sophie” she said with a friendly smile “Are you new here”          “Yes I’m Emily” she replied feeling relieved to have someone to talk to “I just moved here last week”          Sophie nodded “Well welcome If you need any help just let me know”          The teacher Mr Johnson entered the room and began the lesson He was an older man with a kind face and a gentle voice Throughout the class he made sure to engage the students with interesting stories about historical events          At lunchtime Emily and Sophie decided to sit together They found a table in the cafeteria and were soon joined by two other girls Abby and Izzy          “So how do you like the school so far” Abby asked opening her lunchbox          “It’s really nice Everyone seems friendly” Emily replied taking a bite of her sandwich          Izzy nodded “Yeah it’s a great place We have a lot of fun activities too Are you planning to join any clubs or sports teams”          Emily thought for a moment “I’m not sure yet I was thinking about joining the photo club or maybe trying out for the soccer team”          “Both are awesome choices” Sophie said “I’m in the photo club and Abby and Izzy are on the soccer team You should definitely come to the meetings and practices”          Emily smiled feeling more at ease By the end of the day she had attended all her classes and even made a few more friends As she walked home she felt happy and excited about the days to come          That night she told her parents all about her first day “It was great” she exclaimed “I think I’m going to like it here”          Her mother hugged her “I’m so glad to hear that sweetheart Remember every new beginning is a chance to make wonderful memories”          Emily nodded feeling grateful for her new friends and the exciting opportunities ahead As she drifted off to sleep she couldn’t wait to see what tomorrow would bring\n",
      "\n",
      "Number of unique words: 283\n"
     ]
    }
   ],
   "source": [
    "\n",
    "content = \"\"\"\\n\\n    \\n    School Story\\n\\n\\n    The First Day of School\\n\\n    It was a bright, sunny morning when Emily woke up to the sound of her alarm clock ringing loudly. She jumped out of bed, feeling a mix of excitement and nervousness. Today was her first day at the new school.\\n    \\n    As she hurriedly got dressed, she remembered her mother’s advice, “Just be yourself and you’ll make friends in no time.” Emily smiled and finished getting ready. After a quick breakfast, she grabbed her backpack and headed out the door.\\n    \\n    The school building was massive, with red brick walls and tall windows. As she walked through the main entrance, she noticed the hallway was bustling with students. Some were chatting in groups, while others were hurrying to their classrooms.\\n    \\n    Emily’s first class was History. She found the room and took a seat near the middle. Just as she was settling in, a girl with curly hair and glasses sat down next to her.\\n    \\n    “Hi, I’m Sophie,” she said with a friendly smile. “Are you new here?”\\n    \\n    “Yes, I’m Emily,” she replied, feeling relieved to have someone to talk to. “I just moved here last week.”\\n    \\n    Sophie nodded, “Well, welcome! If you need any help, just let me know.”\\n    \\n    The teacher, Mr. Johnson, entered the room and began the lesson. He was an older man with a kind face and a gentle voice. Throughout the class, he made sure to engage the students with interesting stories about historical events.\\n    \\n    At lunchtime, Emily and Sophie decided to sit together. They found a table in the cafeteria and were soon joined by two other girls, Abby and Izzy.\\n    \\n    “So, how do you like the school so far?” Abby asked, opening her lunchbox.\\n    \\n    “It’s really nice. Everyone seems friendly,” Emily replied, taking a bite of her sandwich.\\n    \\n    Izzy nodded, “Yeah, it’s a great place. We have a lot of fun activities too. Are you planning to join any clubs or sports teams?”\\n    \\n    Emily thought for a moment. “I’m not sure yet. I was thinking about joining the photo club or maybe trying out for the soccer team.”\\n    \\n    “Both are awesome choices,” Sophie said. “I’m in the photo club, and Abby and Izzy are on the soccer team. You should definitely come to the meetings and practices!”\\n    \\n    Emily smiled, feeling more at ease. By the end of the day, she had attended all her classes and even made a few more friends. As she walked home, she felt happy and excited about the days to come.\\n    \\n    That night, she told her parents all about her first day. “It was great!” she exclaimed. “I think I’m going to like it here.”\\n    \\n    Her mother hugged her, “I’m so glad to hear that, sweetheart. Remember, every new beginning is a chance to make wonderful memories.”\\n    \\n    Emily nodded, feeling grateful for her new friends and the exciting opportunities ahead. As she drifted off to sleep, she couldn’t wait to see what tomorrow would bring.\\n\\n\"\"\"\n",
    "\n",
    "paragraphs = content.strip().split(\"\\n\\n\") #Clean the text\n",
    "\n",
    "cleaned_paragraphs = []\n",
    "\n",
    "for para in paragraphs:\n",
    "    cleaned_para = para.replace(\"\\n\", \" \")\n",
    "    cleaned_para = cleaned_para.replace(\",\", \"\")\n",
    "    cleaned_para = cleaned_para.replace(\"!\", \"\")\n",
    "    cleaned_para = cleaned_para.replace(\"?\", \"\")\n",
    "    cleaned_para = cleaned_para.replace(\".\", \"\")\n",
    "    cleaned_para = cleaned_para.replace('\"', \"\")\n",
    "    cleaned_para = cleaned_para.replace(\"I'm\",\"I am\")\n",
    "    cleaned_para = cleaned_para.replace(\"You're\",\"You are\")\n",
    "    cleaned_para = cleaned_para.strip()\n",
    "    \n",
    "    if cleaned_para:\n",
    "        cleaned_paragraphs.append(cleaned_para)\n",
    "\n",
    "cleaned_text = \"\\n\\n\".join(cleaned_paragraphs)\n",
    "print(cleaned_text) # Print the cleaned text\n",
    "\n",
    "words = cleaned_text.lower().split() #convert the text into lower case then splits the text into list of words\n",
    "unique_words = set(words)\n",
    "count_words = len(unique_words) # Count unique words\n",
    "\n",
    "print(f\"\\nNumber of unique words: {count_words}\")\n"
   ]
  },
  {
   "cell_type": "code",
   "execution_count": null,
   "id": "e30f34dc-fc9d-4b08-8644-1b99928c7d24",
   "metadata": {},
   "outputs": [],
   "source": []
  }
 ],
 "metadata": {
  "kernelspec": {
   "display_name": "Python 3 (ipykernel)",
   "language": "python",
   "name": "python3"
  },
  "language_info": {
   "codemirror_mode": {
    "name": "ipython",
    "version": 3
   },
   "file_extension": ".py",
   "mimetype": "text/x-python",
   "name": "python",
   "nbconvert_exporter": "python",
   "pygments_lexer": "ipython3",
   "version": "3.12.4"
  }
 },
 "nbformat": 4,
 "nbformat_minor": 5
}
