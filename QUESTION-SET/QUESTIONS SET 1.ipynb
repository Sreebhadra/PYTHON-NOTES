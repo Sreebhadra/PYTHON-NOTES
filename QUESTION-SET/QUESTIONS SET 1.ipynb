{
 "cells": [
  {
   "cell_type": "markdown",
   "id": "67c0a9f0-b583-43b5-ae64-6a3bbc753168",
   "metadata": {},
   "source": [
    "[Open my Word file](./Desktop/sreebhadra.docx)"
   ]
  },
  {
   "cell_type": "code",
   "execution_count": 23,
   "id": "69a75a70-6a7d-4184-a034-13d570d9958c",
   "metadata": {},
   "outputs": [
    {
     "name": "stdout",
     "output_type": "stream",
     "text": [
      "2.3333333333333335\n",
      "2\n",
      "1\n"
     ]
    }
   ],
   "source": [
    "print(7/3)\n",
    "print(7//3)\n",
    "print(7%3)"
   ]
  },
  {
   "cell_type": "markdown",
   "id": "d6ccaf31-ac07-4d0e-b19d-2347a06d34f5",
   "metadata": {},
   "source": [
    "### list to string"
   ]
  },
  {
   "cell_type": "code",
   "execution_count": 13,
   "id": "aa4c37a1-b198-4f1c-b15c-2c5bd7bd34f8",
   "metadata": {},
   "outputs": [
    {
     "name": "stdout",
     "output_type": "stream",
     "text": [
      "['Pythons syntax is easy to learn', 'Pythons syntax is very clear']\n",
      "Pythons syntax is easy to learn & Pythons syntax is very clear\n"
     ]
    }
   ],
   "source": [
    "slist = ['Pythons syntax is easy to learn', 'Pythons syntax is very clear']\n",
    "print(slist)\n",
    "strg=' & '.join(slist)\n",
    "print(strg)"
   ]
  },
  {
   "cell_type": "markdown",
   "id": "f9b0b093-a749-4212-8ad5-696c36686a5f",
   "metadata": {},
   "source": [
    "### string to list"
   ]
  },
  {
   "cell_type": "code",
   "execution_count": 17,
   "id": "f8cd3473-9cc3-4887-9a5b-3eeca8ee6630",
   "metadata": {},
   "outputs": [
    {
     "name": "stdout",
     "output_type": "stream",
     "text": [
      "I love Data Science & Python\n",
      "['I love Data Science', 'Python']\n"
     ]
    }
   ],
   "source": [
    "input_str = 'I love Data Science & Python'\n",
    "print(input_str)\n",
    "list = input_str.split(' & ')\n",
    "print(list)\n"
   ]
  },
  {
   "cell_type": "markdown",
   "id": "cd062b7f-6a16-4ec2-8566-d1be286b688d",
   "metadata": {},
   "source": [
    "### selecting an element from the nested list"
   ]
  },
  {
   "cell_type": "code",
   "execution_count": 24,
   "id": "d01b1ecc-f67f-49ed-837f-8fdb2169da59",
   "metadata": {},
   "outputs": [
    {
     "name": "stdout",
     "output_type": "stream",
     "text": [
      "Python\n"
     ]
    }
   ],
   "source": [
    "input_list = [['SAS','R'],['Tableau','SQL'],['Python','Java']]\n",
    "python = input_list[2][0]\n",
    "print(python) "
   ]
  },
  {
   "cell_type": "markdown",
   "id": "e9e330cd-e960-4f72-97b3-0a01a4c8a26f",
   "metadata": {},
   "source": [
    "### slicing"
   ]
  },
  {
   "cell_type": "code",
   "execution_count": 29,
   "id": "fe533379-e653-4cc1-8837-ab766b2eac39",
   "metadata": {},
   "outputs": [
    {
     "name": "stdout",
     "output_type": "stream",
     "text": [
      "['A', 'B', 'C']\n",
      "['A', 'B', 'C']\n"
     ]
    }
   ],
   "source": [
    "names = ['A', 'B', 'C', 'D', 'E']\n",
    "print(names[:3])   \n",
    "print(names[0:3])  "
   ]
  },
  {
   "cell_type": "code",
   "execution_count": 30,
   "id": "d800cff3-c851-4ee7-9944-a3d99953f04c",
   "metadata": {},
   "outputs": [
    {
     "data": {
      "text/plain": [
       "25"
      ]
     },
     "execution_count": 30,
     "metadata": {},
     "output_type": "execute_result"
    }
   ],
   "source": [
    "list_1 =[2, 33, 222, 14, 25]\n",
    "list_1[-1]"
   ]
  },
  {
   "cell_type": "markdown",
   "id": "6d87395b-ea81-41f4-91c5-e3406b94a348",
   "metadata": {},
   "source": [
    "### tuple"
   ]
  },
  {
   "cell_type": "code",
   "execution_count": 28,
   "id": "f7a81764-b132-4e5f-9580-53e6108b20fd",
   "metadata": {},
   "outputs": [
    {
     "name": "stdout",
     "output_type": "stream",
     "text": [
      "('Monty Python', 'British', 1969, 'Python')\n"
     ]
    }
   ],
   "source": [
    "#tuples are immutable, so you create a new tuple to add elements.\n",
    "input_tuple = ('Monty Python', 'British', 1969)\n",
    "new_tuple = input_tuple + ('Python',)\n",
    "print(new_tuple)"
   ]
  },
  {
   "cell_type": "code",
   "execution_count": null,
   "id": "96925fb5-fcf5-4e47-b5e2-c0f2a3e7b22a",
   "metadata": {},
   "outputs": [],
   "source": []
  }
 ],
 "metadata": {
  "kernelspec": {
   "display_name": "Python 3 (ipykernel)",
   "language": "python",
   "name": "python3"
  },
  "language_info": {
   "codemirror_mode": {
    "name": "ipython",
    "version": 3
   },
   "file_extension": ".py",
   "mimetype": "text/x-python",
   "name": "python",
   "nbconvert_exporter": "python",
   "pygments_lexer": "ipython3",
   "version": "3.12.4"
  }
 },
 "nbformat": 4,
 "nbformat_minor": 5
}
