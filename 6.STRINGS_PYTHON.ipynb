{
 "cells": [
  {
   "cell_type": "markdown",
   "id": "92cfed5b-61b0-4336-a30b-79a38b8d1670",
   "metadata": {},
   "source": [
    "# **PYTHON STRINGS**"
   ]
  },
  {
   "cell_type": "markdown",
   "id": "63e54bc5-218b-4125-82c1-dba3186e61ef",
   "metadata": {},
   "source": [
    "## **String is a sequence of character**"
   ]
  },
  {
   "cell_type": "markdown",
   "id": "2aadf07e-9639-48c7-9760-554f3e1da189",
   "metadata": {},
   "source": [
    "### Access String Characters in Python: INDEXING, NEGATIVE INDEXING AND SLICING"
   ]
  },
  {
   "cell_type": "code",
   "execution_count": 2,
   "id": "02a6d720-c5b9-4f80-bdc5-40d1963b7b08",
   "metadata": {},
   "outputs": [
    {
     "name": "stdout",
     "output_type": "stream",
     "text": [
      "r\n",
      "a\n",
      "reebhad\n"
     ]
    }
   ],
   "source": [
    "name='sreebhadra'\n",
    "print(name[1])\n",
    "print(name[-1])\n",
    "print(name[1:-2])"
   ]
  },
  {
   "cell_type": "markdown",
   "id": "1b0ac8a3-6e5b-431b-a758-5b4e7472e108",
   "metadata": {},
   "source": [
    "### Python Strings are Immutable"
   ]
  },
  {
   "cell_type": "code",
   "execution_count": 19,
   "id": "c6975ba4-1105-4a57-8403-bc527967fe0c",
   "metadata": {},
   "outputs": [
    {
     "name": "stdout",
     "output_type": "stream",
     "text": [
      "Hola Amigos\n"
     ]
    }
   ],
   "source": [
    "message = 'Hola Amigos'\n",
    "#message[0] = 'H'\n",
    "print(message)"
   ]
  },
  {
   "cell_type": "code",
   "execution_count": 5,
   "id": "75a37118-a813-43e6-a9f6-35f55497cbf4",
   "metadata": {},
   "outputs": [
    {
     "name": "stdout",
     "output_type": "stream",
     "text": [
      "Hello Friends\n"
     ]
    }
   ],
   "source": [
    "message = 'Hola Amigos'\n",
    "message = 'Hello Friends'\n",
    "\n",
    "print(message)"
   ]
  },
  {
   "cell_type": "markdown",
   "id": "7be02f2a-322d-4550-8458-fa19bae8ec88",
   "metadata": {},
   "source": [
    "### Python multiline string"
   ]
  },
  {
   "cell_type": "code",
   "execution_count": 6,
   "id": "9989a38f-9c41-4fe6-b5cc-5a9de0a19bee",
   "metadata": {},
   "outputs": [
    {
     "name": "stdout",
     "output_type": "stream",
     "text": [
      "\n",
      "OM\n",
      "Adithi devo bhava\n",
      "\n"
     ]
    }
   ],
   "source": [
    "message = \"\"\"\n",
    "OM\n",
    "Adithi devo bhava\n",
    "\"\"\"\n",
    "\n",
    "print(message)"
   ]
  },
  {
   "cell_type": "markdown",
   "id": "eb80f8b3-aaea-45f7-8883-9070237112b3",
   "metadata": {},
   "source": [
    "### Python String Operations"
   ]
  },
  {
   "cell_type": "markdown",
   "id": "820277de-e330-4071-9cab-0f5f02ef7035",
   "metadata": {},
   "source": [
    "### 1. Compare Two Strings"
   ]
  },
  {
   "cell_type": "code",
   "execution_count": 8,
   "id": "78a43780-e1fc-44b8-b150-de40ae300d77",
   "metadata": {},
   "outputs": [
    {
     "name": "stdout",
     "output_type": "stream",
     "text": [
      "False\n",
      "True\n"
     ]
    }
   ],
   "source": [
    "str1 = \"Hello\"\n",
    "str2 = \"Hmmmm\"\n",
    "str3 = \"Hello\"\n",
    "\n",
    "print(str1 == str2)\n",
    "print(str1 == str3)"
   ]
  },
  {
   "cell_type": "markdown",
   "id": "518dff3f-c7fb-4baa-aad0-d3cd09b38c5e",
   "metadata": {},
   "source": [
    "### 2. Join Two or More Strings"
   ]
  },
  {
   "cell_type": "code",
   "execution_count": 9,
   "id": "cec28ec1-83ee-434a-879e-b8b72ee65559",
   "metadata": {},
   "outputs": [
    {
     "name": "stdout",
     "output_type": "stream",
     "text": [
      "Hello, Jack\n"
     ]
    }
   ],
   "source": [
    "a = \"Hello, \"\n",
    "b = \"Jack\"\n",
    "\n",
    "result = a + b\n",
    "print(result)"
   ]
  },
  {
   "cell_type": "markdown",
   "id": "4f7a861c-4a6b-40a7-828d-2808a60f098b",
   "metadata": {},
   "source": [
    "### Iterate Through a Python String using for loop"
   ]
  },
  {
   "cell_type": "code",
   "execution_count": 10,
   "id": "62f5c7c3-52d1-4241-96da-d9c50556becf",
   "metadata": {},
   "outputs": [
    {
     "name": "stdout",
     "output_type": "stream",
     "text": [
      "H\n",
      "e\n",
      "l\n",
      "l\n",
      "o\n"
     ]
    }
   ],
   "source": [
    "a = 'Hello'\n",
    "for i in a:\n",
    "    print(i)"
   ]
  },
  {
   "cell_type": "markdown",
   "id": "18982889-42e7-4653-83fb-61967567d61d",
   "metadata": {},
   "source": [
    "### Python string length: len()"
   ]
  },
  {
   "cell_type": "code",
   "execution_count": 11,
   "id": "2a616bf2-bd79-4544-b5ec-f61e414ba2d3",
   "metadata": {},
   "outputs": [
    {
     "name": "stdout",
     "output_type": "stream",
     "text": [
      "5\n"
     ]
    }
   ],
   "source": [
    "a = 'Hello'\n",
    "print(len(a))"
   ]
  },
  {
   "cell_type": "markdown",
   "id": "cba61d9d-e42d-4b50-b433-8336271b3178",
   "metadata": {},
   "source": [
    "### String Membership Test"
   ]
  },
  {
   "cell_type": "code",
   "execution_count": 13,
   "id": "a18c7f89-856d-45b6-b3aa-7132fe3c15a2",
   "metadata": {},
   "outputs": [
    {
     "name": "stdout",
     "output_type": "stream",
     "text": [
      "True\n",
      "False\n"
     ]
    }
   ],
   "source": [
    "print('a' in 'program') \n",
    "print('ram' not in 'program') "
   ]
  },
  {
   "cell_type": "markdown",
   "id": "dc299bc8-c2a8-4dba-8977-4860158a6fb2",
   "metadata": {},
   "source": [
    "### Escape sequences in python: use of single quote and double quote inside a string"
   ]
  },
  {
   "cell_type": "code",
   "execution_count": 16,
   "id": "970f2524-4f75-4941-a26e-092aead33d4b",
   "metadata": {},
   "outputs": [
    {
     "name": "stdout",
     "output_type": "stream",
     "text": [
      "He said, \"What's there?\"\n"
     ]
    }
   ],
   "source": [
    "# escape double quotes\n",
    "example = \"He said, \\\"What's there?\\\"\"\n",
    "# escape single quotes\n",
    "example = 'He said, \"What\\'s there?\"'\n",
    "print(example)\n",
    "\n",
    "#example = \"He said, \"What's there?\"\"\n",
    "#print(example) # throws error"
   ]
  },
  {
   "cell_type": "markdown",
   "id": "1063c6e5-0ebb-45cb-bdeb-806176436cfe",
   "metadata": {},
   "source": [
    "### Python String Formatting (f-Strings)"
   ]
  },
  {
   "cell_type": "code",
   "execution_count": 18,
   "id": "4d817d46-7883-49f8-84ec-eb9376be2c71",
   "metadata": {},
   "outputs": [
    {
     "name": "stdout",
     "output_type": "stream",
     "text": [
      "Sree is from India\n"
     ]
    }
   ],
   "source": [
    "name = 'Sree'\n",
    "country = 'India'\n",
    "\n",
    "print(f'{name} is from {country}')"
   ]
  },
  {
   "cell_type": "markdown",
   "id": "0b062bfa-338c-494a-b9b2-484cfed023ad",
   "metadata": {},
   "source": [
    "### upper() \tConverts the string to uppercase"
   ]
  },
  {
   "cell_type": "code",
   "execution_count": 2,
   "id": "daa69eb0-7097-4024-8dcb-348f336c8fc8",
   "metadata": {},
   "outputs": [
    {
     "name": "stdout",
     "output_type": "stream",
     "text": [
      "HELLO, WORLD!\n"
     ]
    }
   ],
   "source": [
    "text = \"Hello, World!\"\n",
    "print(text.upper())"
   ]
  },
  {
   "cell_type": "markdown",
   "id": "aa920a64-1759-4520-b6b9-40c31e55ea8e",
   "metadata": {},
   "source": [
    "### lower()\tConverts the string to lowercase"
   ]
  },
  {
   "cell_type": "code",
   "execution_count": 4,
   "id": "7074eb48-a12b-4b3d-81d4-fc624098ad0d",
   "metadata": {},
   "outputs": [
    {
     "name": "stdout",
     "output_type": "stream",
     "text": [
      "hello, world!\n"
     ]
    }
   ],
   "source": [
    "text = \"Hello, World!\"\n",
    "print(text.lower())"
   ]
  },
  {
   "cell_type": "markdown",
   "id": "a87c1870-6045-4d63-8459-3b1cc86ba563",
   "metadata": {},
   "source": [
    "### partition()\tReturns a tuple"
   ]
  },
  {
   "cell_type": "code",
   "execution_count": 8,
   "id": "08bb40cc-f122-421c-990b-2be74218e5d1",
   "metadata": {},
   "outputs": [
    {
     "name": "stdout",
     "output_type": "stream",
     "text": [
      "('Hello', ',', ' World!')\n"
     ]
    }
   ],
   "source": [
    "text = \"Hello, World!\"\n",
    "print(text.partition(\",\"))"
   ]
  },
  {
   "cell_type": "markdown",
   "id": "fbd84326-f617-4fd0-85ea-92e678848638",
   "metadata": {},
   "source": [
    "### replace()\tReplaces substring inside"
   ]
  },
  {
   "cell_type": "code",
   "execution_count": 11,
   "id": "8faa0613-56c8-4577-a7a4-178c081a0e3d",
   "metadata": {},
   "outputs": [
    {
     "name": "stdout",
     "output_type": "stream",
     "text": [
      "Hello, Python!\n"
     ]
    }
   ],
   "source": [
    "text = \"Hello, World!\"\n",
    "print(text.replace(\"World\", \"Python\"))"
   ]
  },
  {
   "cell_type": "markdown",
   "id": "12276600-04f2-428e-9400-44d293a9cd7a",
   "metadata": {},
   "source": [
    "### find()\tReturns the index of the first occurrence of substring"
   ]
  },
  {
   "cell_type": "code",
   "execution_count": 14,
   "id": "430c44ca-b981-4f5d-9337-cc2a92b3b173",
   "metadata": {},
   "outputs": [
    {
     "name": "stdout",
     "output_type": "stream",
     "text": [
      "4\n"
     ]
    }
   ],
   "source": [
    "text = \"Hello, World!\"\n",
    "print(text.find(\"o\"))"
   ]
  },
  {
   "cell_type": "markdown",
   "id": "3158f993-c081-44eb-b3ee-5a8069262413",
   "metadata": {},
   "source": [
    "### rstrip()\tRemoves trailing characters"
   ]
  },
  {
   "cell_type": "code",
   "execution_count": 19,
   "id": "2780083c-b5e9-4beb-84c9-31770a901266",
   "metadata": {},
   "outputs": [
    {
     "name": "stdout",
     "output_type": "stream",
     "text": [
      "Hello, World!\n"
     ]
    }
   ],
   "source": [
    "text = \"Hello, World!\"\n",
    "print(text.rstrip())"
   ]
  },
  {
   "cell_type": "markdown",
   "id": "876c674b-2b3a-4a19-ac8d-22bb7a9f0577",
   "metadata": {},
   "source": [
    "### split()\tSplits string from left"
   ]
  },
  {
   "cell_type": "code",
   "execution_count": 22,
   "id": "a7f1ce4d-58e5-423b-8fd1-997bbf43bdd5",
   "metadata": {},
   "outputs": [
    {
     "name": "stdout",
     "output_type": "stream",
     "text": [
      "['Hello', ' World!']\n"
     ]
    }
   ],
   "source": [
    "text = \"Hello, World!\"\n",
    "print(text.split(\",\"))"
   ]
  },
  {
   "cell_type": "markdown",
   "id": "58bf621a-707e-43f8-9b5d-a4710b7b7596",
   "metadata": {},
   "source": [
    "### startswith()\tChecks if string starts with the specified string"
   ]
  },
  {
   "cell_type": "code",
   "execution_count": 25,
   "id": "16169ba2-30db-4c94-93e4-6185f304389c",
   "metadata": {},
   "outputs": [
    {
     "name": "stdout",
     "output_type": "stream",
     "text": [
      "True\n"
     ]
    }
   ],
   "source": [
    "text = \"Hello, World!\"\n",
    "print(text.startswith(\"Hello\"))"
   ]
  },
  {
   "cell_type": "markdown",
   "id": "d17a6a22-a217-4704-9066-9f6d4dd6adb9",
   "metadata": {},
   "source": [
    "### isnumeric()\tChecks numeric characters"
   ]
  },
  {
   "cell_type": "code",
   "execution_count": 28,
   "id": "46524610-2b14-4671-bebe-8720a9e87b69",
   "metadata": {},
   "outputs": [
    {
     "name": "stdout",
     "output_type": "stream",
     "text": [
      "True\n"
     ]
    }
   ],
   "source": [
    "text = \"12345\"\n",
    "print(text.isnumeric())"
   ]
  },
  {
   "cell_type": "markdown",
   "id": "063f45d2-1d86-498e-a086-6c8a8c39e8c9",
   "metadata": {},
   "source": [
    "### index()\tReturns index of substring"
   ]
  },
  {
   "cell_type": "code",
   "execution_count": 31,
   "id": "8fcbe147-1f0e-4beb-813c-fa1dba475d89",
   "metadata": {},
   "outputs": [
    {
     "name": "stdout",
     "output_type": "stream",
     "text": [
      "7\n"
     ]
    }
   ],
   "source": [
    "text = \"Hello, World!\"\n",
    "print(text.index(\"World\"))"
   ]
  },
  {
   "cell_type": "code",
   "execution_count": null,
   "id": "6d36f33a-847d-4375-b09d-063566aecdf7",
   "metadata": {},
   "outputs": [],
   "source": []
  }
 ],
 "metadata": {
  "kernelspec": {
   "display_name": "Python 3 (ipykernel)",
   "language": "python",
   "name": "python3"
  },
  "language_info": {
   "codemirror_mode": {
    "name": "ipython",
    "version": 3
   },
   "file_extension": ".py",
   "mimetype": "text/x-python",
   "name": "python",
   "nbconvert_exporter": "python",
   "pygments_lexer": "ipython3",
   "version": "3.12.4"
  }
 },
 "nbformat": 4,
 "nbformat_minor": 5
}
