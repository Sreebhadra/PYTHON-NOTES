{
 "cells": [
  {
   "cell_type": "markdown",
   "id": "e4a7a4ee-93cc-4be1-ab0e-ce9da90825c2",
   "metadata": {},
   "source": [
    "# MATH MODULES"
   ]
  },
  {
   "cell_type": "code",
   "execution_count": 1,
   "id": "f0e3ee8b-9468-4f52-800e-f592a1d17a49",
   "metadata": {},
   "outputs": [
    {
     "name": "stdout",
     "output_type": "stream",
     "text": [
      "Help on built-in module math:\n",
      "\n",
      "NAME\n",
      "    math\n",
      "\n",
      "DESCRIPTION\n",
      "    This module provides access to the mathematical functions\n",
      "    defined by the C standard.\n",
      "\n",
      "FUNCTIONS\n",
      "    acos(x, /)\n",
      "        Return the arc cosine (measured in radians) of x.\n",
      "\n",
      "        The result is between 0 and pi.\n",
      "\n",
      "    acosh(x, /)\n",
      "        Return the inverse hyperbolic cosine of x.\n",
      "\n",
      "    asin(x, /)\n",
      "        Return the arc sine (measured in radians) of x.\n",
      "\n",
      "        The result is between -pi/2 and pi/2.\n",
      "\n",
      "    asinh(x, /)\n",
      "        Return the inverse hyperbolic sine of x.\n",
      "\n",
      "    atan(x, /)\n",
      "        Return the arc tangent (measured in radians) of x.\n",
      "\n",
      "        The result is between -pi/2 and pi/2.\n",
      "\n",
      "    atan2(y, x, /)\n",
      "        Return the arc tangent (measured in radians) of y/x.\n",
      "\n",
      "        Unlike atan(y/x), the signs of both x and y are considered.\n",
      "\n",
      "    atanh(x, /)\n",
      "        Return the inverse hyperbolic tangent of x.\n",
      "\n",
      "    cbrt(x, /)\n",
      "        Return the cube root of x.\n",
      "\n",
      "    ceil(x, /)\n",
      "        Return the ceiling of x as an Integral.\n",
      "\n",
      "        This is the smallest integer >= x.\n",
      "\n",
      "    comb(n, k, /)\n",
      "        Number of ways to choose k items from n items without repetition and without order.\n",
      "\n",
      "        Evaluates to n! / (k! * (n - k)!) when k <= n and evaluates\n",
      "        to zero when k > n.\n",
      "\n",
      "        Also called the binomial coefficient because it is equivalent\n",
      "        to the coefficient of k-th term in polynomial expansion of the\n",
      "        expression (1 + x)**n.\n",
      "\n",
      "        Raises TypeError if either of the arguments are not integers.\n",
      "        Raises ValueError if either of the arguments are negative.\n",
      "\n",
      "    copysign(x, y, /)\n",
      "        Return a float with the magnitude (absolute value) of x but the sign of y.\n",
      "\n",
      "        On platforms that support signed zeros, copysign(1.0, -0.0)\n",
      "        returns -1.0.\n",
      "\n",
      "    cos(x, /)\n",
      "        Return the cosine of x (measured in radians).\n",
      "\n",
      "    cosh(x, /)\n",
      "        Return the hyperbolic cosine of x.\n",
      "\n",
      "    degrees(x, /)\n",
      "        Convert angle x from radians to degrees.\n",
      "\n",
      "    dist(p, q, /)\n",
      "        Return the Euclidean distance between two points p and q.\n",
      "\n",
      "        The points should be specified as sequences (or iterables) of\n",
      "        coordinates.  Both inputs must have the same dimension.\n",
      "\n",
      "        Roughly equivalent to:\n",
      "            sqrt(sum((px - qx) ** 2.0 for px, qx in zip(p, q)))\n",
      "\n",
      "    erf(x, /)\n",
      "        Error function at x.\n",
      "\n",
      "    erfc(x, /)\n",
      "        Complementary error function at x.\n",
      "\n",
      "    exp(x, /)\n",
      "        Return e raised to the power of x.\n",
      "\n",
      "    exp2(x, /)\n",
      "        Return 2 raised to the power of x.\n",
      "\n",
      "    expm1(x, /)\n",
      "        Return exp(x)-1.\n",
      "\n",
      "        This function avoids the loss of precision involved in the direct evaluation of exp(x)-1 for small x.\n",
      "\n",
      "    fabs(x, /)\n",
      "        Return the absolute value of the float x.\n",
      "\n",
      "    factorial(n, /)\n",
      "        Find n!.\n",
      "\n",
      "        Raise a ValueError if x is negative or non-integral.\n",
      "\n",
      "    floor(x, /)\n",
      "        Return the floor of x as an Integral.\n",
      "\n",
      "        This is the largest integer <= x.\n",
      "\n",
      "    fmod(x, y, /)\n",
      "        Return fmod(x, y), according to platform C.\n",
      "\n",
      "        x % y may differ.\n",
      "\n",
      "    frexp(x, /)\n",
      "        Return the mantissa and exponent of x, as pair (m, e).\n",
      "\n",
      "        m is a float and e is an int, such that x = m * 2.**e.\n",
      "        If x is 0, m and e are both 0.  Else 0.5 <= abs(m) < 1.0.\n",
      "\n",
      "    fsum(seq, /)\n",
      "        Return an accurate floating point sum of values in the iterable seq.\n",
      "\n",
      "        Assumes IEEE-754 floating point arithmetic.\n",
      "\n",
      "    gamma(x, /)\n",
      "        Gamma function at x.\n",
      "\n",
      "    gcd(*integers)\n",
      "        Greatest Common Divisor.\n",
      "\n",
      "    hypot(...)\n",
      "        hypot(*coordinates) -> value\n",
      "\n",
      "        Multidimensional Euclidean distance from the origin to a point.\n",
      "\n",
      "        Roughly equivalent to:\n",
      "            sqrt(sum(x**2 for x in coordinates))\n",
      "\n",
      "        For a two dimensional point (x, y), gives the hypotenuse\n",
      "        using the Pythagorean theorem:  sqrt(x*x + y*y).\n",
      "\n",
      "        For example, the hypotenuse of a 3/4/5 right triangle is:\n",
      "\n",
      "            >>> hypot(3.0, 4.0)\n",
      "            5.0\n",
      "\n",
      "    isclose(a, b, *, rel_tol=1e-09, abs_tol=0.0)\n",
      "        Determine whether two floating point numbers are close in value.\n",
      "\n",
      "          rel_tol\n",
      "            maximum difference for being considered \"close\", relative to the\n",
      "            magnitude of the input values\n",
      "          abs_tol\n",
      "            maximum difference for being considered \"close\", regardless of the\n",
      "            magnitude of the input values\n",
      "\n",
      "        Return True if a is close in value to b, and False otherwise.\n",
      "\n",
      "        For the values to be considered close, the difference between them\n",
      "        must be smaller than at least one of the tolerances.\n",
      "\n",
      "        -inf, inf and NaN behave similarly to the IEEE 754 Standard.  That\n",
      "        is, NaN is not close to anything, even itself.  inf and -inf are\n",
      "        only close to themselves.\n",
      "\n",
      "    isfinite(x, /)\n",
      "        Return True if x is neither an infinity nor a NaN, and False otherwise.\n",
      "\n",
      "    isinf(x, /)\n",
      "        Return True if x is a positive or negative infinity, and False otherwise.\n",
      "\n",
      "    isnan(x, /)\n",
      "        Return True if x is a NaN (not a number), and False otherwise.\n",
      "\n",
      "    isqrt(n, /)\n",
      "        Return the integer part of the square root of the input.\n",
      "\n",
      "    lcm(*integers)\n",
      "        Least Common Multiple.\n",
      "\n",
      "    ldexp(x, i, /)\n",
      "        Return x * (2**i).\n",
      "\n",
      "        This is essentially the inverse of frexp().\n",
      "\n",
      "    lgamma(x, /)\n",
      "        Natural logarithm of absolute value of Gamma function at x.\n",
      "\n",
      "    log(...)\n",
      "        log(x, [base=math.e])\n",
      "        Return the logarithm of x to the given base.\n",
      "\n",
      "        If the base is not specified, returns the natural logarithm (base e) of x.\n",
      "\n",
      "    log10(x, /)\n",
      "        Return the base 10 logarithm of x.\n",
      "\n",
      "    log1p(x, /)\n",
      "        Return the natural logarithm of 1+x (base e).\n",
      "\n",
      "        The result is computed in a way which is accurate for x near zero.\n",
      "\n",
      "    log2(x, /)\n",
      "        Return the base 2 logarithm of x.\n",
      "\n",
      "    modf(x, /)\n",
      "        Return the fractional and integer parts of x.\n",
      "\n",
      "        Both results carry the sign of x and are floats.\n",
      "\n",
      "    nextafter(x, y, /, *, steps=None)\n",
      "        Return the floating-point value the given number of steps after x towards y.\n",
      "\n",
      "        If steps is not specified or is None, it defaults to 1.\n",
      "\n",
      "        Raises a TypeError, if x or y is not a double, or if steps is not an integer.\n",
      "        Raises ValueError if steps is negative.\n",
      "\n",
      "    perm(n, k=None, /)\n",
      "        Number of ways to choose k items from n items without repetition and with order.\n",
      "\n",
      "        Evaluates to n! / (n - k)! when k <= n and evaluates\n",
      "        to zero when k > n.\n",
      "\n",
      "        If k is not specified or is None, then k defaults to n\n",
      "        and the function returns n!.\n",
      "\n",
      "        Raises TypeError if either of the arguments are not integers.\n",
      "        Raises ValueError if either of the arguments are negative.\n",
      "\n",
      "    pow(x, y, /)\n",
      "        Return x**y (x to the power of y).\n",
      "\n",
      "    prod(iterable, /, *, start=1)\n",
      "        Calculate the product of all the elements in the input iterable.\n",
      "\n",
      "        The default start value for the product is 1.\n",
      "\n",
      "        When the iterable is empty, return the start value.  This function is\n",
      "        intended specifically for use with numeric values and may reject\n",
      "        non-numeric types.\n",
      "\n",
      "    radians(x, /)\n",
      "        Convert angle x from degrees to radians.\n",
      "\n",
      "    remainder(x, y, /)\n",
      "        Difference between x and the closest integer multiple of y.\n",
      "\n",
      "        Return x - n*y where n*y is the closest integer multiple of y.\n",
      "        In the case where x is exactly halfway between two multiples of\n",
      "        y, the nearest even value of n is used. The result is always exact.\n",
      "\n",
      "    sin(x, /)\n",
      "        Return the sine of x (measured in radians).\n",
      "\n",
      "    sinh(x, /)\n",
      "        Return the hyperbolic sine of x.\n",
      "\n",
      "    sqrt(x, /)\n",
      "        Return the square root of x.\n",
      "\n",
      "    sumprod(p, q, /)\n",
      "        Return the sum of products of values from two iterables p and q.\n",
      "\n",
      "        Roughly equivalent to:\n",
      "\n",
      "            sum(itertools.starmap(operator.mul, zip(p, q, strict=True)))\n",
      "\n",
      "        For float and mixed int/float inputs, the intermediate products\n",
      "        and sums are computed with extended precision.\n",
      "\n",
      "    tan(x, /)\n",
      "        Return the tangent of x (measured in radians).\n",
      "\n",
      "    tanh(x, /)\n",
      "        Return the hyperbolic tangent of x.\n",
      "\n",
      "    trunc(x, /)\n",
      "        Truncates the Real x to the nearest Integral toward 0.\n",
      "\n",
      "        Uses the __trunc__ magic method.\n",
      "\n",
      "    ulp(x, /)\n",
      "        Return the value of the least significant bit of the float x.\n",
      "\n",
      "DATA\n",
      "    e = 2.718281828459045\n",
      "    inf = inf\n",
      "    nan = nan\n",
      "    pi = 3.141592653589793\n",
      "    tau = 6.283185307179586\n",
      "\n",
      "FILE\n",
      "    (built-in)\n",
      "\n",
      "\n"
     ]
    }
   ],
   "source": [
    "import math\n",
    "help(math)"
   ]
  },
  {
   "cell_type": "markdown",
   "id": "64aa9fe0-b164-4869-920f-75dafa4a1712",
   "metadata": {},
   "source": [
    "## **math module** is used to perform various mathematical calculations, such as numeric, trigonometric, logarithmic, and exponential calculations."
   ]
  },
  {
   "cell_type": "code",
   "execution_count": 7,
   "id": "ce082115-a837-4f70-b325-05bb37fc6872",
   "metadata": {},
   "outputs": [
    {
     "name": "stdout",
     "output_type": "stream",
     "text": [
      "3.141592653589793\n",
      "2.718281828459045\n",
      "6.283185307179586\n",
      "inf\n",
      "-inf\n",
      "True\n",
      "True\n"
     ]
    }
   ],
   "source": [
    "import math\n",
    "print(math.pi) \n",
    "print(math.e) #eulers number\n",
    "print(math.tau)\n",
    "print(math.nan) #Not a Number is a special value that is used to indicate that a mathematical operation is undefined or the result is not a number.\n",
    "print(math.inf) #positive infinity\n",
    "print(-math.inf) #negative infinity\n",
    "#Comparing the values of infinity with the maximum floating point value\n",
    "print (math.inf > 10e108) \n",
    "print (-math.inf < -10e108)\n"
   ]
  },
  {
   "cell_type": "markdown",
   "id": "bf8c654c-c327-46a3-820a-e041d9547b22",
   "metadata": {},
   "source": [
    "**AREA OF CIRCLE, SQUARE, RECTANGLE AND TRIANGLE**"
   ]
  },
  {
   "cell_type": "code",
   "execution_count": 4,
   "id": "89dc487b-5f9b-4a7d-945e-f3214cbca05f",
   "metadata": {},
   "outputs": [
    {
     "name": "stdin",
     "output_type": "stream",
     "text": [
      "enter the radius of the circle:  3.24\n",
      "enter the side of the square:  33\n",
      "enter the length of the rectangle & triangle:  23\n",
      "enter the breadth of the rectangle:  45\n",
      "enter the height of the triangle:  78\n"
     ]
    },
    {
     "name": "stdout",
     "output_type": "stream",
     "text": [
      "\n",
      "Area of the circle is 32.979183040324216\n",
      "Area of the square is 1089.0\n",
      "Area of the rectangle is 1035.0\n",
      "Area of the triangle is 1755.0\n"
     ]
    }
   ],
   "source": [
    "import math\n",
    "\n",
    "#circle\n",
    "radius=float(input(\"enter the radius of the circle: \"))\n",
    "pie=math.pi\n",
    "areacircle=pie*radius*radius\n",
    "\n",
    "#square\n",
    "side=float(input(\"enter the side of the square: \"))\n",
    "areasq=side*side\n",
    "\n",
    "#rectangle #triangle\n",
    "length=float(input(\"enter the length of the rectangle & triangle: \"))\n",
    "breadth=float(input(\"enter the breadth of the rectangle: \"))\n",
    "height=float(input(\"enter the height of the triangle: \"))\n",
    "arearect=length*breadth\n",
    "areatri=1/2*breadth*height\n",
    "\n",
    "#print\n",
    "print(\"\\nArea of the circle is {}\".format(areacircle))\n",
    "print(\"Area of the square is {}\".format(areasq))\n",
    "print(\"Area of the rectangle is {}\".format(arearect))\n",
    "print(\"Area of the triangle is {}\".format(areatri))\n"
   ]
  },
  {
   "cell_type": "markdown",
   "id": "1bc854d8-923f-45a5-99a3-e3169f38f9a0",
   "metadata": {},
   "source": [
    "### **NUMBER FUNCTIONS**"
   ]
  },
  {
   "cell_type": "markdown",
   "id": "caaa4d70-a6a1-4f7f-b288-2066196a2a5d",
   "metadata": {},
   "source": [
    "The math.ceil() method maps a floating-point number to the smallest succeeding integer"
   ]
  },
  {
   "cell_type": "code",
   "execution_count": 13,
   "id": "3849b4c2-e3bc-47f9-8d73-331129a69d6c",
   "metadata": {},
   "outputs": [
    {
     "name": "stdout",
     "output_type": "stream",
     "text": [
      "101\n"
     ]
    }
   ],
   "source": [
    "P=100.3\n",
    "print(math.ceil(P))"
   ]
  },
  {
   "cell_type": "markdown",
   "id": "6b6db0ea-89b5-4568-9a20-861ca5d3c96c",
   "metadata": {},
   "source": [
    "\n",
    "The math.floor() method maps a floating-point number to the greatest preceeding integer"
   ]
  },
  {
   "cell_type": "code",
   "execution_count": 17,
   "id": "af5809e1-df3e-485d-8f63-c91a5863f345",
   "metadata": {},
   "outputs": [
    {
     "name": "stdout",
     "output_type": "stream",
     "text": [
      "200\n"
     ]
    }
   ],
   "source": [
    "p=200.6\n",
    "print(math.floor(p))"
   ]
  },
  {
   "cell_type": "markdown",
   "id": "7bd17b9e-c368-4f75-9658-8be77089254a",
   "metadata": {},
   "source": [
    "math.factorial(n) method returns the product of all natural numbers less than or equal to n, if n a positive integer. However, if n = 0, it returns 1. :"
   ]
  },
  {
   "cell_type": "code",
   "execution_count": 21,
   "id": "3236ebe5-95a7-4b4b-8322-287433d0273e",
   "metadata": {},
   "outputs": [
    {
     "name": "stdin",
     "output_type": "stream",
     "text": [
      "enter a number to find the factorial:  0\n"
     ]
    },
    {
     "name": "stdout",
     "output_type": "stream",
     "text": [
      "0! = 1 \n"
     ]
    }
   ],
   "source": [
    "n=int(input(\"enter a number to find the factorial: \"))\n",
    "print(\"{}! = {} \".format(n,math.factorial(n)))"
   ]
  },
  {
   "cell_type": "markdown",
   "id": "738766f0-741f-4c6f-b2f5-3a0aaf7dfd0c",
   "metadata": {},
   "source": [
    "The math.gcd() method returns the greatest common denominator for two numbers; we can use it to reduce fractions.)"
   ]
  },
  {
   "cell_type": "code",
   "execution_count": 24,
   "id": "8eba0eb0-2d0b-4243-8dd4-ba148fc7e2be",
   "metadata": {},
   "outputs": [
    {
     "name": "stdout",
     "output_type": "stream",
     "text": [
      "5\n"
     ]
    }
   ],
   "source": [
    "#GCD for 25 and 120 is 5, so we can divide the numerator and denominator by 5 to get a reduced fraction.\n",
    "gcd=math.gcd(25,120)\n",
    "print(gcd)"
   ]
  },
  {
   "cell_type": "markdown",
   "id": "8e75da06-3689-40e8-b595-329b29fd02de",
   "metadata": {},
   "source": [
    "math.fabs() method removes the negative sign of a given number, if any, and returns its absolute value as a float"
   ]
  },
  {
   "cell_type": "code",
   "execution_count": 26,
   "id": "3dfce161-f6f6-4a2b-93b6-37b3da29e5f4",
   "metadata": {},
   "outputs": [
    {
     "name": "stdout",
     "output_type": "stream",
     "text": [
      "100.4\n"
     ]
    }
   ],
   "source": [
    "print(math.fabs(-100.4))"
   ]
  },
  {
   "cell_type": "markdown",
   "id": "057b724f-70d9-463c-8a89-127f082383dd",
   "metadata": {},
   "source": [
    "### **POWER AND LLOGARTHMIC FUNCTIONS**"
   ]
  },
  {
   "cell_type": "markdown",
   "id": "7457d7fd-e94e-47e5-9b02-2aee37d48555",
   "metadata": {},
   "source": [
    "The math.pow() method returns a floating-point value representing the value of x to the power of y\n",
    "math.pow(x,y) for (x^y)"
   ]
  },
  {
   "cell_type": "markdown",
   "id": "2144e096-a67f-4f41-9068-50e0adfb29d3",
   "metadata": {},
   "source": [
    "math.pow() method by forecasting an investment. \n",
    "\n",
    "requirements: the initial deposit, the annual interest rate, and the number of years that you invest your money in an investment account. \n",
    "    \n",
    "we can calculate the final amount of the investment: amount=deposit*(1+interest)^yesrs"
   ]
  },
  {
   "cell_type": "code",
   "execution_count": 27,
   "id": "7e7beaa2-ff7b-4d81-b7dc-c14dd53bf723",
   "metadata": {},
   "outputs": [
    {
     "name": "stdout",
     "output_type": "stream",
     "text": [
      "The final amount after five years is 12166.529024000001\n"
     ]
    }
   ],
   "source": [
    "deposit = 10000\n",
    "interest_rate = 0.04\n",
    "number_years = 5\n",
    "final_amount = deposit * math.pow(1 + interest_rate, number_years)\n",
    "print(\"The final amount after five years is\", final_amount)"
   ]
  },
  {
   "cell_type": "markdown",
   "id": "3e7fa4a6-f78e-4e33-8e33-9ccd64b872de",
   "metadata": {},
   "source": [
    "math.exp() is equal to e^x"
   ]
  },
  {
   "cell_type": "markdown",
   "id": "ea0259da-d8f3-4d52-ad68-3f2b75349484",
   "metadata": {},
   "source": [
    "math.exp(n) is equal to math.pow(math.e,n)"
   ]
  },
  {
   "cell_type": "code",
   "execution_count": 29,
   "id": "c6cde920-87a7-49cf-9e81-14832e265691",
   "metadata": {},
   "outputs": [
    {
     "name": "stdout",
     "output_type": "stream",
     "text": [
      "20.085536923187668\n",
      "20.085536923187664\n"
     ]
    }
   ],
   "source": [
    "print(math.exp(3))\n",
    "print(math.pow(math.e,3))"
   ]
  },
  {
   "cell_type": "markdown",
   "id": "de876945-b19c-43ec-a0f6-8cd82b5d2fe9",
   "metadata": {},
   "source": [
    "math.sqrt returns the square root of a number"
   ]
  },
  {
   "cell_type": "code",
   "execution_count": 31,
   "id": "091997f3-e43d-4e23-96a5-e39ddfbafcbb",
   "metadata": {},
   "outputs": [
    {
     "name": "stdout",
     "output_type": "stream",
     "text": [
      "10.0\n"
     ]
    }
   ],
   "source": [
    "print(math.sqrt(100))"
   ]
  },
  {
   "cell_type": "code",
   "execution_count": 35,
   "id": "5e2c6e42-cb85-4115-bd96-7cd0e94fdb35",
   "metadata": {},
   "outputs": [
    {
     "name": "stdout",
     "output_type": "stream",
     "text": [
      "distance formaula:  2.0\n"
     ]
    }
   ],
   "source": [
    "#distance formula= sqrt of [(x2-x1)^2 + (y2-y1)^2]\n",
    "x2=4\n",
    "x1=2\n",
    "y2=8\n",
    "y1=4\n",
    "print(\"distance formaula: \", math.sqrt(math.pow(x2-x1,2)+math.pow(y2-y2,2)))"
   ]
  },
  {
   "cell_type": "markdown",
   "id": "ac8a8b63-25a9-4c78-9f4b-3cc39216279f",
   "metadata": {},
   "source": [
    "math.log() method accepts two arguments, x and base. the default value of base is e i.e. loge(x), if we give two arguments then the base can be change i.e logb(x)."
   ]
  },
  {
   "cell_type": "code",
   "execution_count": 37,
   "id": "cc7d4066-b29b-4056-ad9d-da4caa12992b",
   "metadata": {},
   "outputs": [
    {
     "name": "stdout",
     "output_type": "stream",
     "text": [
      "6.907755278982137\n",
      "2.9999999999999996\n",
      "3.0\n"
     ]
    }
   ],
   "source": [
    "print(math.log(1000))\n",
    "print(math.log(1000,10))\n",
    "print(math.log10(1000))"
   ]
  },
  {
   "cell_type": "markdown",
   "id": "c26a7bd3-d8ba-49c0-9f94-b49f0e4cd454",
   "metadata": {},
   "source": [
    "### **TRIGNOMETRIC FUNCTIONS**"
   ]
  },
  {
   "cell_type": "markdown",
   "id": "0a33ef07-089c-4fc0-8d64-c020042e086f",
   "metadata": {},
   "source": [
    "math.sin(),math.cos() and math.tan() method returns the sine of a given value, where the value must be in radians. The returned value is a floating-point number between -1 and 1"
   ]
  },
  {
   "cell_type": "code",
   "execution_count": 40,
   "id": "cbc0ce77-9c5f-457d-8848-23b5dd4f570b",
   "metadata": {},
   "outputs": [
    {
     "name": "stdout",
     "output_type": "stream",
     "text": [
      "1.0\n",
      "1.0\n",
      "0.9999999999999999\n"
     ]
    }
   ],
   "source": [
    "print(math.sin(math.pi/2))\n",
    "print(math.cos(0))\n",
    "print(math.tan(math.pi/4))"
   ]
  },
  {
   "cell_type": "markdown",
   "id": "351f0745-3a2a-4bff-8f37-e989161145c6",
   "metadata": {},
   "source": [
    "math‍‍‍ module provides two useful methods for angular conversion. To convert a given angle from radians to degrees, use the math.degrees()->180/pi, and to convert a given angle from degrees to radians, use math.radians(x)-.pi/180"
   ]
  },
  {
   "cell_type": "code",
   "execution_count": 42,
   "id": "203e5e4e-4822-4a15-9d6d-041851c1022f",
   "metadata": {},
   "outputs": [
    {
     "name": "stdout",
     "output_type": "stream",
     "text": [
      "2578.3100780887044\n",
      "0.7853981633974483\n"
     ]
    }
   ],
   "source": [
    "print(math.degrees(45))\n",
    "print(math.radians(45))"
   ]
  },
  {
   "cell_type": "markdown",
   "id": "90b24ac9-2318-4dcc-a202-cb75f92b80a8",
   "metadata": {},
   "source": [
    "### **HYPERBOLIC FUNCTIONS**"
   ]
  },
  {
   "cell_type": "code",
   "execution_count": 50,
   "id": "224b0bd4-6bf1-4813-9cf7-b20705c26d17",
   "metadata": {},
   "outputs": [
    {
     "name": "stdout",
     "output_type": "stream",
     "text": [
      "1.0\n",
      "0.0\n",
      "0.0\n",
      "0.0\n",
      "0.881373587019543\n",
      "0.0\n"
     ]
    }
   ],
   "source": [
    "x = 0\n",
    "print(math.cosh(x))\n",
    "print(math.sinh(x))\n",
    "print(math.tanh(x))\n",
    "print(math.acosh(1))#inverse hyperbolic cosine\n",
    "print(math.asinh(1))#inverse hyperbolic sine\n",
    "print(math.atanh(0))#inverse hyperbolic tangent"
   ]
  },
  {
   "cell_type": "markdown",
   "id": "d4fd9894-48e4-4182-8b11-22770a23825a",
   "metadata": {},
   "source": [
    "## EXAMPLES"
   ]
  },
  {
   "cell_type": "code",
   "execution_count": 52,
   "id": "a0e39a9f-bfbc-4983-8d13-16e39af414ec",
   "metadata": {},
   "outputs": [
    {
     "name": "stdout",
     "output_type": "stream",
     "text": [
      "3.141592653589793\n",
      "-1.0\n",
      "22026.465794806718\n",
      "3.0\n",
      "1.1752011936438014\n",
      "720\n"
     ]
    }
   ],
   "source": [
    "import math\n",
    "\n",
    "print(math.pi)\n",
    "\n",
    "print(math.cos(math.pi))\n",
    "\n",
    "print(math.exp(10))\n",
    "\n",
    "print(math.log10(1000))\n",
    "\n",
    "print(math.sinh(1))\n",
    "\n",
    "print(math.factorial(6))"
   ]
  },
  {
   "cell_type": "code",
   "execution_count": null,
   "id": "70e02183-eaa0-418c-8a08-b5d9fae60a59",
   "metadata": {},
   "outputs": [],
   "source": []
  }
 ],
 "metadata": {
  "kernelspec": {
   "display_name": "Python 3 (ipykernel)",
   "language": "python",
   "name": "python3"
  },
  "language_info": {
   "codemirror_mode": {
    "name": "ipython",
    "version": 3
   },
   "file_extension": ".py",
   "mimetype": "text/x-python",
   "name": "python",
   "nbconvert_exporter": "python",
   "pygments_lexer": "ipython3",
   "version": "3.12.4"
  }
 },
 "nbformat": 4,
 "nbformat_minor": 5
}
