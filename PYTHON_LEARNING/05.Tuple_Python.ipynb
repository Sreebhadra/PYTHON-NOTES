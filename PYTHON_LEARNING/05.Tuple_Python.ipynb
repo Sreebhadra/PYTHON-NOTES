{
 "cells": [
  {
   "cell_type": "markdown",
   "id": "abc2f163-4828-4dd0-be19-f242cf401523",
   "metadata": {},
   "source": [
    "# **PYTHON TUPLE**"
   ]
  },
  {
   "cell_type": "markdown",
   "id": "9737ab20-afbc-4bd8-b367-aa315bd462e8",
   "metadata": {},
   "source": [
    "## ordered, immutable, allow duplicate values, written in round brackets"
   ]
  },
  {
   "cell_type": "code",
   "execution_count": 1,
   "id": "a3153b3f-dfe7-42a0-bab7-0d1fdecde88b",
   "metadata": {},
   "outputs": [
    {
     "name": "stdout",
     "output_type": "stream",
     "text": [
      "(1, 2, -5, 2)\n"
     ]
    }
   ],
   "source": [
    "numbers = (1, 2, -5,2)\n",
    "print(numbers)"
   ]
  },
  {
   "cell_type": "markdown",
   "id": "e2e8a55f-469e-4ab5-88b2-a8165a7bb0c9",
   "metadata": {},
   "source": [
    "### Access Items Using Index"
   ]
  },
  {
   "cell_type": "code",
   "execution_count": 2,
   "id": "4f2c15e9-16ca-429b-835a-efa5399b79ce",
   "metadata": {},
   "outputs": [
    {
     "name": "stdout",
     "output_type": "stream",
     "text": [
      "Python\n",
      "C++\n"
     ]
    }
   ],
   "source": [
    "languages = ('Python', 'Swift', 'C++')\n",
    "\n",
    "print(languages[0])   \n",
    "print(languages[2])   "
   ]
  },
  {
   "cell_type": "markdown",
   "id": "78f9c56a-e64a-476a-bd95-e2b00e1b5507",
   "metadata": {},
   "source": [
    "### Tuple Cannot be Modified"
   ]
  },
  {
   "cell_type": "code",
   "execution_count": 3,
   "id": "9fcfcec8-87f1-4952-aa5d-ffea54d9161b",
   "metadata": {},
   "outputs": [
    {
     "ename": "TypeError",
     "evalue": "'tuple' object does not support item assignment",
     "output_type": "error",
     "traceback": [
      "\u001b[1;31m---------------------------------------------------------------------------\u001b[0m",
      "\u001b[1;31mTypeError\u001b[0m                                 Traceback (most recent call last)",
      "Cell \u001b[1;32mIn[3], line 2\u001b[0m\n\u001b[0;32m      1\u001b[0m cars \u001b[38;5;241m=\u001b[39m (\u001b[38;5;124m'\u001b[39m\u001b[38;5;124mBMW\u001b[39m\u001b[38;5;124m'\u001b[39m, \u001b[38;5;124m'\u001b[39m\u001b[38;5;124mTesla\u001b[39m\u001b[38;5;124m'\u001b[39m, \u001b[38;5;124m'\u001b[39m\u001b[38;5;124mFord\u001b[39m\u001b[38;5;124m'\u001b[39m, \u001b[38;5;124m'\u001b[39m\u001b[38;5;124mToyota\u001b[39m\u001b[38;5;124m'\u001b[39m)\n\u001b[1;32m----> 2\u001b[0m cars[\u001b[38;5;241m0\u001b[39m] \u001b[38;5;241m=\u001b[39m \u001b[38;5;124m'\u001b[39m\u001b[38;5;124mNissan\u001b[39m\u001b[38;5;124m'\u001b[39m\n",
      "\u001b[1;31mTypeError\u001b[0m: 'tuple' object does not support item assignment"
     ]
    }
   ],
   "source": [
    "cars = ('BMW', 'Tesla', 'Ford', 'Toyota')\n",
    "cars[0] = 'Nissan'    # error"
   ]
  },
  {
   "cell_type": "markdown",
   "id": "44d8c831-44ab-48e3-9f51-369a3c578144",
   "metadata": {},
   "source": [
    "### Python Tuple Length: len()"
   ]
  },
  {
   "cell_type": "code",
   "execution_count": 4,
   "id": "05b9e821-c5df-4d01-acc4-aab8d969a8f2",
   "metadata": {},
   "outputs": [
    {
     "name": "stdout",
     "output_type": "stream",
     "text": [
      "Total Items: 4\n"
     ]
    }
   ],
   "source": [
    "cars = ('BMW', 'Tesla', 'Ford', 'Toyota')\n",
    "print('Total Items:', len(cars)) "
   ]
  },
  {
   "cell_type": "markdown",
   "id": "39e6ee6c-a367-43e4-a8dc-e91cfdedf09f",
   "metadata": {},
   "source": [
    "### Iterate Through a Tuple using loop"
   ]
  },
  {
   "cell_type": "code",
   "execution_count": 5,
   "id": "34b24c56-933d-4f9d-b0a4-12f3120ea35f",
   "metadata": {},
   "outputs": [
    {
     "name": "stdout",
     "output_type": "stream",
     "text": [
      "apple\n",
      "banana\n",
      "orange\n"
     ]
    }
   ],
   "source": [
    "fruits = ('apple','banana','orange')\n",
    "\n",
    "for fruit in fruits:\n",
    "    print(fruit)"
   ]
  },
  {
   "cell_type": "markdown",
   "id": "3943f68e-24a7-45ef-bd94-8731b20478b3",
   "metadata": {},
   "source": [
    "### Create a Python Tuple With One Item"
   ]
  },
  {
   "cell_type": "code",
   "execution_count": 7,
   "id": "cfb56e50-8461-4642-94a6-36355230b262",
   "metadata": {},
   "outputs": [
    {
     "name": "stdout",
     "output_type": "stream",
     "text": [
      "Hello\n",
      "('Hello',)\n"
     ]
    }
   ],
   "source": [
    "var = ('Hello')\n",
    "print(var)  \n",
    "var = ('Hello',)\n",
    "print(var)"
   ]
  },
  {
   "cell_type": "code",
   "execution_count": null,
   "id": "ca1a28a4-f26f-4193-a86a-798d87fa7bbe",
   "metadata": {},
   "outputs": [],
   "source": []
  }
 ],
 "metadata": {
  "kernelspec": {
   "display_name": "Python 3 (ipykernel)",
   "language": "python",
   "name": "python3"
  },
  "language_info": {
   "codemirror_mode": {
    "name": "ipython",
    "version": 3
   },
   "file_extension": ".py",
   "mimetype": "text/x-python",
   "name": "python",
   "nbconvert_exporter": "python",
   "pygments_lexer": "ipython3",
   "version": "3.12.4"
  }
 },
 "nbformat": 4,
 "nbformat_minor": 5
}
