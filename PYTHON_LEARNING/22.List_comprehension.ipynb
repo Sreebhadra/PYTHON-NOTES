{
 "cells": [
  {
   "cell_type": "markdown",
   "id": "d9a24f4e-d137-47f6-a3c4-c0719d49a9c5",
   "metadata": {},
   "source": [
    "# Python List Comprehension\n",
    "\n",
    "List comprehension is a concise way to create a new list based on an existing iterable (like a list or string)."
   ]
  },
  {
   "cell_type": "raw",
   "id": "fd9a8959-a0a2-49ed-885e-c14b8bbe239d",
   "metadata": {},
   "source": [
    "#SYNTAX\n",
    "[expression for item in iterable if condition]"
   ]
  },
  {
   "cell_type": "code",
   "execution_count": 22,
   "id": "4749151d-cc2a-4aaa-82a2-716f4ec975ce",
   "metadata": {},
   "outputs": [
    {
     "name": "stdout",
     "output_type": "stream",
     "text": [
      "[2, 4, 6, 8]\n"
     ]
    }
   ],
   "source": [
    "numbers = [1, 2, 3, 4]\n",
    "doubled_numbers = [i * 2 for i in numbers]\n",
    "print(doubled_numbers)  # Output: [2, 4, 6, 8]"
   ]
  },
  {
   "cell_type": "markdown",
   "id": "96c154d7-3a80-4abc-8db5-dd98b7e9d3b7",
   "metadata": {},
   "source": [
    "## Example"
   ]
  },
  {
   "cell_type": "markdown",
   "id": "3715d2c2-fbf3-41f9-9983-7e9e47160fb6",
   "metadata": {},
   "source": [
    "**Squaring numbers**"
   ]
  },
  {
   "cell_type": "code",
   "execution_count": 10,
   "id": "b01fe4bf-9407-4b17-875e-94653070b6da",
   "metadata": {},
   "outputs": [
    {
     "name": "stdout",
     "output_type": "stream",
     "text": [
      "[1, 4, 9, 16, 25]\n"
     ]
    }
   ],
   "source": [
    "numbers = [1, 2, 3, 4, 5]\n",
    "square_numbers = [num ** 2 for num in numbers]\n",
    "print(square_numbers)  # Output: [1, 4, 9, 16, 25]"
   ]
  },
  {
   "cell_type": "markdown",
   "id": "a8a54ba1-9775-4190-be5b-7a2a15c56ddf",
   "metadata": {},
   "source": [
    "**Filtering even numbers**"
   ]
  },
  {
   "cell_type": "code",
   "execution_count": 12,
   "id": "4a3a58ca-865e-481e-889b-13932eb8330d",
   "metadata": {},
   "outputs": [
    {
     "name": "stdout",
     "output_type": "stream",
     "text": [
      "[2, 4, 6, 8]\n"
     ]
    }
   ],
   "source": [
    "even_numbers = [num for num in range(1, 10) if num % 2 == 0]\n",
    "print(even_numbers)  # Output: [2, 4, 6, 8]"
   ]
  },
  {
   "cell_type": "markdown",
   "id": "f2e80419-4504-4be1-8606-06c36367fc34",
   "metadata": {},
   "source": [
    "**Working with strings**"
   ]
  },
  {
   "cell_type": "code",
   "execution_count": 14,
   "id": "72f74891-f628-4d51-bb23-ff7ff5d05d0a",
   "metadata": {},
   "outputs": [
    {
     "name": "stdout",
     "output_type": "stream",
     "text": [
      "['o']\n"
     ]
    }
   ],
   "source": [
    "word = \"Python\"\n",
    "vowels = \"aeiou\"\n",
    "result = [char for char in word if char.lower() in vowels]\n",
    "print(result)  # Output: ['o']"
   ]
  },
  {
   "cell_type": "code",
   "execution_count": null,
   "id": "880c8663-608c-43c7-8a8d-b786395ab232",
   "metadata": {},
   "outputs": [],
   "source": []
  }
 ],
 "metadata": {
  "kernelspec": {
   "display_name": "Python 3 (ipykernel)",
   "language": "python",
   "name": "python3"
  },
  "language_info": {
   "codemirror_mode": {
    "name": "ipython",
    "version": 3
   },
   "file_extension": ".py",
   "mimetype": "text/x-python",
   "name": "python",
   "nbconvert_exporter": "python",
   "pygments_lexer": "ipython3",
   "version": "3.12.4"
  }
 },
 "nbformat": 4,
 "nbformat_minor": 5
}
