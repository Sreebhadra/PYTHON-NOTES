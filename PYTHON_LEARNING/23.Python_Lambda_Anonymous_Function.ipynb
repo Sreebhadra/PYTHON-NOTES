{
 "cells": [
  {
   "cell_type": "markdown",
   "id": "bd100952-f334-4c5c-a007-beefff2ac484",
   "metadata": {},
   "source": [
    "# Python Lambda/Anonymous Functions"
   ]
  },
  {
   "cell_type": "markdown",
   "id": "3a2043c9-02ec-4ee1-9b27-8b25f79eeb6a",
   "metadata": {},
   "source": [
    "Lambda functions are small, anonymous functions defined using the lambda keyword instead of def <br> **Syntax: lambda arguments : expression**"
   ]
  },
  {
   "cell_type": "markdown",
   "id": "3b42c14f-b9b7-4bc1-aeb2-e8a982846c53",
   "metadata": {},
   "source": [
    "### Lambda with no arguments"
   ]
  },
  {
   "cell_type": "code",
   "execution_count": 7,
   "id": "7c5305c4-8c57-48d0-99d7-6300d2d51763",
   "metadata": {},
   "outputs": [
    {
     "name": "stdout",
     "output_type": "stream",
     "text": [
      "Hello World\n"
     ]
    }
   ],
   "source": [
    "greet = lambda : print('Hello World')\n",
    "greet() "
   ]
  },
  {
   "cell_type": "markdown",
   "id": "120e2480-b7d6-4b89-9fea-3e7f1fd993d4",
   "metadata": {},
   "source": [
    "### Lambda with one argument"
   ]
  },
  {
   "cell_type": "code",
   "execution_count": 10,
   "id": "32cec13f-1dcc-4766-a702-e1026655b0ef",
   "metadata": {},
   "outputs": [
    {
     "name": "stdout",
     "output_type": "stream",
     "text": [
      "Hey there, Delilah\n"
     ]
    }
   ],
   "source": [
    "greet_user = lambda name : print('Hey there,', name)\n",
    "greet_user('Sree')  "
   ]
  },
  {
   "cell_type": "markdown",
   "id": "7a657243-4344-4cc1-92f9-cdf07ad81102",
   "metadata": {},
   "source": [
    "### Lambda with multiple arguments"
   ]
  },
  {
   "cell_type": "code",
   "execution_count": 13,
   "id": "467ff48b-379e-4eeb-b2b4-b498dc87155d",
   "metadata": {},
   "outputs": [
    {
     "name": "stdout",
     "output_type": "stream",
     "text": [
      "8\n"
     ]
    }
   ],
   "source": [
    "sum = lambda a, b : a + b\n",
    "print(sum(5, 3)) "
   ]
  },
  {
   "cell_type": "markdown",
   "id": "d755138f-6ba6-4d7b-b845-19d6fbb72edc",
   "metadata": {},
   "source": [
    "### With built-in functions like map(), filter(), and sorted():"
   ]
  },
  {
   "cell_type": "code",
   "execution_count": 16,
   "id": "15ec2fd0-41c8-42ba-93eb-b9925e60a6c9",
   "metadata": {},
   "outputs": [
    {
     "name": "stdout",
     "output_type": "stream",
     "text": [
      "[1, 4, 9, 16, 25]\n"
     ]
    }
   ],
   "source": [
    "numbers = [1, 2, 3, 4, 5]\n",
    "squared = list(map(lambda x: x**2, numbers))\n",
    "print(squared)  "
   ]
  },
  {
   "cell_type": "markdown",
   "id": "1dd2d383-94c8-4eb5-8676-a0aca6730068",
   "metadata": {},
   "source": [
    "### As key functions in sorting"
   ]
  },
  {
   "cell_type": "code",
   "execution_count": 20,
   "id": "1f6ceffe-2b3f-4623-8d21-aa4545bccc43",
   "metadata": {},
   "outputs": [
    {
     "name": "stdout",
     "output_type": "stream",
     "text": [
      "[(1, 'one'), (3, 'three'), (2, 'two')]\n"
     ]
    }
   ],
   "source": [
    "pairs = [(1, 'one'), (2, 'two'), (3, 'three')]\n",
    "sorted_pairs = sorted(pairs, key=lambda pair: pair[1])\n",
    "print(sorted_pairs)  "
   ]
  },
  {
   "cell_type": "markdown",
   "id": "f2bd42af-9f65-42e3-bd90-23922fd3e445",
   "metadata": {},
   "source": [
    "### In list comprehensions"
   ]
  },
  {
   "cell_type": "code",
   "execution_count": 23,
   "id": "6763fd25-f143-43d3-b790-56aaa186fe1f",
   "metadata": {},
   "outputs": [
    {
     "name": "stdout",
     "output_type": "stream",
     "text": [
      "[4, 16]\n"
     ]
    }
   ],
   "source": [
    "numbers = [1, 2, 3, 4, 5]\n",
    "even_squares = [x**2 for x in numbers if (lambda x: x % 2 == 0)(x)]\n",
    "print(even_squares)  "
   ]
  },
  {
   "cell_type": "code",
   "execution_count": null,
   "id": "cc1083e8-cb27-46c2-8efc-77f4b6761fa5",
   "metadata": {},
   "outputs": [],
   "source": []
  }
 ],
 "metadata": {
  "kernelspec": {
   "display_name": "Python 3 (ipykernel)",
   "language": "python",
   "name": "python3"
  },
  "language_info": {
   "codemirror_mode": {
    "name": "ipython",
    "version": 3
   },
   "file_extension": ".py",
   "mimetype": "text/x-python",
   "name": "python",
   "nbconvert_exporter": "python",
   "pygments_lexer": "ipython3",
   "version": "3.12.4"
  }
 },
 "nbformat": 4,
 "nbformat_minor": 5
}
