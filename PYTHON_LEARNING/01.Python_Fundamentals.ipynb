{
 "cells": [
  {
   "cell_type": "markdown",
   "id": "befb9c16-4b8f-4252-ac3e-bd12fd3113d9",
   "metadata": {},
   "source": [
    "## PYTHON VARIABLES AND LITERALS: Assigning values"
   ]
  },
  {
   "cell_type": "code",
   "execution_count": 1,
   "id": "1bc6078c-ece8-4a66-a437-ce6abab04735",
   "metadata": {},
   "outputs": [
    {
     "name": "stdout",
     "output_type": "stream",
     "text": [
      "hello 1 12.3\n"
     ]
    }
   ],
   "source": [
    "x='hello'\n",
    "y=1\n",
    "z=12.3\n",
    "print(x,y,z)\n"
   ]
  },
  {
   "cell_type": "markdown",
   "id": "8409a488-711d-432a-8200-60e8c96f4c6a",
   "metadata": {},
   "source": [
    "### TYPE CONVERSION: \n",
    "## Implicit Conversion -automatic type conversion \n",
    "<br> Python promotes the conversion of the lower data type (integer) to the higher data type (float) to avoid data loss.<br> Python avoids the loss of data in Implicit Type Conversion."
   ]
  },
  {
   "cell_type": "code",
   "execution_count": 3,
   "id": "6318f23d-f279-4fe3-b481-61e903ac235b",
   "metadata": {},
   "outputs": [
    {
     "name": "stdout",
     "output_type": "stream",
     "text": [
      "Value: 24.34\n",
      "Datatype:  <class 'float'>\n"
     ]
    }
   ],
   "source": [
    "int_num=12\n",
    "flt_num=12.34\n",
    "new_num=int_num + flt_num\n",
    "print(\"Value:\",new_num)\n",
    "print(\"Datatype: \",type(new_num))"
   ]
  },
  {
   "cell_type": "markdown",
   "id": "79250f53-29e1-4e82-a63c-731d3f8e66f1",
   "metadata": {},
   "source": [
    "### Explicit Conversion - manual type conversion\n",
    "<br> This type of conversion is also called typecasting because the user casts (changes) the data type of the objects."
   ]
  },
  {
   "cell_type": "code",
   "execution_count": 4,
   "id": "4ec799ae-240f-444f-9481-2d0f2e207fbf",
   "metadata": {},
   "outputs": [
    {
     "name": "stdout",
     "output_type": "stream",
     "text": [
      "type before typecasting <class 'str'>\n",
      "type after typecasting <class 'int'>\n"
     ]
    }
   ],
   "source": [
    "num_strg='12'\n",
    "num_int=12\n",
    "print(\"type before typecasting\",type(num_strg))\n",
    "num_strg=int(num_strg)\n",
    "print(\"type after typecasting\",type(num_strg))"
   ]
  },
  {
   "cell_type": "markdown",
   "id": "683530a2-1dbc-4ad6-bd84-0b031c199131",
   "metadata": {},
   "source": [
    "## PYTHON BASIC INPUT AND OUTPUT"
   ]
  },
  {
   "cell_type": "code",
   "execution_count": 6,
   "id": "629c85c5-2467-44ee-b94b-7c3ad0427f71",
   "metadata": {},
   "outputs": [
    {
     "name": "stdout",
     "output_type": "stream",
     "text": [
      "the value of x is 23 and y is 32 \n",
      "the sum is 55\n"
     ]
    }
   ],
   "source": [
    "x=23\n",
    "y=32\n",
    "sum=x+y\n",
    "print(\"the value of x is {} and y is {} \".format(x,y))\n",
    "print(\"the sum is {}\".format(sum))"
   ]
  },
  {
   "cell_type": "code",
   "execution_count": 7,
   "id": "8c678439-c3c2-4d80-803b-9aa300e635ab",
   "metadata": {},
   "outputs": [
    {
     "name": "stdin",
     "output_type": "stream",
     "text": [
      "Enter your name:  sree\n",
      "Enter your age:  22\n"
     ]
    },
    {
     "name": "stdout",
     "output_type": "stream",
     "text": [
      "Your name is sree.\n",
      "Your age is 22.\n"
     ]
    }
   ],
   "source": [
    "name=str(input(\"Enter your name: \"))\n",
    "age=int(input(\"Enter your age: \"))\n",
    "print(\"Your name is {}.\".format(name))\n",
    "print(\"Your age is {}.\".format(age))"
   ]
  },
  {
   "cell_type": "markdown",
   "id": "1ebd99b3-5f68-4004-bf19-eae920944547",
   "metadata": {},
   "source": [
    "## ARITHMETIC OPERATORS IN PYTHON"
   ]
  },
  {
   "cell_type": "code",
   "execution_count": 9,
   "id": "596f51c9-8b06-4211-93d5-f441fc2cf3c5",
   "metadata": {},
   "outputs": [
    {
     "name": "stdin",
     "output_type": "stream",
     "text": [
      "enter a number:  100.50\n",
      "enter another number:  5.10\n"
     ]
    },
    {
     "name": "stdout",
     "output_type": "stream",
     "text": [
      "the numbers are: 100.5 ,5.1 \n",
      "addition is  105.6\n",
      "subtraction is  95.4\n",
      "multiplication is  512.55\n",
      "division is  19.705882352941178\n",
      "Floor Division is 19.0\n",
      "Modulo:  3.6000000000000068\n",
      "Power:  16257243662.507154\n"
     ]
    }
   ],
   "source": [
    "a= float(input(\"enter a number: \"))\n",
    "b= float(input(\"enter another number: \"))\n",
    "print(\"the numbers are: {} ,{} \".format(a,b))\n",
    "print(\"addition is \",a+b)\n",
    "print(\"subtraction is \",a-b)\n",
    "print(\"multiplication is \",a*b)\n",
    "print(\"division is \",a/b)\n",
    "print (\"Floor Division is\", a // b)\n",
    "print (\"Modulo: \", a % b)  \n",
    "print (\"Power: \", a ** b) "
   ]
  },
  {
   "cell_type": "markdown",
   "id": "5071e2f9-7628-4b49-9ad3-6856d781f8b0",
   "metadata": {},
   "source": [
    "## ASSIGNMENT OPERATORS IN PYTHON : Assignment operators are used to assign values to variables.\n",
    "\r",
    "<br> \n",
    "=\tAssignment Operato reg:\ta = 7<br> \r\n",
    "+=\tAddition Assignmt enegt\ta += 1 # a = a + <br> 1\r\n",
    "-=\tSubtraction Assientgnm ent\ta -= 3 # a = a -<br>  3\r\n",
    "*=\tMultiplication Asmentsign ent\ta *= 4 # a = a <br> * 4\r\n",
    "/=\tDivision Ament ssi ment\ta /= 3 # a = a<br>  / 3\r\n",
    "%=\tRemaindegnmentr Assnment\ta %= 10 # a = a<br>  %  0\r\n",
    "**=\tExponegnment nt  gnment\ta **= 10 # a = a ** 10"
   ]
  },
  {
   "cell_type": "code",
   "execution_count": 11,
   "id": "3692a441-9f66-43cd-a7c6-4f73d840660e",
   "metadata": {},
   "outputs": [
    {
     "name": "stdout",
     "output_type": "stream",
     "text": [
      "15\n"
     ]
    }
   ],
   "source": [
    "a=5\n",
    "b=10\n",
    "a+=b\n",
    "print(a)"
   ]
  },
  {
   "cell_type": "markdown",
   "id": "95d2c469-a29f-46e8-8bb6-e27c6cea0c96",
   "metadata": {},
   "source": [
    "## COMPARISON OPERATORS IN PYTHON: \n",
    "<br> Comparison operators compare two values/variables and return a boolean result: True or False True"
   ]
  },
  {
   "cell_type": "raw",
   "id": "92ef690a-e8b3-4733-bec1-eb3bacc03b06",
   "metadata": {},
   "source": [
    " ==\tIs Equal To\teg:3 == 5 gives us False\n",
    " !=\tNot Equal To eg:3 != 5 gives us True\n",
    " >\tGreater Than eg:3 > 5 gives us False\n",
    " <\tLess Than eg:3 < 5 gives us True\n",
    ">=\tGreater Than or Equal to eg: 3 >= 5 give us False\n",
    " <=\tLess Than or Equal to eg:3 <= 5 gives us True"
   ]
  },
  {
   "cell_type": "code",
   "execution_count": 12,
   "id": "41ee00e8-8030-4a92-8dfa-1233808c258b",
   "metadata": {},
   "outputs": [
    {
     "name": "stdin",
     "output_type": "stream",
     "text": [
      "enter a number:  10\n",
      "enter another number:  5\n"
     ]
    },
    {
     "name": "stdout",
     "output_type": "stream",
     "text": [
      "a==b:  False\n",
      "a!=b:  True\n",
      "a>b:  True\n",
      "a<b:  False\n",
      "a<=b:  False\n",
      "a>=b:  True\n"
     ]
    }
   ],
   "source": [
    "a=int(input(\"enter a number: \"))\n",
    "b=int(input(\"enter another number: \"))\n",
    "print(\"a==b: \",a==b)\n",
    "print(\"a!=b: \",a!=b)\n",
    "print(\"a>b: \",a>b)\n",
    "print(\"a<b: \",a<b)\n",
    "print(\"a<=b: \",a<=b)\n",
    "print(\"a>=b: \",a>=b)"
   ]
  },
  {
   "cell_type": "markdown",
   "id": "ba0b86d0-0b5b-4bf1-b815-af20672f7697",
   "metadata": {},
   "source": [
    "### LOGICAL OPERATORS IN PYTHON: \n",
    "Logical operators are used to check whether an expression is True or False. \n",
    "<br> They are used in decision-makingrsa."
   ]
  },
  {
   "cell_type": "code",
   "execution_count": 14,
   "id": "2f7a2b72-3f1a-4629-bc3e-f7b6f2ef6ef5",
   "metadata": {},
   "outputs": [
    {
     "name": "stdout",
     "output_type": "stream",
     "text": [
      "False\n",
      "True\n",
      "True\n",
      "False\n",
      "False\n"
     ]
    }
   ],
   "source": [
    "print(True and False)\n",
    "print(True and True)\n",
    "print(False or True)\n",
    "print(False or False)\n",
    "print(not True)"
   ]
  },
  {
   "cell_type": "markdown",
   "id": "004a530a-d989-47ee-942a-4fe2f64d44f1",
   "metadata": {},
   "source": [
    "## BITWISE OPERATORS IN PYTHON: \n",
    "Bitwise operators act on operands as if they were strings of binary digits. They operate bit by bit, hence the name."
   ]
  },
  {
   "cell_type": "raw",
   "id": "935ef65e-b579-41f8-a676-0a90d59751df",
   "metadata": {},
   "source": [
    "\n",
    "For example, 2 is 10 in binary, and 7 is 11.ow: Let x = 10 (0000 1010 in binary) and y = 4 (0000 0100 in bin\n",
    "\n",
    "&\tBitwise AND\teg: x & y = 0 (0000 0000)\r\n",
    "|\tBitwise OReg: \tx | y = 14 (0000 1110)\r\n",
    "~\tBitwise NOeg: T\t~x = -11 (1111 0101)\r\n",
    "^\tBitwise Xeg: OR\tx ^ y = 14 (0000 1110)\r\n",
    ">>\tBitwise right sheg: ift\tx >> 2 = 2 (0000 0010)\r\n",
    "<<\tBitwise left seg: hift\tx 0010 1000)ary)"
   ]
  },
  {
   "cell_type": "markdown",
   "id": "70026ca0-569b-448b-b5c5-e9c169a30a30",
   "metadata": {},
   "source": [
    "## IDENTITY OPERATORS: SPECIAL TYPE OF OPERATORS IN PYTHON\n",
    "In Python, is and is not are used to check if two values are located at the same memory location.mple->ue"
   ]
  },
  {
   "cell_type": "code",
   "execution_count": 15,
   "id": "6bb1b9de-212d-4ed7-9f18-42845b8bcf3a",
   "metadata": {},
   "outputs": [
    {
     "name": "stdout",
     "output_type": "stream",
     "text": [
      "False\n",
      "True\n",
      "False\n"
     ]
    }
   ],
   "source": [
    "x1 = 5\n",
    "y1 = 5\n",
    "x2 = 'Hello'\n",
    "y2 = 'Hello'\n",
    "x3 = [1,2,3]\n",
    "y3 = [1,2,3]\n",
    "\n",
    "#Here, we see that x1 and y1 are integers of the same values, so they are equal as well as identical. The same is the case with x2 and y2 (strings). \n",
    "#But x3 and y3 are lists. They are equal but not identical. \n",
    "#It is because the interpreter locates them separately in memory, although they are equal.\n",
    "print(x1 is not y1) \n",
    "print(x2 is y2) \n",
    "print(x3 is y3) "
   ]
  },
  {
   "cell_type": "markdown",
   "id": "e8b927c6-ad4a-4697-bae7-201495332ec4",
   "metadata": {},
   "source": [
    "## MEMBERSHIP OPERATORS: SPECIAL TYPE OF OPERATORS IN PYTHON\n",
    "In Python, in and not in are the membership operators. They are used to test whether a value or variable is found in a sequence (string, list, tuple, set and dictionary).\r",
    "<br>\n",
    "In a dictionary, we can only test for the presence of a key, not the valln x"
   ]
  },
  {
   "cell_type": "code",
   "execution_count": 16,
   "id": "d5d90768-06ae-4d58-aa0d-57e815fba689",
   "metadata": {},
   "outputs": [
    {
     "name": "stdout",
     "output_type": "stream",
     "text": [
      "True\n",
      "True\n",
      "True\n",
      "False\n"
     ]
    }
   ],
   "source": [
    "message = 'Hello world'\n",
    "dict1 = {1:'a', 2:'b'}\n",
    "print('H' in message)  \n",
    "print('hello' not in message) \n",
    "print(1 in dict1) \n",
    "print('a' in dict1) "
   ]
  }
 ],
 "metadata": {
  "kernelspec": {
   "display_name": "Python 3 (ipykernel)",
   "language": "python",
   "name": "python3"
  },
  "language_info": {
   "codemirror_mode": {
    "name": "ipython",
    "version": 3
   },
   "file_extension": ".py",
   "mimetype": "text/x-python",
   "name": "python",
   "nbconvert_exporter": "python",
   "pygments_lexer": "ipython3",
   "version": "3.12.4"
  }
 },
 "nbformat": 4,
 "nbformat_minor": 5
}
