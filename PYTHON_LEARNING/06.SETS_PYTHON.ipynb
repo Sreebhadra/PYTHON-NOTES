{
 "cells": [
  {
   "cell_type": "markdown",
   "id": "83ea7f24-faf4-4d97-afc4-ff8d292143d2",
   "metadata": {},
   "source": [
    "# Sets in Python\n",
    "**Unordered collections\n",
    "<BR>Created using curly braces {} or the set() function\n",
    "<BR>immutable\n",
    "<BR>cannot contain duplicate elements**"
   ]
  },
  {
   "cell_type": "code",
   "execution_count": 75,
   "id": "fceed96a-ddba-4ad0-bfe8-67a8dfb48b18",
   "metadata": {},
   "outputs": [
    {
     "name": "stdout",
     "output_type": "stream",
     "text": [
      "{'apple', 'banana', 'cherry'}\n",
      "{1, 2, 3, 4, 5}\n",
      "set()\n",
      "{1, 3, 5, 6}\n",
      "<class 'dict'>\n",
      "<class 'set'>\n"
     ]
    }
   ],
   "source": [
    "fruits = {'apple', 'banana', 'cherry'}\n",
    "numbers = set([1, 2, 3, 4, 5])\n",
    "empty_set = set()\n",
    "\n",
    "print(fruits)\n",
    "print(numbers)\n",
    "print(empty_set)\n",
    "\n",
    "print(set([1,3,3,5,6,6]))\n",
    "\n",
    "print(type({})) #dict\n",
    "print(type(set()))"
   ]
  },
  {
   "cell_type": "markdown",
   "id": "2b1d39be-082d-4b8f-bed8-265478b744d1",
   "metadata": {},
   "source": [
    "## Set Operations"
   ]
  },
  {
   "cell_type": "markdown",
   "id": "83a9dac5-e237-46cc-9627-d09265841b65",
   "metadata": {},
   "source": [
    "Add elements: **add() method**"
   ]
  },
  {
   "cell_type": "code",
   "execution_count": 22,
   "id": "74c3143c-5b59-408c-9c07-761add1a4a6b",
   "metadata": {},
   "outputs": [
    {
     "name": "stdout",
     "output_type": "stream",
     "text": [
      "{'red', 'blue', 'green'}\n"
     ]
    }
   ],
   "source": [
    "colors = {'red', 'green'}\n",
    "colors.add('blue')\n",
    "print(colors) "
   ]
  },
  {
   "cell_type": "markdown",
   "id": "aa25b107-515a-488d-a70d-31b9bc75cfaf",
   "metadata": {},
   "source": [
    "Update with multiple elements: **update() method**"
   ]
  },
  {
   "cell_type": "code",
   "execution_count": 24,
   "id": "71c2b7d3-1fdf-42b9-9d5e-b78782b40147",
   "metadata": {},
   "outputs": [
    {
     "name": "stdout",
     "output_type": "stream",
     "text": [
      "{'red', 'yellow', 'blue', 'green'}\n"
     ]
    }
   ],
   "source": [
    "colors = {'red', 'green'}\n",
    "colors.update(['blue', 'yellow'])\n",
    "print(colors)"
   ]
  },
  {
   "cell_type": "markdown",
   "id": "3bac4748-6103-4705-85d1-03d8066d5c35",
   "metadata": {},
   "source": [
    "Remove elements: **discard() or remove() methods**"
   ]
  },
  {
   "cell_type": "code",
   "execution_count": 26,
   "id": "34d6f63d-8a66-4830-9a9c-c49dee3950b4",
   "metadata": {},
   "outputs": [
    {
     "name": "stdout",
     "output_type": "stream",
     "text": [
      "{1, 2, 4, 5}\n",
      "{1, 4, 5}\n"
     ]
    }
   ],
   "source": [
    "numbers = {1, 2, 3, 4, 5}\n",
    "numbers.discard(3)\n",
    "print(numbers)  \n",
    "\n",
    "numbers.remove(2)\n",
    "print(numbers)  \n",
    "\n",
    "# numbers.remove(10)  # This would raise a KeyError\n",
    "numbers.discard(10)  # This doesn't raise an error"
   ]
  },
  {
   "cell_type": "markdown",
   "id": "0b93993f-53bb-49f7-8d1e-5e4817dd6b8b",
   "metadata": {},
   "source": [
    "Union: | operator or **union() method**"
   ]
  },
  {
   "cell_type": "code",
   "execution_count": 28,
   "id": "baea57f0-bc01-4eb6-8d10-baa68cf10102",
   "metadata": {},
   "outputs": [
    {
     "name": "stdout",
     "output_type": "stream",
     "text": [
      "{1, 2, 3, 4, 5, 6}\n",
      "{1, 2, 3, 4, 5, 6}\n"
     ]
    }
   ],
   "source": [
    "set1 = {1, 2, 3, 4}\n",
    "set2 = {3, 4, 5, 6}\n",
    "\n",
    "print(set1 | set2) \n",
    "print(set1.union(set2)) "
   ]
  },
  {
   "cell_type": "markdown",
   "id": "643df57f-62f9-4335-8589-3aa94b7eed98",
   "metadata": {},
   "source": [
    "Intersection: & operator or **intersection() method**"
   ]
  },
  {
   "cell_type": "code",
   "execution_count": 30,
   "id": "9ebea839-0be1-4a6a-ab4b-e598b6d5db0b",
   "metadata": {},
   "outputs": [
    {
     "name": "stdout",
     "output_type": "stream",
     "text": [
      "{3, 4}\n",
      "{3, 4}\n"
     ]
    }
   ],
   "source": [
    "set1 = {1, 2, 3, 4}\n",
    "set2 = {3, 4, 5, 6}\n",
    "\n",
    "print(set1 & set2)  \n",
    "print(set1.intersection(set2))  "
   ]
  },
  {
   "cell_type": "markdown",
   "id": "42b15b04-9fee-4155-923a-c5c12b5a7e89",
   "metadata": {},
   "source": [
    "Difference: - operator or **difference() method**\n",
    "<br>Both the - operator and the difference() method return a new set containing the elements that are in the first set but not in the second set."
   ]
  },
  {
   "cell_type": "code",
   "execution_count": 32,
   "id": "98f81bc4-99f3-4c8a-a6b3-0b94266e357b",
   "metadata": {},
   "outputs": [
    {
     "name": "stdout",
     "output_type": "stream",
     "text": [
      "{1, 2}\n",
      "{1, 2}\n"
     ]
    }
   ],
   "source": [
    "set1 = {1, 2, 3, 4}\n",
    "set2 = {3, 4, 5, 6}\n",
    "\n",
    "print(set1 - set2)  \n",
    "print(set1.difference(set2))  "
   ]
  },
  {
   "cell_type": "markdown",
   "id": "449ebb7e-3258-4ecc-a999-43f46c9f7a65",
   "metadata": {},
   "source": [
    "Symmetric Difference: ^ operator or **symmetric_difference() method**\n",
    "<br>Both the ^ operator and the symmetric_difference() method return a new set containing elements that are in either of the sets, but not in both."
   ]
  },
  {
   "cell_type": "code",
   "execution_count": 34,
   "id": "e3b74abf-03a3-4500-a05b-32927b5898d4",
   "metadata": {},
   "outputs": [
    {
     "name": "stdout",
     "output_type": "stream",
     "text": [
      "{1, 2, 5, 6}\n",
      "{1, 2, 5, 6}\n"
     ]
    }
   ],
   "source": [
    "set1 = {1, 2, 3, 4}\n",
    "set2 = {3, 4, 5, 6}\n",
    "\n",
    "print(set1 ^ set2) \n",
    "print(set1.symmetric_difference(set2)) "
   ]
  },
  {
   "cell_type": "markdown",
   "id": "f261f2e4-5e8c-4323-b366-cf5f50adca84",
   "metadata": {},
   "source": [
    "### Other Set Features:"
   ]
  },
  {
   "cell_type": "markdown",
   "id": "d80c93b3-a10b-4877-8bf8-ee09f12a13b2",
   "metadata": {},
   "source": [
    "**sets don't support indexing (as sets are unordered)**"
   ]
  },
  {
   "cell_type": "code",
   "execution_count": 79,
   "id": "1713b530-8d0f-4d9a-81a7-46a16070ea91",
   "metadata": {},
   "outputs": [
    {
     "name": "stdout",
     "output_type": "stream",
     "text": [
      "a\n"
     ]
    }
   ],
   "source": [
    "a = {'h','a','l','o'}\n",
    "# print(a[2]) #error\n",
    "\n",
    "# Instead, you can convert to a list for indexing\n",
    "a = list(a)\n",
    "print(a[0])  "
   ]
  },
  {
   "cell_type": "markdown",
   "id": "256a6fb2-6635-41a1-befc-ab5a32144b4e",
   "metadata": {},
   "source": [
    "**Mutable only after creation by adding and removing elements**"
   ]
  },
  {
   "cell_type": "code",
   "execution_count": 82,
   "id": "c8bf53fa-bec6-4cc0-9c56-537d4dfd613a",
   "metadata": {},
   "outputs": [
    {
     "name": "stdout",
     "output_type": "stream",
     "text": [
      "{'red', 'blue', 'green'}\n",
      "{'red', 'yellow', 'blue', 'green'}\n",
      "{'red', 'yellow', 'green'}\n"
     ]
    }
   ],
   "source": [
    "colors = {'red', 'blue', 'green'}\n",
    "print(colors)\n",
    "\n",
    "colors.add('yellow')\n",
    "print(colors)\n",
    "\n",
    "colors.remove('blue')\n",
    "print(colors)"
   ]
  },
  {
   "cell_type": "markdown",
   "id": "95e02534-fa4a-41cc-a907-21d056f8ef45",
   "metadata": {},
   "source": [
    "**removing duplicates from the list**"
   ]
  },
  {
   "cell_type": "code",
   "execution_count": 86,
   "id": "5fbf88d6-8d33-4eb0-9685-62b952e2fe16",
   "metadata": {},
   "outputs": [
    {
     "name": "stdout",
     "output_type": "stream",
     "text": [
      "Original list: [1, 2, 2, 3, 4, 4, 5, 5, 5]\n",
      "List with duplicates removed: [1, 2, 3, 4, 5]\n"
     ]
    }
   ],
   "source": [
    "list_1 = [1, 2, 2, 3, 4, 4, 5, 5, 5]\n",
    "list_2 = list(set(list_1))\n",
    "print(\"Original list:\", list_1)\n",
    "print(\"List with duplicates removed:\", list_2)"
   ]
  },
  {
   "cell_type": "markdown",
   "id": "9978d635-da31-402f-b3e2-474b03d5539f",
   "metadata": {},
   "source": [
    "**Checking membership**"
   ]
  },
  {
   "cell_type": "code",
   "execution_count": 37,
   "id": "5f0dc21d-6d83-4c80-97e6-e78825d4facc",
   "metadata": {},
   "outputs": [
    {
     "name": "stdout",
     "output_type": "stream",
     "text": [
      "True\n",
      "False\n"
     ]
    }
   ],
   "source": [
    "numbers = {1, 2, 3, 4, 5}\n",
    "print(3 in numbers) \n",
    "print(6 in numbers)  "
   ]
  },
  {
   "cell_type": "markdown",
   "id": "1620fc94-6901-490d-800d-e899c1447a47",
   "metadata": {},
   "source": [
    "**Finding length of a set**"
   ]
  },
  {
   "cell_type": "code",
   "execution_count": 43,
   "id": "a005fe3e-1972-4136-b991-e2e26229ff7a",
   "metadata": {},
   "outputs": [
    {
     "name": "stdout",
     "output_type": "stream",
     "text": [
      "5\n"
     ]
    }
   ],
   "source": [
    "numbers = {1, 2, 3, 4, 5}\n",
    "print(len(numbers))  "
   ]
  },
  {
   "cell_type": "markdown",
   "id": "1851abec-6ddf-4023-9981-e568ecba1f83",
   "metadata": {},
   "source": [
    "**Clearing a set**"
   ]
  },
  {
   "cell_type": "code",
   "execution_count": 46,
   "id": "f4af7604-1d92-44d6-a47e-22a54aa3e6b6",
   "metadata": {},
   "outputs": [
    {
     "name": "stdout",
     "output_type": "stream",
     "text": [
      "set()\n"
     ]
    }
   ],
   "source": [
    "numbers = {1, 2, 3, 4, 5}\n",
    "numbers.clear()\n",
    "print(numbers) "
   ]
  },
  {
   "cell_type": "markdown",
   "id": "f4aec9b9-75e6-4c2d-8bfd-10b6e5cfb8e8",
   "metadata": {},
   "source": [
    "**Copying a set**"
   ]
  },
  {
   "cell_type": "code",
   "execution_count": 49,
   "id": "a802082e-a016-4d5f-bf08-582233bc1d72",
   "metadata": {},
   "outputs": [
    {
     "name": "stdout",
     "output_type": "stream",
     "text": [
      "{1, 2, 3}\n"
     ]
    }
   ],
   "source": [
    "original = {1, 2, 3}\n",
    "copy = original.copy()\n",
    "print(copy)"
   ]
  },
  {
   "cell_type": "markdown",
   "id": "8e17bc2e-7b28-4d8c-b527-b0d5243611b2",
   "metadata": {},
   "source": [
    "**all() function:**\n",
    "to check conditions across all elements in a set"
   ]
  },
  {
   "cell_type": "code",
   "execution_count": 90,
   "id": "184c9ca6-eec0-4570-ad61-55f9b2e3d252",
   "metadata": {},
   "outputs": [
    {
     "name": "stdout",
     "output_type": "stream",
     "text": [
      "True\n",
      "False\n"
     ]
    }
   ],
   "source": [
    "numbers = {2, 4, 6, 8, 10}\n",
    "all_even = all(i % 2 == 0 for i in numbers) #even or not\n",
    "print(all_even) \n",
    "\n",
    "numbers = {1, 2, 3, -4, 5}\n",
    "all_positive = all(i > 0 for i in numbers) #+ve no. or not\n",
    "print(all_positive) "
   ]
  },
  {
   "cell_type": "markdown",
   "id": "3a78383b-930d-4473-914c-e349f6d8f927",
   "metadata": {},
   "source": [
    "**any() function:**\n",
    "to check if at least one element in a set meets a condition."
   ]
  },
  {
   "cell_type": "code",
   "execution_count": 93,
   "id": "a4c671d1-c2d1-42da-91b3-662cacf9632c",
   "metadata": {},
   "outputs": [
    {
     "name": "stdout",
     "output_type": "stream",
     "text": [
      "True\n",
      "True\n"
     ]
    }
   ],
   "source": [
    "numbers = {1, 3, 5, 7, 8}\n",
    "has_even = any(i % 2 == 0 for i in numbers) #even\n",
    "print(has_even) \n",
    "\n",
    "words = {'apple', 'banana', 'cherry'}\n",
    "starts_with_a = any(i.startswith('a') for i in words) #any string in the set starts with 'a'\n",
    "print(starts_with_a)  "
   ]
  },
  {
   "cell_type": "markdown",
   "id": "b9f87ecc-f415-4018-9f52-d845a8354b2b",
   "metadata": {},
   "source": [
    "**enumerate() function:**\n",
    "to pair each element in a set with an index, which can be useful for creating numbered lists or performing indexed operations, even though sets themselves are unordered."
   ]
  },
  {
   "cell_type": "code",
   "execution_count": 106,
   "id": "19c787df-35b3-4f60-89d6-1005c6339880",
   "metadata": {},
   "outputs": [
    {
     "name": "stdout",
     "output_type": "stream",
     "text": [
      "0: date\n",
      "1: banana\n",
      "2: apple\n",
      "3: cherry\n"
     ]
    }
   ],
   "source": [
    "fruits = {'apple', 'banana', 'cherry', 'date'}\n",
    "for index, i in enumerate(fruits):\n",
    "    print(f\"{index}: {i}\")"
   ]
  },
  {
   "cell_type": "code",
   "execution_count": 158,
   "id": "2103cefc-e675-40c9-8121-5ba0f99e05e3",
   "metadata": {},
   "outputs": [
    {
     "name": "stdout",
     "output_type": "stream",
     "text": [
      "Student1:88\n",
      "Student2:92\n",
      "Student4:95\n"
     ]
    }
   ],
   "source": [
    "scores = {85, 92, 78, 95, 88}\n",
    "average_score = sum(scores) / len(scores)\n",
    "\n",
    "for index, i in enumerate(scores):\n",
    "    if i >= average_score:\n",
    "        print(f\"Student{index}:{i}\")"
   ]
  },
  {
   "cell_type": "markdown",
   "id": "77f553c1-dbea-4c41-b7ad-aeadd029f3f9",
   "metadata": {},
   "source": [
    "**Check if two sets are equal**"
   ]
  },
  {
   "cell_type": "code",
   "execution_count": 161,
   "id": "cf807acb-016b-4f30-8a93-990ec86b670a",
   "metadata": {},
   "outputs": [
    {
     "name": "stdout",
     "output_type": "stream",
     "text": [
      "Set A and Set B are equal\n"
     ]
    }
   ],
   "source": [
    "A = {1, 3, 5}\n",
    "B = {3, 5, 1}\n",
    "\n",
    "if A == B:\n",
    "    print('Set A and Set B are equal')\n",
    "else:\n",
    "    print('Set A and Set B are not equal')"
   ]
  },
  {
   "cell_type": "markdown",
   "id": "d006d881-e475-42bb-bc1d-1b35de779bba",
   "metadata": {},
   "source": [
    "**Checking subsets and supersets**\n",
    "<br>A set is considered a subset if all of its elements are also in the other set.\n",
    "<br>A set is considered a superset if it contains all the elements of the other set."
   ]
  },
  {
   "cell_type": "code",
   "execution_count": 165,
   "id": "7319dcf0-2c7a-4503-ac84-2d561bab19e2",
   "metadata": {},
   "outputs": [
    {
     "name": "stdout",
     "output_type": "stream",
     "text": [
      "True\n",
      "True\n"
     ]
    }
   ],
   "source": [
    "set1 = {1, 2, 3}\n",
    "set2 = {1, 2, 3, 4, 5}\n",
    "print(set1.issubset(set2))  \n",
    "print(set2.issuperset(set1))  "
   ]
  },
  {
   "cell_type": "markdown",
   "id": "34b2fad8-0a7e-4a44-ae43-054fbd86ce7c",
   "metadata": {},
   "source": [
    "**Checking for disjoint sets**\n",
    "<br>Two sets are considered disjoint if they have no elements in common."
   ]
  },
  {
   "cell_type": "code",
   "execution_count": 168,
   "id": "b9bc8dcd-c0d7-4034-9b9b-f1c3a0edbd23",
   "metadata": {},
   "outputs": [
    {
     "name": "stdout",
     "output_type": "stream",
     "text": [
      "True\n"
     ]
    }
   ],
   "source": [
    "set1 = {1, 2, 3}\n",
    "set2 = {4, 5, 6}\n",
    "print(set1.isdisjoint(set2))  "
   ]
  },
  {
   "cell_type": "markdown",
   "id": "897d9567-278b-4b62-a2bb-3888d2c292cb",
   "metadata": {},
   "source": [
    "**Popping an element**"
   ]
  },
  {
   "cell_type": "code",
   "execution_count": 58,
   "id": "97cb8ed2-bcc1-46bb-adb1-4e5e99854440",
   "metadata": {},
   "outputs": [
    {
     "name": "stdout",
     "output_type": "stream",
     "text": [
      "1\n",
      "{2, 3, 4, 5}\n"
     ]
    }
   ],
   "source": [
    "numbers = {1, 2, 3, 4, 5}\n",
    "popped = numbers.pop()\n",
    "print(popped)  # A random element (e.g., 1)\n",
    "print(numbers)  # The set without the popped element"
   ]
  },
  {
   "cell_type": "markdown",
   "id": "ab99b8fc-e6f3-4e8b-9eba-c550d0a7ed21",
   "metadata": {},
   "source": [
    "**create a new set from an existing set**"
   ]
  },
  {
   "cell_type": "code",
   "execution_count": 181,
   "id": "f0dfef64-5ac9-4599-ad43-852c072c7086",
   "metadata": {},
   "outputs": [
    {
     "name": "stdout",
     "output_type": "stream",
     "text": [
      "{0, 1, 2, 3, 4, 5, 6, 7, 8, 9}\n",
      "{0, 1, 64, 4, 36, 9, 16, 49, 81, 25}\n"
     ]
    }
   ],
   "source": [
    "set1={i for i in range(10)}\n",
    "print(set1)\n",
    "squares = {i**2 for i in set1}\n",
    "print(squares) "
   ]
  },
  {
   "cell_type": "code",
   "execution_count": 183,
   "id": "403752c3-c7c3-4cac-8037-cc4e564751d8",
   "metadata": {},
   "outputs": [
    {
     "name": "stdout",
     "output_type": "stream",
     "text": [
      "{'Fruit 4: cherry', 'Fruit 3: apple', 'Fruit 2: banana', 'Fruit 1: date'}\n"
     ]
    }
   ],
   "source": [
    "# Using enumerate with set comprehension\n",
    "numbered_fruits = {f\"Fruit {index}: {fruit}\" for index, fruit in enumerate(fruits, start=1)}\n",
    "print(numbered_fruits)"
   ]
  },
  {
   "cell_type": "code",
   "execution_count": null,
   "id": "8bb8c613-ea26-4988-bd74-f0ec348e7cd1",
   "metadata": {},
   "outputs": [],
   "source": []
  }
 ],
 "metadata": {
  "kernelspec": {
   "display_name": "Python 3 (ipykernel)",
   "language": "python",
   "name": "python3"
  },
  "language_info": {
   "codemirror_mode": {
    "name": "ipython",
    "version": 3
   },
   "file_extension": ".py",
   "mimetype": "text/x-python",
   "name": "python",
   "nbconvert_exporter": "python",
   "pygments_lexer": "ipython3",
   "version": "3.12.4"
  }
 },
 "nbformat": 4,
 "nbformat_minor": 5
}
