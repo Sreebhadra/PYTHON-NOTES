{
 "cells": [
  {
   "cell_type": "markdown",
   "id": "a5aa2fcb-10f2-48e1-8bec-218316c79f50",
   "metadata": {},
   "source": [
    "# Python Directory and Files Management"
   ]
  },
  {
   "cell_type": "markdown",
   "id": "c2b6452e-3ab0-4cc9-8848-2f9ad16a8ef2",
   "metadata": {},
   "source": [
    "A directory is like a folder on your computer where you can store files and other directories.\n",
    "<br><br>\n",
    "In Python, we use the os module to work with directories."
   ]
  },
  {
   "cell_type": "markdown",
   "id": "0efef77d-c988-4429-a504-f2351d504a54",
   "metadata": {},
   "source": [
    "### Get Current Directory in Python"
   ]
  },
  {
   "cell_type": "code",
   "execution_count": 8,
   "id": "9bad879e-05f7-435f-bead-bfa8298a314e",
   "metadata": {},
   "outputs": [
    {
     "name": "stdout",
     "output_type": "stream",
     "text": [
      "Current working directory: C:\\Users\\Admin\\Desktop\\python\n"
     ]
    }
   ],
   "source": [
    "import os\n",
    "print(\"Current working directory: {}\". format(os.getcwd()))"
   ]
  },
  {
   "cell_type": "markdown",
   "id": "4274bfcb-7462-48d9-a2fb-ad724c1bf45b",
   "metadata": {},
   "source": [
    "### Changing Directory in Python"
   ]
  },
  {
   "cell_type": "raw",
   "id": "c2b4983c-7611-4a63-9f0e-e62229cb9f12",
   "metadata": {},
   "source": [
    "#To change the directory\n",
    "\n",
    "import os\n",
    "os.chdir('C:\\\\Python33')\n",
    "print(os.getcwd())"
   ]
  },
  {
   "cell_type": "markdown",
   "id": "326c262f-4db6-411a-9410-bf39b74e9b2b",
   "metadata": {},
   "source": [
    "### List Directories and Files in Python"
   ]
  },
  {
   "cell_type": "code",
   "execution_count": 13,
   "id": "d72201a3-44b9-40d5-a84e-c36e71217737",
   "metadata": {},
   "outputs": [
    {
     "data": {
      "text/plain": [
       "['.git',\n",
       " '.ipynb_checkpoints',\n",
       " '10.Functions.ipynb',\n",
       " '16.Python_Modules_and_Packages.ipynb',\n",
       " '17.Python_Files.ipynb',\n",
       " 'Data_Cleaning_1.ipynb',\n",
       " 'Data_Cleaning_2.ipynb',\n",
       " 'example.py',\n",
       " 'myfile.py',\n",
       " 'mypackage',\n",
       " 'python',\n",
       " 'PYTHON-NOTES',\n",
       " 'question_set_3.ipynb',\n",
       " '__pycache__']"
      ]
     },
     "execution_count": 13,
     "metadata": {},
     "output_type": "execute_result"
    }
   ],
   "source": [
    "import os\n",
    "os.listdir()"
   ]
  },
  {
   "cell_type": "code",
   "execution_count": 23,
   "id": "d02349f3-3e58-4cec-93fc-6fb34cff2dfb",
   "metadata": {},
   "outputs": [
    {
     "data": {
      "text/plain": [
       "['$Recycle.Bin',\n",
       " '$WinREAgent',\n",
       " 'Documents and Settings',\n",
       " 'DumpStack.log.tmp',\n",
       " 'hiberfil.sys',\n",
       " 'Intel',\n",
       " 'IntelOptaneData',\n",
       " 'OneDriveTemp',\n",
       " 'pagefile.sys',\n",
       " 'PerfLogs',\n",
       " 'Program Files',\n",
       " 'Program Files (x86)',\n",
       " 'ProgramData',\n",
       " 'Python312',\n",
       " 'Recovery',\n",
       " 'swapfile.sys',\n",
       " 'System Volume Information',\n",
       " 'Users',\n",
       " 'Windows']"
      ]
     },
     "execution_count": 23,
     "metadata": {},
     "output_type": "execute_result"
    }
   ],
   "source": [
    "import os\n",
    "os.listdir(\"C:\\\\\")"
   ]
  },
  {
   "cell_type": "markdown",
   "id": "57491b6d-1f2b-4b6c-b1da-6e8e5b65c316",
   "metadata": {},
   "source": [
    "### Making a New Directory in Python"
   ]
  },
  {
   "cell_type": "raw",
   "id": "6131c131-ab9e-496b-a9bb-725e636beb02",
   "metadata": {},
   "source": [
    "os.mkdir('test')\n",
    "\n",
    "os.listdir()\n",
    "['test']"
   ]
  },
  {
   "cell_type": "markdown",
   "id": "9e400c8b-9a24-4812-8046-ef931d768112",
   "metadata": {},
   "source": [
    "### Renaming a Directory or a File"
   ]
  },
  {
   "cell_type": "raw",
   "id": "ea39db75-f064-4927-9a96-7335f5d18eb0",
   "metadata": {},
   "source": [
    "import os\n",
    "\n",
    "os.listdir()\n",
    "['test']\n",
    "\n",
    "# rename a directory\n",
    "os.rename('test','new_one')\n",
    "\n",
    "os.listdir()\n",
    "['new_one']"
   ]
  },
  {
   "cell_type": "markdown",
   "id": "1d611668-4e0e-4766-a933-e7ad6ab28ed3",
   "metadata": {},
   "source": [
    "### Removing Directory or File in Python"
   ]
  },
  {
   "cell_type": "raw",
   "id": "24397d7e-9043-4d19-88ed-1c848f3f9c90",
   "metadata": {},
   "source": [
    "import os\n",
    "\n",
    "# delete \"myfile.txt\" file\n",
    "os.remove(\"myfile.txt\")\n",
    "\n",
    "# delete the empty directory \"mydir\"\n",
    "os.rmdir(\"mydir\")\n",
    "\n",
    "#In order to remove a non-empty directory, we can use the rmtree() method inside the shutil module. \n",
    "# delete \"mydir\" directory and all of its contents\n",
    "\n",
    "import shutil\n",
    "shutil.rmtree(\"mydir\")\n",
    "\n",
    "#It's important to note that these functions permanently delete the files or directories, so we need to careful when using them"
   ]
  }
 ],
 "metadata": {
  "kernelspec": {
   "display_name": "Python 3 (ipykernel)",
   "language": "python",
   "name": "python3"
  },
  "language_info": {
   "codemirror_mode": {
    "name": "ipython",
    "version": 3
   },
   "file_extension": ".py",
   "mimetype": "text/x-python",
   "name": "python",
   "nbconvert_exporter": "python",
   "pygments_lexer": "ipython3",
   "version": "3.12.4"
  }
 },
 "nbformat": 4,
 "nbformat_minor": 5
}
