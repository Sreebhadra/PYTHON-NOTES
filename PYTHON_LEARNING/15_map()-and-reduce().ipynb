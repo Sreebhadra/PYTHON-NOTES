{
 "cells": [
  {
   "cell_type": "markdown",
   "id": "d6d67775-3135-4cf4-8e16-ff073edc21f7",
   "metadata": {},
   "source": [
    "# **Map, Reduce, and Filter Operations in Python**"
   ]
  },
  {
   "cell_type": "markdown",
   "id": "c0e415cc-d767-4374-91f3-0088891594f8",
   "metadata": {},
   "source": [
    "## **Map Function in Python**"
   ]
  },
  {
   "cell_type": "markdown",
   "id": "08f70c44-850a-4e34-b07a-9ada5ab263db",
   "metadata": {},
   "source": [
    "*map() is used to apply a function to all the items in the input_list**\n",
    "<br>map(function_to_apply,input_list)"
   ]
  },
  {
   "cell_type": "code",
   "execution_count": 17,
   "id": "994eaaf2-6dbf-4f58-87b0-008eefaeaaa3",
   "metadata": {},
   "outputs": [
    {
     "name": "stdout",
     "output_type": "stream",
     "text": [
      "[1]\n",
      "[1, 9]\n",
      "[1, 9, 25]\n",
      "[1, 9, 25, 49]\n"
     ]
    }
   ],
   "source": [
    "#not using map\n",
    "items = [1,3,5,7]\n",
    "squared = []\n",
    "for i in items:\n",
    "    squared.append(i**2)\n",
    "    print(squared)"
   ]
  },
  {
   "cell_type": "code",
   "execution_count": 23,
   "id": "82d90e2b-defd-48b6-90de-b1e81691d98e",
   "metadata": {},
   "outputs": [
    {
     "name": "stdout",
     "output_type": "stream",
     "text": [
      "[1, 9, 25, 49]\n"
     ]
    }
   ],
   "source": [
    "#using map\n",
    "items = [1,3,5,7]\n",
    "squared = list(map(lambda x:x**2,items))\n",
    "print(squared)"
   ]
  },
  {
   "cell_type": "code",
   "execution_count": 71,
   "id": "72565550-3302-4ddb-9686-3b47e8ac5248",
   "metadata": {},
   "outputs": [
    {
     "name": "stdout",
     "output_type": "stream",
     "text": [
      "[3, 4, 8]\n"
     ]
    }
   ],
   "source": [
    "items = [\"3\",\"4\",\"8\"]\n",
    "print(list(map(int,items)))"
   ]
  },
  {
   "cell_type": "markdown",
   "id": "0e434a84-aee6-4861-87b5-74050b00aaa7",
   "metadata": {},
   "source": [
    "## **Filter Function in Python**"
   ]
  },
  {
   "cell_type": "markdown",
   "id": "eab62f8c-eb2c-445b-a5ed-9a530deba376",
   "metadata": {},
   "source": [
    "*filter() is used to create a new list of elements from the function applied*"
   ]
  },
  {
   "cell_type": "code",
   "execution_count": 35,
   "id": "4208e659-19ff-418e-aee1-a52244b0b902",
   "metadata": {},
   "outputs": [
    {
     "name": "stdout",
     "output_type": "stream",
     "text": [
      "[-5, -4, -3, -2, -1]\n"
     ]
    }
   ],
   "source": [
    "items = range(-5,5)\n",
    "less_than_0 = list(filter(lambda x:x<0, items))\n",
    "print(less_than_0)"
   ]
  },
  {
   "cell_type": "code",
   "execution_count": 41,
   "id": "726012e2-618e-4de1-a698-fb0eb07be277",
   "metadata": {},
   "outputs": [
    {
     "name": "stdout",
     "output_type": "stream",
     "text": [
      "[-78, -87]\n"
     ]
    }
   ],
   "source": [
    "items = [34,0,-78,67,0,-87]\n",
    "less_than = list(filter(lambda x:x<0, items))\n",
    "print(less_than)"
   ]
  },
  {
   "cell_type": "code",
   "execution_count": 75,
   "id": "50fcd7a7-7d82-44d9-9181-b1ff70df1658",
   "metadata": {},
   "outputs": [
    {
     "name": "stdout",
     "output_type": "stream",
     "text": [
      "['qw', 'er', 'ty', 'ui']\n"
     ]
    }
   ],
   "source": [
    "items = [\"qw\",\"\",\"er\",\"\",\"ty\",\"ui\"]\n",
    "new = list(filter(lambda x:len(x)>0, items))\n",
    "print(new)"
   ]
  },
  {
   "cell_type": "markdown",
   "id": "b4886859-a9c3-495a-8745-d0e2d948753f",
   "metadata": {},
   "source": [
    "## **Reduce Function in Python**"
   ]
  },
  {
   "cell_type": "markdown",
   "id": "c7b3e4c0-0137-4a40-bc79-ef145fe16558",
   "metadata": {},
   "source": [
    "*The reduce() function is part of the functools module*\n",
    "<br> The reduce() function takes a function and an iterable and applies the function to the first two elements, then to the result and the next element, and so on, until all elements have been processed. \n",
    "<br>The result is a single value.\n",
    "<br>\n",
    "<br>reduce(function,iterable)"
   ]
  },
  {
   "cell_type": "code",
   "execution_count": 67,
   "id": "9458b8bd-31c5-4c7f-afd4-93ffdc7ad264",
   "metadata": {},
   "outputs": [
    {
     "name": "stdout",
     "output_type": "stream",
     "text": [
      "1\n",
      "3\n",
      "15\n",
      "90\n",
      "270\n"
     ]
    }
   ],
   "source": [
    "#not using reduce\n",
    "items = [1,3,5,6,3]\n",
    "product = 1\n",
    "for i in items:\n",
    "    product = product * i\n",
    "    print(product)"
   ]
  },
  {
   "cell_type": "code",
   "execution_count": 90,
   "id": "bdee375b-d518-4562-8e78-6917c3f8445e",
   "metadata": {},
   "outputs": [
    {
     "name": "stdout",
     "output_type": "stream",
     "text": [
      "270\n"
     ]
    }
   ],
   "source": [
    "#using reduce\n",
    "from functools import reduce\n",
    "items = [1,3,5,6,3]\n",
    "product = reduce(lambda x,y:x*y, items)\n",
    "print(product)"
   ]
  },
  {
   "cell_type": "code",
   "execution_count": 104,
   "id": "85fded2f-e30e-49e3-b765-33ab0b35f8dc",
   "metadata": {},
   "outputs": [
    {
     "name": "stdout",
     "output_type": "stream",
     "text": [
      "8\n"
     ]
    }
   ],
   "source": [
    "num = [1,3,5,2,4,8,6,6]\n",
    "larg = reduce(lambda x,y: x if x>y else y, num)\n",
    "print(larg)"
   ]
  },
  {
   "cell_type": "code",
   "execution_count": null,
   "id": "6a1d3f6a-eeda-486b-b2db-a88b0b74d98f",
   "metadata": {},
   "outputs": [],
   "source": []
  }
 ],
 "metadata": {
  "kernelspec": {
   "display_name": "Python 3 (ipykernel)",
   "language": "python",
   "name": "python3"
  },
  "language_info": {
   "codemirror_mode": {
    "name": "ipython",
    "version": 3
   },
   "file_extension": ".py",
   "mimetype": "text/x-python",
   "name": "python",
   "nbconvert_exporter": "python",
   "pygments_lexer": "ipython3",
   "version": "3.12.4"
  }
 },
 "nbformat": 4,
 "nbformat_minor": 5
}
