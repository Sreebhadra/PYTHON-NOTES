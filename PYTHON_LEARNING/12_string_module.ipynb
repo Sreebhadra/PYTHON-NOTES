{
 "cells": [
  {
   "cell_type": "markdown",
   "id": "269554fa-da15-450d-8af5-c664e12f9e5a",
   "metadata": {},
   "source": [
    "# **STRING MODULE IN PYTHON**"
   ]
  },
  {
   "cell_type": "code",
   "execution_count": 2,
   "id": "0343fa54-2169-4867-8385-923498dbc1b4",
   "metadata": {},
   "outputs": [
    {
     "name": "stdout",
     "output_type": "stream",
     "text": [
      "Help on module string:\n",
      "\n",
      "NAME\n",
      "    string - A collection of string constants.\n",
      "\n",
      "MODULE REFERENCE\n",
      "    https://docs.python.org/3.12/library/string.html\n",
      "\n",
      "    The following documentation is automatically generated from the Python\n",
      "    source files.  It may be incomplete, incorrect or include features that\n",
      "    are considered implementation detail and may vary between Python\n",
      "    implementations.  When in doubt, consult the module reference at the\n",
      "    location listed above.\n",
      "\n",
      "DESCRIPTION\n",
      "    Public module variables:\n",
      "\n",
      "    whitespace -- a string containing all ASCII whitespace\n",
      "    ascii_lowercase -- a string containing all ASCII lowercase letters\n",
      "    ascii_uppercase -- a string containing all ASCII uppercase letters\n",
      "    ascii_letters -- a string containing all ASCII letters\n",
      "    digits -- a string containing all ASCII decimal digits\n",
      "    hexdigits -- a string containing all ASCII hexadecimal digits\n",
      "    octdigits -- a string containing all ASCII octal digits\n",
      "    punctuation -- a string containing all ASCII punctuation characters\n",
      "    printable -- a string containing all ASCII characters considered printable\n",
      "\n",
      "CLASSES\n",
      "    builtins.object\n",
      "        Formatter\n",
      "        Template\n",
      "\n",
      "    class Formatter(builtins.object)\n",
      "     |  Methods defined here:\n",
      "     |\n",
      "     |  check_unused_args(self, used_args, args, kwargs)\n",
      "     |\n",
      "     |  convert_field(self, value, conversion)\n",
      "     |\n",
      "     |  format(self, format_string, /, *args, **kwargs)\n",
      "     |\n",
      "     |  format_field(self, value, format_spec)\n",
      "     |\n",
      "     |  get_field(self, field_name, args, kwargs)\n",
      "     |      # given a field_name, find the object it references.\n",
      "     |      #  field_name:   the field being looked up, e.g. \"0.name\"\n",
      "     |      #                 or \"lookup[3]\"\n",
      "     |      #  used_args:    a set of which args have been used\n",
      "     |      #  args, kwargs: as passed in to vformat\n",
      "     |\n",
      "     |  get_value(self, key, args, kwargs)\n",
      "     |\n",
      "     |  parse(self, format_string)\n",
      "     |      # returns an iterable that contains tuples of the form:\n",
      "     |      # (literal_text, field_name, format_spec, conversion)\n",
      "     |      # literal_text can be zero length\n",
      "     |      # field_name can be None, in which case there's no\n",
      "     |      #  object to format and output\n",
      "     |      # if field_name is not None, it is looked up, formatted\n",
      "     |      #  with format_spec and conversion and then used\n",
      "     |\n",
      "     |  vformat(self, format_string, args, kwargs)\n",
      "     |\n",
      "     |  ----------------------------------------------------------------------\n",
      "     |  Data descriptors defined here:\n",
      "     |\n",
      "     |  __dict__\n",
      "     |      dictionary for instance variables\n",
      "     |\n",
      "     |  __weakref__\n",
      "     |      list of weak references to the object\n",
      "\n",
      "    class Template(builtins.object)\n",
      "     |  Template(template)\n",
      "     |\n",
      "     |  A string class for supporting $-substitutions.\n",
      "     |\n",
      "     |  Methods defined here:\n",
      "     |\n",
      "     |  __init__(self, template)\n",
      "     |      Initialize self.  See help(type(self)) for accurate signature.\n",
      "     |\n",
      "     |  get_identifiers(self)\n",
      "     |\n",
      "     |  is_valid(self)\n",
      "     |\n",
      "     |  safe_substitute(self, mapping={}, /, **kws)\n",
      "     |\n",
      "     |  substitute(self, mapping={}, /, **kws)\n",
      "     |\n",
      "     |  ----------------------------------------------------------------------\n",
      "     |  Class methods defined here:\n",
      "     |\n",
      "     |  __init_subclass__()\n",
      "     |      This method is called when a class is subclassed.\n",
      "     |\n",
      "     |      The default implementation does nothing. It may be\n",
      "     |      overridden to extend subclasses.\n",
      "     |\n",
      "     |  ----------------------------------------------------------------------\n",
      "     |  Data descriptors defined here:\n",
      "     |\n",
      "     |  __dict__\n",
      "     |      dictionary for instance variables\n",
      "     |\n",
      "     |  __weakref__\n",
      "     |      list of weak references to the object\n",
      "     |\n",
      "     |  ----------------------------------------------------------------------\n",
      "     |  Data and other attributes defined here:\n",
      "     |\n",
      "     |  braceidpattern = None\n",
      "     |\n",
      "     |  delimiter = '$'\n",
      "     |\n",
      "     |  flags = re.IGNORECASE\n",
      "     |\n",
      "     |  idpattern = '(?a:[_a-z][_a-z0-9]*)'\n",
      "     |\n",
      "     |  pattern = re.compile('\\n            \\\\$(?:\\n              ...identifie...\n",
      "\n",
      "FUNCTIONS\n",
      "    capwords(s, sep=None)\n",
      "        capwords(s [,sep]) -> string\n",
      "\n",
      "        Split the argument into words using split, capitalize each\n",
      "        word using capitalize, and join the capitalized words using\n",
      "        join.  If the optional second argument sep is absent or None,\n",
      "        runs of whitespace characters are replaced by a single space\n",
      "        and leading and trailing whitespace are removed, otherwise\n",
      "        sep is used to split and join the words.\n",
      "\n",
      "DATA\n",
      "    __all__ = ['ascii_letters', 'ascii_lowercase', 'ascii_uppercase', 'cap...\n",
      "    ascii_letters = 'abcdefghijklmnopqrstuvwxyzABCDEFGHIJKLMNOPQRSTUVWXYZ'\n",
      "    ascii_lowercase = 'abcdefghijklmnopqrstuvwxyz'\n",
      "    ascii_uppercase = 'ABCDEFGHIJKLMNOPQRSTUVWXYZ'\n",
      "    digits = '0123456789'\n",
      "    hexdigits = '0123456789abcdefABCDEF'\n",
      "    octdigits = '01234567'\n",
      "    printable = '0123456789abcdefghijklmnopqrstuvwxyzABCDEFGHIJKLMNOPQRSTU...\n",
      "    punctuation = '!\"#$%&\\'()*+,-./:;<=>?@[\\\\]^_`{|}~'\n",
      "    whitespace = ' \\t\\n\\r\\x0b\\x0c'\n",
      "\n",
      "FILE\n",
      "    c:\\users\\admin\\anaconda3\\lib\\string.py\n",
      "\n",
      "\n"
     ]
    }
   ],
   "source": [
    "import string\n",
    "help(string)"
   ]
  },
  {
   "cell_type": "markdown",
   "id": "bf143a0a-afa4-4140-8368-1357213c0fea",
   "metadata": {},
   "source": [
    "## String Module Constants"
   ]
  },
  {
   "cell_type": "code",
   "execution_count": 22,
   "id": "d3ce17ad-1989-4ee7-a96d-72a7d2527034",
   "metadata": {},
   "outputs": [
    {
     "name": "stdout",
     "output_type": "stream",
     "text": [
      "['ascii_letters', 'ascii_lowercase', 'ascii_uppercase', 'capwords', 'digits', 'hexdigits', 'octdigits', 'printable', 'punctuation', 'whitespace', 'Formatter', 'Template']\n",
      "abcdefghijklmnopqrstuvwxyzABCDEFGHIJKLMNOPQRSTUVWXYZ\n",
      "abcdefghijklmnopqrstuvwxyz\n",
      "ABCDEFGHIJKLMNOPQRSTUVWXYZ\n",
      "<function capwords at 0x0000025F93F8D6C0>\n",
      "0123456789\n",
      "0123456789abcdefABCDEF\n",
      "01234567\n",
      "!\"#$%&'()*+,-./:;<=>?@[\\]^_`{|}~\n",
      "<class 'string.Template'>\n"
     ]
    }
   ],
   "source": [
    "import string\n",
    "\n",
    "print(string.__all__)\n",
    "\n",
    "print(string.ascii_letters)\n",
    "print(string.ascii_lowercase)\n",
    "print(string.ascii_uppercase)\n",
    "print(string.capwords)\n",
    "print(string.digits)\n",
    "print(string.hexdigits)\n",
    "print(string.octdigits)\n",
    "print(string.punctuation)\n",
    "\n",
    "#print(string.formatter)\n",
    "print(string.Template)\n",
    "#print(string.whitespace)\n",
    "#print(string.printable)\n",
    "\n",
    "my_string = '*'\n",
    "if my_string in string.ascii_lowercase:\n",
    "   print(\"'{0}' is a lowercase letter.\".format(my_string))"
   ]
  },
  {
   "cell_type": "markdown",
   "id": "59a49dfd-adab-4a3b-8a38-db848c5f5992",
   "metadata": {},
   "source": [
    "## String capwords function"
   ]
  },
  {
   "cell_type": "raw",
   "id": "cf0a4ae0-0830-47d2-9c25-37806922e544",
   "metadata": {},
   "source": [
    "FUNCTIONS\n",
    "    capwords(s, sep=None)\n",
    "        capwords(s [,sep]) -> string\n",
    "\n",
    "        Split the argument into words using split, (str.split())\n",
    "        capitalize each word using capitalize, (str.capitalize())\n",
    "        and join the capitalized words using join.  (str.join())\n",
    "If the optional second argument sep is absent or None,\n",
    "runs of whitespace characters are replaced by a single space\n",
    "and leading and trailing whitespace are removed, otherwise\n",
    "sep is used to split and join the words."
   ]
  },
  {
   "cell_type": "code",
   "execution_count": 28,
   "id": "f9a523eb-e2ba-4458-816d-942785134f31",
   "metadata": {},
   "outputs": [
    {
     "name": "stdout",
     "output_type": "stream",
     "text": [
      "Welcome To Navalt\n"
     ]
    }
   ],
   "source": [
    "s = \"welcome to navalt\"\n",
    "s_new = string.capwords(s, sep=None)\n",
    "print(s_new)"
   ]
  },
  {
   "cell_type": "markdown",
   "id": "6815b3f4-7be3-473f-b420-4e567ce67f5c",
   "metadata": {},
   "source": [
    "## String Module Classes\n",
    "### Formatter\n",
    "### Template"
   ]
  },
  {
   "cell_type": "code",
   "execution_count": 62,
   "id": "06a3d156-2e5f-4b9e-88f1-0073ff895377",
   "metadata": {},
   "outputs": [
    {
     "name": "stdout",
     "output_type": "stream",
     "text": [
      "Welcome to NAVALT\n",
      "welcome to NAVALT\n"
     ]
    }
   ],
   "source": [
    "#Formatter: it behaves exactly like str.format()\n",
    "from string import Formatter\n",
    "formatter = Formatter()\n",
    "print(formatter.format('{} {website}' , 'Welcome to' ,website='NAVALT'))\n",
    "\n",
    "#print(\"welcome to {website}\".format(website=\"NAVALT\"))"
   ]
  },
  {
   "cell_type": "code",
   "execution_count": 68,
   "id": "cc3bbf7a-df51-4bd0-882a-90de4682b8fa",
   "metadata": {},
   "outputs": [
    {
     "name": "stdout",
     "output_type": "stream",
     "text": [
      "sree is from trivandrum\n"
     ]
    }
   ],
   "source": [
    "#Template\n",
    "from string import Template\n",
    "t = Template(\"$name is from $place\")\n",
    "s = t.substitute(name=\"sree\", place=\"trivandrum\")\n",
    "print(s)"
   ]
  },
  {
   "cell_type": "code",
   "execution_count": null,
   "id": "4074a4ff-4aa2-43c0-9040-46de33f4bfe5",
   "metadata": {},
   "outputs": [],
   "source": []
  }
 ],
 "metadata": {
  "kernelspec": {
   "display_name": "Python 3 (ipykernel)",
   "language": "python",
   "name": "python3"
  },
  "language_info": {
   "codemirror_mode": {
    "name": "ipython",
    "version": 3
   },
   "file_extension": ".py",
   "mimetype": "text/x-python",
   "name": "python",
   "nbconvert_exporter": "python",
   "pygments_lexer": "ipython3",
   "version": "3.12.4"
  }
 },
 "nbformat": 4,
 "nbformat_minor": 5
}
