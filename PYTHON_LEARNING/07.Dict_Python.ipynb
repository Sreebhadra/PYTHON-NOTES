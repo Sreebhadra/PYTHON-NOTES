{
 "cells": [
  {
   "cell_type": "markdown",
   "id": "cd32e6ea-ba5e-439e-90d8-9f905f6dd681",
   "metadata": {},
   "source": [
    "# **DICTIONARY IN PYTHON**\n",
    "**unordered\n",
    "<br>mutable\n",
    "<br>created using {} with key-value pair\n",
    "<br> cannot contain duplicate key but value is allowed**"
   ]
  },
  {
   "cell_type": "markdown",
   "id": "d5ed4e05-e4a0-47ad-a690-33b0d40f0c8b",
   "metadata": {},
   "source": [
    "**CREATING A DICTIONARY**"
   ]
  },
  {
   "cell_type": "code",
   "execution_count": 50,
   "id": "9cd7a38b-37b1-4576-977d-729a1384c964",
   "metadata": {},
   "outputs": [
    {
     "name": "stdout",
     "output_type": "stream",
     "text": [
      "{'Orange': 'Orange', 'Apple': 'Red', 'Guava': 'Green'}\n"
     ]
    }
   ],
   "source": [
    "color_fruits = {\n",
    "  \"Orange\": \"Orange\", \n",
    "  \"Apple\": \"Red\", \n",
    "  \"Guava\": \"Green\"\n",
    "}\n",
    "\n",
    "print(color_fruits)"
   ]
  },
  {
   "cell_type": "markdown",
   "id": "dfc3c019-2fda-4112-8bad-9b02dd732ef9",
   "metadata": {},
   "source": [
    "**Dictionary with Integer Key**"
   ]
  },
  {
   "cell_type": "code",
   "execution_count": 54,
   "id": "a72eeb3d-78fe-44f3-a3ff-ce3ecb88debc",
   "metadata": {},
   "outputs": [
    {
     "name": "stdout",
     "output_type": "stream",
     "text": [
      "{1: 'one', 2: 'two', 3: 'three'}\n"
     ]
    }
   ],
   "source": [
    "my_dict = {1: \"one\", 2: \"two\", 3: \"three\"}\n",
    "print(my_dict)"
   ]
  },
  {
   "cell_type": "markdown",
   "id": "2f83eced-5990-4f82-8bb3-8be0379d256e",
   "metadata": {},
   "source": [
    "**Dictionary with tuple keys**"
   ]
  },
  {
   "cell_type": "code",
   "execution_count": 59,
   "id": "c10a3fe4-5440-4263-a017-5a0a9fa939e8",
   "metadata": {},
   "outputs": [
    {
     "name": "stdout",
     "output_type": "stream",
     "text": [
      "{(1, 2): 'one two'}\n"
     ]
    }
   ],
   "source": [
    "my_dict = {(1, 2): \"one two\"}\n",
    "print(my_dict)"
   ]
  },
  {
   "cell_type": "markdown",
   "id": "1044e07e-a8ed-41a2-ae0f-83199d3cf746",
   "metadata": {},
   "source": [
    "**Dictionary with list values**"
   ]
  },
  {
   "cell_type": "code",
   "execution_count": 64,
   "id": "f6538a95-79fe-4287-a5b1-b5497b4623a8",
   "metadata": {},
   "outputs": [
    {
     "name": "stdout",
     "output_type": "stream",
     "text": [
      "{'Green': ['Apple', 'Guava', 'Watermelon']}\n"
     ]
    }
   ],
   "source": [
    "my_dict = {\"Green\": [\"Apple\",\"Guava\",\"Watermelon\"]}\n",
    "print(my_dict)"
   ]
  },
  {
   "cell_type": "markdown",
   "id": "64236aa1-bdac-4912-920d-9439ba68004b",
   "metadata": {},
   "source": [
    "**Dictionary with Duplicate Keys**"
   ]
  },
  {
   "cell_type": "code",
   "execution_count": 67,
   "id": "c0053709-cfdb-439a-a983-afd2d59b651a",
   "metadata": {},
   "outputs": [
    {
     "name": "stdout",
     "output_type": "stream",
     "text": [
      "{'Green': 'Apple', 'Red': 'Apple', 'Orange': 'Orange'}\n"
     ]
    }
   ],
   "source": [
    "colour_fr = {\n",
    "    \"Green\": \"Guava\",\n",
    "    \"Red\": \"Apple\",\n",
    "    \"Green\": \"Apple\",\n",
    "    \"Orange\": \"Orange\"\n",
    "}\n",
    "\n",
    "print(colour_fr)"
   ]
  },
  {
   "cell_type": "markdown",
   "id": "3922b54e-ec2d-4a57-a006-9bd21edabc11",
   "metadata": {},
   "source": [
    "**Accessing Dictionary Elements**"
   ]
  },
  {
   "cell_type": "code",
   "execution_count": 100,
   "id": "94c22e10-a402-4a58-8911-a33fd5ea549b",
   "metadata": {},
   "outputs": [
    {
     "name": "stdout",
     "output_type": "stream",
     "text": [
      "Berlin\n",
      "London\n"
     ]
    }
   ],
   "source": [
    "country_capitals = {\n",
    "  \"Germany\": \"Berlin\", \n",
    "  \"Canada\": \"Ottawa\", \n",
    "  \"England\": \"London\"\n",
    "}\n",
    "\n",
    "print(country_capitals[\"Germany\"])\n",
    "print(country_capitals[\"England\"])"
   ]
  },
  {
   "cell_type": "markdown",
   "id": "2b1c4fb9-1fc2-4391-afe4-d608bb829f86",
   "metadata": {},
   "source": [
    "**Adding elements to a dictionary**"
   ]
  },
  {
   "cell_type": "code",
   "execution_count": 96,
   "id": "9cff2c28-5b16-4444-a336-294121e76dd0",
   "metadata": {},
   "outputs": [
    {
     "name": "stdout",
     "output_type": "stream",
     "text": [
      "{'Germany': 'Berlin', 'Canada': 'Ottawa', 'Italy': 'Rome'}\n"
     ]
    }
   ],
   "source": [
    "country_capitals = {\n",
    "  \"Germany\": \"Berlin\", \n",
    "  \"Canada\": \"Ottawa\", \n",
    "}\n",
    "\n",
    "country_capitals[\"Italy\"] = \"Rome\"\n",
    "\n",
    "print(country_capitals)"
   ]
  },
  {
   "cell_type": "markdown",
   "id": "fc8082e6-144a-4db3-b767-ff3875b6f179",
   "metadata": {},
   "source": [
    "**Removing elements from a Dicyionary**"
   ]
  },
  {
   "cell_type": "code",
   "execution_count": 91,
   "id": "5fe7c3b2-901c-4c84-a012-9b2da00cb160",
   "metadata": {},
   "outputs": [
    {
     "name": "stdout",
     "output_type": "stream",
     "text": [
      "{'Red': 'Apple'}\n"
     ]
    }
   ],
   "source": [
    "color = {\n",
    "  \"Red\": \"Apple\", \n",
    "  \"Green\": \"Apple\", \n",
    "}\n",
    "\n",
    "del color[\"Green\"]\n",
    "\n",
    "print(color)"
   ]
  },
  {
   "cell_type": "markdown",
   "id": "bf44138b-22b6-45c1-83f6-bcf1f4888a41",
   "metadata": {},
   "source": [
    "**Clearing a dictionary**"
   ]
  },
  {
   "cell_type": "code",
   "execution_count": 94,
   "id": "c42b4da2-339d-4357-807a-8c66b7e81947",
   "metadata": {},
   "outputs": [
    {
     "name": "stdout",
     "output_type": "stream",
     "text": [
      "{}\n"
     ]
    }
   ],
   "source": [
    "country_capitals = {\n",
    "  \"Germany\": \"Berlin\", \n",
    "  \"Canada\": \"Ottawa\", \n",
    "}\n",
    "\n",
    "country_capitals.clear()\n",
    "\n",
    "print(country_capitals)"
   ]
  },
  {
   "cell_type": "markdown",
   "id": "11dea5ab-d4cb-4e59-85b9-0e4c435ab7b1",
   "metadata": {},
   "source": [
    "**Updating Dictionary elements**"
   ]
  },
  {
   "cell_type": "code",
   "execution_count": 85,
   "id": "64408458-b84e-4ce4-b154-e8735798a4ec",
   "metadata": {},
   "outputs": [
    {
     "name": "stdout",
     "output_type": "stream",
     "text": [
      "{'Red': 'apple', 'Green': 'Apple'}\n"
     ]
    }
   ],
   "source": [
    "color_fruits = {\n",
    "  \"Red\": \"apple\", \n",
    "  \"Green\": \"Guava\", \n",
    "}\n",
    "\n",
    "color_fruits[\"Green\"] = \"Apple\"\n",
    "\n",
    "print(color_fruits)"
   ]
  },
  {
   "cell_type": "markdown",
   "id": "667fc3d0-db46-4988-83e0-8fea1e7a52f4",
   "metadata": {},
   "source": [
    "**Iterating over a dictionary**"
   ]
  },
  {
   "cell_type": "code",
   "execution_count": 82,
   "id": "2331474d-486f-4e91-a4a2-2f701e74940b",
   "metadata": {},
   "outputs": [
    {
     "name": "stdout",
     "output_type": "stream",
     "text": [
      "Red\n",
      "Orange\n"
     ]
    }
   ],
   "source": [
    "color_fruits = {\n",
    "  \"Red\": \"Apple\", \n",
    "  \"Orange\": \"Orange\" \n",
    "}\n",
    "\n",
    "#for i in color_fruits:\n",
    "#    print(i)\n",
    "\n",
    "for i in color_fruits:\n",
    "   fruit = color_fruits[i]\n",
    "   print(i)"
   ]
  },
  {
   "cell_type": "markdown",
   "id": "e699de05-2e76-462c-9266-34b9f8a5d8b8",
   "metadata": {},
   "source": [
    "**getting the length of a dictionary**"
   ]
  },
  {
   "cell_type": "code",
   "execution_count": 73,
   "id": "45675cd9-e1ac-47de-b7f0-8cef7c562884",
   "metadata": {},
   "outputs": [
    {
     "name": "stdout",
     "output_type": "stream",
     "text": [
      "2\n"
     ]
    }
   ],
   "source": [
    "country_capitals = {\"England\": \"London\", \"Italy\": \"Rome\"}\n",
    "\n",
    "print(len(country_capitals))"
   ]
  },
  {
   "cell_type": "markdown",
   "id": "be34a482-3b0a-4057-9c61-c3ac633ee3f4",
   "metadata": {},
   "source": [
    "### **PYTHON METHODS**"
   ]
  },
  {
   "cell_type": "raw",
   "id": "b45283c7-2eb5-4fe4-99e0-4fa56c6757a5",
   "metadata": {},
   "source": [
    "Python dictionaries have several methods such as get(), keys(), values(), items(), update(), and pop()"
   ]
  },
  {
   "cell_type": "code",
   "execution_count": 6,
   "id": "4181ac5a-fdf3-453a-85fc-38682563e3a5",
   "metadata": {},
   "outputs": [
    {
     "name": "stdout",
     "output_type": "stream",
     "text": [
      "dict_keys(['name', 'age'])\n",
      "dict_values(['Sree', 22])\n",
      "Sree\n"
     ]
    }
   ],
   "source": [
    "my_dict = {'name': 'Sree', 'age': 22}\n",
    "print(my_dict.keys())\n",
    "print(my_dict.values())\n",
    "print(my_dict.get('name'))"
   ]
  },
  {
   "cell_type": "markdown",
   "id": "4d52fd2f-cea6-4f7b-a6f6-5fed24b1c6f0",
   "metadata": {},
   "source": [
    "**The get() Method** : The get() method allows you to retrieve the value of a specific key from the dictionary."
   ]
  },
  {
   "cell_type": "code",
   "execution_count": 14,
   "id": "573bac02-c3e9-420a-8ed1-f9807e5761ef",
   "metadata": {},
   "outputs": [
    {
     "name": "stdout",
     "output_type": "stream",
     "text": [
      "Sree\n",
      "None\n",
      "Not Found\n"
     ]
    }
   ],
   "source": [
    "my_dict = {'name': 'Sree', 'age': 22}\n",
    "print(my_dict.get('name'))\n",
    "print(my_dict.get('address'))\n",
    "print(my_dict.get('address', 'Not Found'))"
   ]
  },
  {
   "cell_type": "markdown",
   "id": "75dff5e8-b0d0-4d98-a198-3360b64d7c72",
   "metadata": {},
   "source": [
    "**The keys() and values() Methods** : The keys() and values() methods return a list of all the keys and values in the dictionary, respectively."
   ]
  },
  {
   "cell_type": "code",
   "execution_count": 17,
   "id": "5e68912c-a121-45b0-be47-f87e92f0fb43",
   "metadata": {},
   "outputs": [
    {
     "name": "stdout",
     "output_type": "stream",
     "text": [
      "dict_keys(['name', 'age'])\n",
      "dict_values(['Sree', 22])\n"
     ]
    }
   ],
   "source": [
    "my_dict = {'name': 'Sree', 'age': 22}\n",
    "print(my_dict.keys())\n",
    "print(my_dict.values())"
   ]
  },
  {
   "cell_type": "markdown",
   "id": "7ada9d40-c11b-4e4f-93fc-e457ea06ea5e",
   "metadata": {},
   "source": [
    "**The items() Method**: The items() method is used to return a list of all key-value pairs in the dictionary."
   ]
  },
  {
   "cell_type": "code",
   "execution_count": 30,
   "id": "de7921e2-c166-4b77-b25f-e8bbfaaad22e",
   "metadata": {},
   "outputs": [
    {
     "name": "stdout",
     "output_type": "stream",
     "text": [
      "dict_items([('name', 'Sree'), ('age', 22)])\n"
     ]
    }
   ],
   "source": [
    "my_dict = {'name': 'Sree', 'age': 22}\n",
    "print(my_dict.items())"
   ]
  },
  {
   "cell_type": "markdown",
   "id": "2c0feac9-1279-4db8-a5eb-d04368b1af91",
   "metadata": {},
   "source": [
    "**The update() Method** : The update() method allows you to add new key-value pairs to a dictionary or modify existing ones."
   ]
  },
  {
   "cell_type": "code",
   "execution_count": 27,
   "id": "89da2ceb-6dcd-4851-9c7b-25dde583ea44",
   "metadata": {},
   "outputs": [
    {
     "name": "stdout",
     "output_type": "stream",
     "text": [
      "{'name': 'Sree', 'age': 21, 'address': 'ARA 157'}\n"
     ]
    }
   ],
   "source": [
    "my_dict = {'name': 'Sree', 'age': 22}\n",
    "my_dict.update({'age': 21, 'address': 'ARA 157'})\n",
    "print(my_dict)"
   ]
  },
  {
   "cell_type": "markdown",
   "id": "4a8ea3ff-0d19-4f9c-a201-f1789eddaaab",
   "metadata": {},
   "source": [
    "**The pop() Method** : The pop() method is used to remove a key-value pair from a dictionary"
   ]
  },
  {
   "cell_type": "code",
   "execution_count": 35,
   "id": "d5886b7c-bce9-466c-9483-dd8d0b6379d9",
   "metadata": {},
   "outputs": [
    {
     "name": "stdout",
     "output_type": "stream",
     "text": [
      "ARA 157\n",
      "{'name': 'Sree', 'age': 22}\n"
     ]
    }
   ],
   "source": [
    "my_dict = {'name': 'Sree', 'age': 22, 'address': 'ARA 157'}\n",
    "removed_value = my_dict.pop('address')\n",
    "print(removed_value)\n",
    "print(my_dict)"
   ]
  },
  {
   "cell_type": "markdown",
   "id": "c89c1539-faa4-4e7d-aa38-f62d13aad683",
   "metadata": {},
   "source": [
    "**The setdefault() Method** : The setdefault() method is a safer way to add new key-value pairs to a dictionary. It only adds the pair if the key does not already exist in the dictionary."
   ]
  },
  {
   "cell_type": "code",
   "execution_count": 42,
   "id": "2096ea85-2e85-45b1-aecc-f94c49d1a14f",
   "metadata": {},
   "outputs": [
    {
     "name": "stdout",
     "output_type": "stream",
     "text": [
      "{'name': 'Sree', 'age': 22, 'address': 'ARA 157'}\n"
     ]
    }
   ],
   "source": [
    "my_dict = {'name': 'Sree', 'age': 22}\n",
    "my_dict.setdefault('address', 'ARA 157')\n",
    "print(my_dict)"
   ]
  },
  {
   "cell_type": "markdown",
   "id": "1439a610-269c-42d3-928c-df6110bcdfba",
   "metadata": {},
   "source": [
    "**The popitem() Method** : removes and returns the last key-value pair added to the dictionary."
   ]
  },
  {
   "cell_type": "code",
   "execution_count": 46,
   "id": "b3231028-5e27-42f6-88c3-9d1a468e0dd0",
   "metadata": {},
   "outputs": [
    {
     "name": "stdout",
     "output_type": "stream",
     "text": [
      "('address', 'ARA 157')\n",
      "{'name': 'Sree', 'age': 22}\n"
     ]
    }
   ],
   "source": [
    "my_dict = {'name': 'Sree', 'age': 22, 'address': 'ARA 157'}\n",
    "removed_pair = my_dict.popitem()\n",
    "print(removed_pair)\n",
    "print(my_dict)"
   ]
  },
  {
   "cell_type": "code",
   "execution_count": null,
   "id": "7a386ffe-f179-4688-a93f-2a06124973c2",
   "metadata": {},
   "outputs": [],
   "source": []
  }
 ],
 "metadata": {
  "kernelspec": {
   "display_name": "Python 3 (ipykernel)",
   "language": "python",
   "name": "python3"
  },
  "language_info": {
   "codemirror_mode": {
    "name": "ipython",
    "version": 3
   },
   "file_extension": ".py",
   "mimetype": "text/x-python",
   "name": "python",
   "nbconvert_exporter": "python",
   "pygments_lexer": "ipython3",
   "version": "3.12.4"
  }
 },
 "nbformat": 4,
 "nbformat_minor": 5
}
