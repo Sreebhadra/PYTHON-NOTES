{
 "cells": [
  {
   "cell_type": "markdown",
   "id": "2cbb0153-9d82-4492-beb2-7bc76b8ed455",
   "metadata": {},
   "source": [
    "# PYTHON FLOW CONTROL"
   ]
  },
  {
   "cell_type": "markdown",
   "id": "aeb0cc83-8d78-4227-868c-87fc02290e44",
   "metadata": {},
   "source": [
    "**Python if...else Statement**"
   ]
  },
  {
   "cell_type": "code",
   "execution_count": 1,
   "id": "db98112a-76bf-45fc-8f3d-0f75b037a3f7",
   "metadata": {},
   "outputs": [
    {
     "name": "stdin",
     "output_type": "stream",
     "text": [
      "enter a number:  10\n"
     ]
    },
    {
     "name": "stdout",
     "output_type": "stream",
     "text": [
      "checking whether 10 is greater than or not 10...\n",
      "False\n"
     ]
    }
   ],
   "source": [
    "num=int(input(\"enter a number: \"))\n",
    "print(\"checking whether {} is greater than or not 10...\".format(num))\n",
    "if (num>10):\n",
    "        print(True)\n",
    "else:\n",
    "        print(False)"
   ]
  },
  {
   "cell_type": "markdown",
   "id": "60c4f547-91d5-4f67-a02f-d671b8ffe080",
   "metadata": {},
   "source": [
    "**The if...else statement** is used to execute a block of code among two alternatives.\n",
    "However, if we need to make a choice between more than two alternatives, we use the if...elif...else statement."
   ]
  },
  {
   "cell_type": "code",
   "execution_count": 2,
   "id": "a5ae4a1c-8cd7-49df-83a8-84254baf798a",
   "metadata": {},
   "outputs": [
    {
     "name": "stdin",
     "output_type": "stream",
     "text": [
      "enter a number:  0\n"
     ]
    },
    {
     "name": "stdout",
     "output_type": "stream",
     "text": [
      "Zero\n"
     ]
    }
   ],
   "source": [
    "num=int(input(\"enter a number: \"))\n",
    "\n",
    "if(num>0):\n",
    "    print(\"its a positive number\")\n",
    "elif(num<0):\n",
    "    print(\"its a negative number\")\n",
    "else:\n",
    "    print(\"Zero\")"
   ]
  },
  {
   "cell_type": "markdown",
   "id": "ae902dfc-2417-425a-affb-b050a5fb06c7",
   "metadata": {},
   "source": [
    "**Python Nested if Statements**\n",
    "It is possible to include an if statement inside another if statement"
   ]
  },
  {
   "cell_type": "code",
   "execution_count": 3,
   "id": "9f7bdd3b-38c9-49d2-a45c-3e948340c50d",
   "metadata": {},
   "outputs": [
    {
     "name": "stdin",
     "output_type": "stream",
     "text": [
      "enter a number:  98\n"
     ]
    },
    {
     "name": "stdout",
     "output_type": "stream",
     "text": [
      "Positive\n"
     ]
    }
   ],
   "source": [
    "num=int(input(\"enter a number: \"))\n",
    "if(num>=0):\n",
    "    if(num>0):\n",
    "        print(\"Positive\")\n",
    "    else:\n",
    "        print(\"Zero\")\n",
    "else:\n",
    "    print(\"negative\")"
   ]
  },
  {
   "cell_type": "markdown",
   "id": "19e1e981-75ac-4464-a966-15bd311cb26d",
   "metadata": {},
   "source": [
    "**For loop** is used to iterate over sequences such as lists, strings, tuples, etc."
   ]
  },
  {
   "cell_type": "code",
   "execution_count": 4,
   "id": "ba252b28-c221-473b-a00a-ab1a346d1b47",
   "metadata": {},
   "outputs": [
    {
     "name": "stdout",
     "output_type": "stream",
     "text": [
      "apple\n",
      "orange\n",
      "banana\n"
     ]
    }
   ],
   "source": [
    "list=['apple','orange','banana']\n",
    "#to access all the elements in the list\n",
    "for i in list:\n",
    "    print(i)"
   ]
  },
  {
   "cell_type": "code",
   "execution_count": 5,
   "id": "3df9c476-bfd5-45e3-b4ab-c64f37b4abae",
   "metadata": {},
   "outputs": [
    {
     "name": "stdout",
     "output_type": "stream",
     "text": [
      "P\n",
      "Y\n",
      "T\n",
      "H\n",
      "O\n",
      "N\n"
     ]
    }
   ],
   "source": [
    "string='PYTHON'\n",
    "#to access all the characters\n",
    "for i in string:\n",
    "    print(i)"
   ]
  },
  {
   "cell_type": "code",
   "execution_count": 6,
   "id": "4d46f375-6b1a-4d61-883a-a67d441691e5",
   "metadata": {},
   "outputs": [
    {
     "name": "stdout",
     "output_type": "stream",
     "text": [
      "0\n",
      "1\n",
      "2\n",
      "3\n"
     ]
    }
   ],
   "source": [
    "for i in range(4):\n",
    "    print(i)"
   ]
  },
  {
   "cell_type": "markdown",
   "id": "38db2a0c-49d3-403e-b59e-6bf1ca34b56e",
   "metadata": {},
   "source": [
    "**Python while Loop**: Used to repeat a block of code until a certain condition is met. "
   ]
  },
  {
   "cell_type": "code",
   "execution_count": 7,
   "id": "8eaccc31-fd8f-48be-828a-211c9ab08a5f",
   "metadata": {},
   "outputs": [
    {
     "name": "stdout",
     "output_type": "stream",
     "text": [
      "1\n",
      "2\n",
      "3\n",
      "4\n",
      "5\n"
     ]
    }
   ],
   "source": [
    "num=1\n",
    "while num<=5:\n",
    "    print(num)\n",
    "    num=num+1"
   ]
  },
  {
   "cell_type": "code",
   "execution_count": 2,
   "id": "1b975881-c8e0-48c0-92f8-f1d52fcacfa9",
   "metadata": {},
   "outputs": [
    {
     "name": "stdin",
     "output_type": "stream",
     "text": [
      "enter a number:  23\n",
      "enter a number 0\n"
     ]
    },
    {
     "name": "stdout",
     "output_type": "stream",
     "text": [
      "the sum is:  23\n"
     ]
    }
   ],
   "source": [
    "num=int(input(\"enter a number: \"))\n",
    "total=0\n",
    "\n",
    "while num!=0:\n",
    "    total+=num\n",
    "    num=int(input(\"enter a number\"))\n",
    "\n",
    "print(\"the sum is: \",total)\n",
    "\n",
    "#if the user enters a number other than 0, it adds the number to the total and asks the user to enter a number again.\n",
    "#if the user enters 0, the loop terminates and the program displays the total."
   ]
  },
  {
   "cell_type": "markdown",
   "id": "3633551c-61f0-4004-bef7-a73456a7fed0",
   "metadata": {},
   "source": [
    "**INFINITE WHILE LOOP**: If the condition of a while loop is always True, the loop runs for infinite times, forming an infinite while loop."
   ]
  },
  {
   "cell_type": "code",
   "execution_count": 2,
   "id": "1322c951-59a7-4a4a-ad5d-761cc6d6c986",
   "metadata": {},
   "outputs": [
    {
     "name": "stdin",
     "output_type": "stream",
     "text": [
      "whats your age?:  4\n"
     ]
    },
    {
     "name": "stdout",
     "output_type": "stream",
     "text": [
      "you cannot vote\n"
     ]
    }
   ],
   "source": [
    "age=int(input(\"whats your age?: \"))\n",
    "\n",
    "while age>=18:\n",
    "    print('you can vote')\n",
    "else: #not included\n",
    "    print(\"you cannot vote\") #not included"
   ]
  },
  {
   "cell_type": "markdown",
   "id": "dcd95d49-6bc8-429d-9e1d-92ccb7e6a602",
   "metadata": {},
   "source": [
    "**PYTHON BREAK AND CONTINUE:** break exits the loop entirely\n",
    "<br>continue skips the current iteration and jump to the next one"
   ]
  },
  {
   "cell_type": "code",
   "execution_count": 1,
   "id": "bce7288e-9f8e-4f79-b87d-63028bb7ad12",
   "metadata": {},
   "outputs": [
    {
     "name": "stdout",
     "output_type": "stream",
     "text": [
      "0\n",
      "1\n",
      "2\n",
      "3\n"
     ]
    }
   ],
   "source": [
    "for i in range(10):\n",
    "    if i==4:\n",
    "        break\n",
    "    print(i)"
   ]
  },
  {
   "cell_type": "code",
   "execution_count": 5,
   "id": "0a207dd9-32bf-42eb-b60e-b4da63a6c3d4",
   "metadata": {},
   "outputs": [
    {
     "name": "stdout",
     "output_type": "stream",
     "text": [
      "0\n",
      "2\n",
      "3\n",
      "4\n",
      "5\n"
     ]
    }
   ],
   "source": [
    "for i in range(6):\n",
    "    if i==1:\n",
    "        continue\n",
    "    print(i)\n",
    "#skips the current iteration when i is equal to 1, and continues the next iteration."
   ]
  },
  {
   "cell_type": "markdown",
   "id": "d79554d8-b7e4-4e6e-a477-5e53a00f34a7",
   "metadata": {},
   "source": [
    "**PYTHON PASS STATEMENT**:  the pass statement is a null statement which can be used as a placeholder for future code.\n",
    "Suppose we have a loop or a function that is not implemented yet, but we want to implement it in the future. THEN...\n",
    "Nothing happens when the pass is executed. It results in no operation (NOP)"
   ]
  },
  {
   "cell_type": "code",
   "execution_count": 4,
   "id": "efcadaef-3414-4bed-a97a-deec9f16daf3",
   "metadata": {},
   "outputs": [
    {
     "name": "stdout",
     "output_type": "stream",
     "text": [
      "helloooo\n"
     ]
    }
   ],
   "source": [
    "n=10\n",
    "if n>10:\n",
    "    pass #if pass is not there then there will be indentation error\n",
    "\n",
    "print(\"helloooo\")"
   ]
  },
  {
   "cell_type": "code",
   "execution_count": null,
   "id": "cbbdce7f-d316-4f7f-8fad-0c7721a6ffbe",
   "metadata": {},
   "outputs": [],
   "source": []
  }
 ],
 "metadata": {
  "kernelspec": {
   "display_name": "Python 3 (ipykernel)",
   "language": "python",
   "name": "python3"
  },
  "language_info": {
   "codemirror_mode": {
    "name": "ipython",
    "version": 3
   },
   "file_extension": ".py",
   "mimetype": "text/x-python",
   "name": "python",
   "nbconvert_exporter": "python",
   "pygments_lexer": "ipython3",
   "version": "3.12.4"
  }
 },
 "nbformat": 4,
 "nbformat_minor": 5
}
