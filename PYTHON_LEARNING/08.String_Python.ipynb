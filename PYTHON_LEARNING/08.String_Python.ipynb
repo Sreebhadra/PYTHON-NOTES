{
 "cells": [
  {
   "cell_type": "markdown",
   "id": "92cfed5b-61b0-4336-a30b-79a38b8d1670",
   "metadata": {},
   "source": [
    "# **PYTHON STRINGS**"
   ]
  },
  {
   "cell_type": "markdown",
   "id": "63e54bc5-218b-4125-82c1-dba3186e61ef",
   "metadata": {},
   "source": [
    "## **String is a sequence of character**"
   ]
  },
  {
   "cell_type": "markdown",
   "id": "2aadf07e-9639-48c7-9760-554f3e1da189",
   "metadata": {},
   "source": [
    "### Access String Characters in Python: INDEXING, NEGATIVE INDEXING AND SLICING"
   ]
  },
  {
   "cell_type": "code",
   "execution_count": 2,
   "id": "02a6d720-c5b9-4f80-bdc5-40d1963b7b08",
   "metadata": {},
   "outputs": [
    {
     "name": "stdout",
     "output_type": "stream",
     "text": [
      "r\n",
      "a\n",
      "reebhad\n"
     ]
    }
   ],
   "source": [
    "name='sreebhadra'\n",
    "print(name[1])\n",
    "print(name[-1])\n",
    "print(name[1:-2])"
   ]
  },
  {
   "cell_type": "markdown",
   "id": "1b0ac8a3-6e5b-431b-a758-5b4e7472e108",
   "metadata": {},
   "source": [
    "### Python Strings are Immutable"
   ]
  },
  {
   "cell_type": "code",
   "execution_count": 19,
   "id": "c6975ba4-1105-4a57-8403-bc527967fe0c",
   "metadata": {},
   "outputs": [
    {
     "name": "stdout",
     "output_type": "stream",
     "text": [
      "Hola Amigos\n"
     ]
    }
   ],
   "source": [
    "message = 'Hola Amigos'\n",
    "#message[0] = 'H'\n",
    "print(message)"
   ]
  },
  {
   "cell_type": "code",
   "execution_count": 5,
   "id": "75a37118-a813-43e6-a9f6-35f55497cbf4",
   "metadata": {},
   "outputs": [
    {
     "name": "stdout",
     "output_type": "stream",
     "text": [
      "Hello Friends\n"
     ]
    }
   ],
   "source": [
    "message = 'Hola Amigos'\n",
    "message = 'Hello Friends'\n",
    "\n",
    "print(message)"
   ]
  },
  {
   "cell_type": "markdown",
   "id": "7be02f2a-322d-4550-8458-fa19bae8ec88",
   "metadata": {},
   "source": [
    "### Python multiline string"
   ]
  },
  {
   "cell_type": "code",
   "execution_count": 6,
   "id": "9989a38f-9c41-4fe6-b5cc-5a9de0a19bee",
   "metadata": {},
   "outputs": [
    {
     "name": "stdout",
     "output_type": "stream",
     "text": [
      "\n",
      "OM\n",
      "Adithi devo bhava\n",
      "\n"
     ]
    }
   ],
   "source": [
    "message = \"\"\"\n",
    "OM\n",
    "Adithi devo bhava\n",
    "\"\"\"\n",
    "\n",
    "print(message)"
   ]
  },
  {
   "cell_type": "markdown",
   "id": "eb80f8b3-aaea-45f7-8883-9070237112b3",
   "metadata": {},
   "source": [
    "### Python String Operations"
   ]
  },
  {
   "cell_type": "markdown",
   "id": "820277de-e330-4071-9cab-0f5f02ef7035",
   "metadata": {},
   "source": [
    "### 1. Compare Two Strings"
   ]
  },
  {
   "cell_type": "code",
   "execution_count": 8,
   "id": "78a43780-e1fc-44b8-b150-de40ae300d77",
   "metadata": {},
   "outputs": [
    {
     "name": "stdout",
     "output_type": "stream",
     "text": [
      "False\n",
      "True\n"
     ]
    }
   ],
   "source": [
    "str1 = \"Hello\"\n",
    "str2 = \"Hmmmm\"\n",
    "str3 = \"Hello\"\n",
    "\n",
    "print(str1 == str2)\n",
    "print(str1 == str3)"
   ]
  },
  {
   "cell_type": "markdown",
   "id": "518dff3f-c7fb-4baa-aad0-d3cd09b38c5e",
   "metadata": {},
   "source": [
    "### 2. Join Two or More Strings"
   ]
  },
  {
   "cell_type": "code",
   "execution_count": 9,
   "id": "cec28ec1-83ee-434a-879e-b8b72ee65559",
   "metadata": {},
   "outputs": [
    {
     "name": "stdout",
     "output_type": "stream",
     "text": [
      "Hello, Jack\n"
     ]
    }
   ],
   "source": [
    "a = \"Hello, \"\n",
    "b = \"Jack\"\n",
    "\n",
    "result = a + b\n",
    "print(result)"
   ]
  },
  {
   "cell_type": "markdown",
   "id": "4f7a861c-4a6b-40a7-828d-2808a60f098b",
   "metadata": {},
   "source": [
    "### Iterate Through a Python String using for loop"
   ]
  },
  {
   "cell_type": "code",
   "execution_count": 10,
   "id": "62f5c7c3-52d1-4241-96da-d9c50556becf",
   "metadata": {},
   "outputs": [
    {
     "name": "stdout",
     "output_type": "stream",
     "text": [
      "H\n",
      "e\n",
      "l\n",
      "l\n",
      "o\n"
     ]
    }
   ],
   "source": [
    "a = 'Hello'\n",
    "for i in a:\n",
    "    print(i)"
   ]
  },
  {
   "cell_type": "markdown",
   "id": "18982889-42e7-4653-83fb-61967567d61d",
   "metadata": {},
   "source": [
    "### Python string length: len()"
   ]
  },
  {
   "cell_type": "code",
   "execution_count": 11,
   "id": "2a616bf2-bd79-4544-b5ec-f61e414ba2d3",
   "metadata": {},
   "outputs": [
    {
     "name": "stdout",
     "output_type": "stream",
     "text": [
      "5\n"
     ]
    }
   ],
   "source": [
    "a = 'Hello'\n",
    "print(len(a))"
   ]
  },
  {
   "cell_type": "markdown",
   "id": "cba61d9d-e42d-4b50-b433-8336271b3178",
   "metadata": {},
   "source": [
    "### String Membership Test"
   ]
  },
  {
   "cell_type": "code",
   "execution_count": 13,
   "id": "a18c7f89-856d-45b6-b3aa-7132fe3c15a2",
   "metadata": {},
   "outputs": [
    {
     "name": "stdout",
     "output_type": "stream",
     "text": [
      "True\n",
      "False\n"
     ]
    }
   ],
   "source": [
    "print('a' in 'program') \n",
    "print('ram' not in 'program') "
   ]
  },
  {
   "cell_type": "markdown",
   "id": "dc299bc8-c2a8-4dba-8977-4860158a6fb2",
   "metadata": {},
   "source": [
    "### Escape sequences in python: use of single quote and double quote inside a string"
   ]
  },
  {
   "cell_type": "code",
   "execution_count": 16,
   "id": "970f2524-4f75-4941-a26e-092aead33d4b",
   "metadata": {},
   "outputs": [
    {
     "name": "stdout",
     "output_type": "stream",
     "text": [
      "He said, \"What's there?\"\n"
     ]
    }
   ],
   "source": [
    "# escape double quotes\n",
    "example = \"He said, \\\"What's there?\\\"\"\n",
    "# escape single quotes\n",
    "example = 'He said, \"What\\'s there?\"'\n",
    "print(example)\n",
    "\n",
    "#example = \"He said, \"What's there?\"\"\n",
    "#print(example) # throws error"
   ]
  },
  {
   "cell_type": "markdown",
   "id": "1063c6e5-0ebb-45cb-bdeb-806176436cfe",
   "metadata": {},
   "source": [
    "### Python String Formatting (f-Strings)"
   ]
  },
  {
   "cell_type": "code",
   "execution_count": 18,
   "id": "4d817d46-7883-49f8-84ec-eb9376be2c71",
   "metadata": {},
   "outputs": [
    {
     "name": "stdout",
     "output_type": "stream",
     "text": [
      "Sree is from India\n"
     ]
    }
   ],
   "source": [
    "name = 'Sree'\n",
    "country = 'India'\n",
    "\n",
    "print(f'{name} is from {country}')"
   ]
  },
  {
   "cell_type": "markdown",
   "id": "7467cdad-eb75-4a65-bd89-25c678d3996e",
   "metadata": {},
   "source": [
    "## STRING METHODS"
   ]
  },
  {
   "cell_type": "markdown",
   "id": "62664080-c016-4db1-a5e3-a5b05b48d752",
   "metadata": {},
   "source": [
    "### capitalize()"
   ]
  },
  {
   "cell_type": "code",
   "execution_count": 5,
   "id": "b8769255-3f3c-4dde-a156-766cfddb28c2",
   "metadata": {},
   "outputs": [
    {
     "name": "stdout",
     "output_type": "stream",
     "text": [
      "Hello, and welcome to my world.\n"
     ]
    }
   ],
   "source": [
    "txt = \"hello, and welcome to my world.\"\n",
    "\n",
    "x = txt.capitalize()\n",
    "\n",
    "print (x)"
   ]
  },
  {
   "cell_type": "markdown",
   "id": "0b062bfa-338c-494a-b9b2-484cfed023ad",
   "metadata": {},
   "source": [
    "### upper() \tConverts the string to uppercase"
   ]
  },
  {
   "cell_type": "code",
   "execution_count": 2,
   "id": "daa69eb0-7097-4024-8dcb-348f336c8fc8",
   "metadata": {},
   "outputs": [
    {
     "name": "stdout",
     "output_type": "stream",
     "text": [
      "HELLO, WORLD!\n"
     ]
    }
   ],
   "source": [
    "text = \"Hello, World!\"\n",
    "print(text.upper())"
   ]
  },
  {
   "cell_type": "markdown",
   "id": "aa920a64-1759-4520-b6b9-40c31e55ea8e",
   "metadata": {},
   "source": [
    "### lower()\tConverts the string to lowercase"
   ]
  },
  {
   "cell_type": "code",
   "execution_count": 4,
   "id": "7074eb48-a12b-4b3d-81d4-fc624098ad0d",
   "metadata": {},
   "outputs": [
    {
     "name": "stdout",
     "output_type": "stream",
     "text": [
      "hello, world!\n"
     ]
    }
   ],
   "source": [
    "text = \"Hello, World!\"\n",
    "print(text.lower())"
   ]
  },
  {
   "cell_type": "markdown",
   "id": "a87c1870-6045-4d63-8459-3b1cc86ba563",
   "metadata": {},
   "source": [
    "### partition()\tReturns a tuple"
   ]
  },
  {
   "cell_type": "code",
   "execution_count": 8,
   "id": "08bb40cc-f122-421c-990b-2be74218e5d1",
   "metadata": {},
   "outputs": [
    {
     "name": "stdout",
     "output_type": "stream",
     "text": [
      "('Hello', ',', ' World!')\n"
     ]
    }
   ],
   "source": [
    "text = \"Hello, World!\"\n",
    "print(text.partition(\",\"))"
   ]
  },
  {
   "cell_type": "markdown",
   "id": "fbd84326-f617-4fd0-85ea-92e678848638",
   "metadata": {},
   "source": [
    "### replace()\tReplaces substring inside"
   ]
  },
  {
   "cell_type": "code",
   "execution_count": 11,
   "id": "8faa0613-56c8-4577-a7a4-178c081a0e3d",
   "metadata": {},
   "outputs": [
    {
     "name": "stdout",
     "output_type": "stream",
     "text": [
      "Hello, Python!\n"
     ]
    }
   ],
   "source": [
    "text = \"Hello, World!\"\n",
    "print(text.replace(\"World\", \"Python\"))"
   ]
  },
  {
   "cell_type": "markdown",
   "id": "12276600-04f2-428e-9400-44d293a9cd7a",
   "metadata": {},
   "source": [
    "### find()\tReturns the index of the first occurrence of substring"
   ]
  },
  {
   "cell_type": "code",
   "execution_count": 14,
   "id": "430c44ca-b981-4f5d-9337-cc2a92b3b173",
   "metadata": {},
   "outputs": [
    {
     "name": "stdout",
     "output_type": "stream",
     "text": [
      "4\n"
     ]
    }
   ],
   "source": [
    "text = \"Hello, World!\"\n",
    "print(text.find(\"o\"))"
   ]
  },
  {
   "cell_type": "markdown",
   "id": "3158f993-c081-44eb-b3ee-5a8069262413",
   "metadata": {},
   "source": [
    "### rstrip()\tRemoves trailing characters"
   ]
  },
  {
   "cell_type": "code",
   "execution_count": 19,
   "id": "2780083c-b5e9-4beb-84c9-31770a901266",
   "metadata": {},
   "outputs": [
    {
     "name": "stdout",
     "output_type": "stream",
     "text": [
      "Hello, World!\n"
     ]
    }
   ],
   "source": [
    "text = \"Hello, World!\"\n",
    "print(text.rstrip())"
   ]
  },
  {
   "cell_type": "markdown",
   "id": "876c674b-2b3a-4a19-ac8d-22bb7a9f0577",
   "metadata": {},
   "source": [
    "### split()\tSplits string from left"
   ]
  },
  {
   "cell_type": "code",
   "execution_count": 22,
   "id": "a7f1ce4d-58e5-423b-8fd1-997bbf43bdd5",
   "metadata": {},
   "outputs": [
    {
     "name": "stdout",
     "output_type": "stream",
     "text": [
      "['Hello', ' World!']\n"
     ]
    }
   ],
   "source": [
    "text = \"Hello, World!\"\n",
    "print(text.split(\",\"))"
   ]
  },
  {
   "cell_type": "markdown",
   "id": "58bf621a-707e-43f8-9b5d-a4710b7b7596",
   "metadata": {},
   "source": [
    "### startswith()\tChecks if string starts with the specified string"
   ]
  },
  {
   "cell_type": "code",
   "execution_count": 25,
   "id": "16169ba2-30db-4c94-93e4-6185f304389c",
   "metadata": {},
   "outputs": [
    {
     "name": "stdout",
     "output_type": "stream",
     "text": [
      "True\n"
     ]
    }
   ],
   "source": [
    "text = \"Hello, World!\"\n",
    "print(text.startswith(\"Hello\"))"
   ]
  },
  {
   "cell_type": "markdown",
   "id": "d17a6a22-a217-4704-9066-9f6d4dd6adb9",
   "metadata": {},
   "source": [
    "### isnumeric()\tChecks numeric characters"
   ]
  },
  {
   "cell_type": "code",
   "execution_count": 28,
   "id": "46524610-2b14-4671-bebe-8720a9e87b69",
   "metadata": {},
   "outputs": [
    {
     "name": "stdout",
     "output_type": "stream",
     "text": [
      "True\n"
     ]
    }
   ],
   "source": [
    "text = \"12345\"\n",
    "print(text.isnumeric())"
   ]
  },
  {
   "cell_type": "markdown",
   "id": "063f45d2-1d86-498e-a086-6c8a8c39e8c9",
   "metadata": {},
   "source": [
    "### index()\tReturns index of substring"
   ]
  },
  {
   "cell_type": "code",
   "execution_count": 31,
   "id": "8fcbe147-1f0e-4beb-813c-fa1dba475d89",
   "metadata": {},
   "outputs": [
    {
     "name": "stdout",
     "output_type": "stream",
     "text": [
      "7\n"
     ]
    }
   ],
   "source": [
    "text = \"Hello, World!\"\n",
    "print(text.index(\"World\"))"
   ]
  },
  {
   "cell_type": "markdown",
   "id": "f619dc21-ff57-44cb-9da5-0bf9ef32ecde",
   "metadata": {},
   "source": [
    "## All STRING METHODS"
   ]
  },
  {
   "cell_type": "markdown",
   "id": "9004cbe6-2e94-45a4-8b52-59bd3ac3d708",
   "metadata": {},
   "source": [
    "### capitalize()"
   ]
  },
  {
   "cell_type": "code",
   "execution_count": 16,
   "id": "8d1168c7-52c1-420b-91a9-af41dc83e774",
   "metadata": {},
   "outputs": [
    {
     "data": {
      "text/plain": [
       "'Hello, my name is sreebhadra'"
      ]
     },
     "execution_count": 16,
     "metadata": {},
     "output_type": "execute_result"
    }
   ],
   "source": [
    "string = \"hello, my name is sreebhadra\"\n",
    "\n",
    "string.capitalize()"
   ]
  },
  {
   "cell_type": "markdown",
   "id": "5c84cd59-ab6c-489d-b026-088502a9a810",
   "metadata": {},
   "source": [
    "### casefold()"
   ]
  },
  {
   "cell_type": "code",
   "execution_count": 190,
   "id": "e7653475-f455-4722-b561-e3eec6852134",
   "metadata": {},
   "outputs": [
    {
     "data": {
      "text/plain": [
       "'uioghj'"
      ]
     },
     "execution_count": 190,
     "metadata": {},
     "output_type": "execute_result"
    }
   ],
   "source": [
    "str1 = \"UIOghj\"\n",
    "str1.casefold() #turns to lower "
   ]
  },
  {
   "cell_type": "markdown",
   "id": "e36224e9-c7f5-4de9-b804-cb515514b192",
   "metadata": {},
   "source": [
    "### center()"
   ]
  },
  {
   "cell_type": "code",
   "execution_count": 196,
   "id": "af5b57ff-c2b3-459b-ab29-902be788e1d9",
   "metadata": {},
   "outputs": [
    {
     "data": {
      "text/plain": [
       "'*****sdfgh cvbb*****'"
      ]
     },
     "execution_count": 196,
     "metadata": {},
     "output_type": "execute_result"
    }
   ],
   "source": [
    "str2 = \"sdfgh cvbb\"\n",
    "str2.center(20,'*') #centralize the sentence with the given char filled left and right"
   ]
  },
  {
   "cell_type": "markdown",
   "id": "c0586343-85ec-4dc2-9142-8b08c192c2f7",
   "metadata": {},
   "source": [
    "### count()"
   ]
  },
  {
   "cell_type": "code",
   "execution_count": 48,
   "id": "03d43278-2b8c-4f33-a543-d5702f1d9483",
   "metadata": {},
   "outputs": [
    {
     "data": {
      "text/plain": [
       "4"
      ]
     },
     "execution_count": 48,
     "metadata": {},
     "output_type": "execute_result"
    }
   ],
   "source": [
    "str3 = \"sreeee dfghj\"\n",
    "str3.count(\"e\")"
   ]
  },
  {
   "cell_type": "markdown",
   "id": "edea3f6c-b19b-497b-a542-d05d672d5188",
   "metadata": {},
   "source": [
    "### encode()"
   ]
  },
  {
   "cell_type": "code",
   "execution_count": 50,
   "id": "051be9ed-a4ff-420f-ac4d-d40049b32018",
   "metadata": {},
   "outputs": [
    {
     "data": {
      "text/plain": [
       "b'python prrr'"
      ]
     },
     "execution_count": 50,
     "metadata": {},
     "output_type": "execute_result"
    }
   ],
   "source": [
    "str4 = \"python prrr\"\n",
    "str4.encode()\n",
    "\n",
    "# converts a string value into a collection of bytes, using an encoding scheme specified by the user"
   ]
  },
  {
   "cell_type": "markdown",
   "id": "9d23bc3b-b6f6-47cb-8742-e4b71b203988",
   "metadata": {},
   "source": [
    "### endswith()"
   ]
  },
  {
   "cell_type": "code",
   "execution_count": 52,
   "id": "ae87517a-acfc-458c-8e60-7368cc5b9f89",
   "metadata": {},
   "outputs": [
    {
     "data": {
      "text/plain": [
       "True"
      ]
     },
     "execution_count": 52,
     "metadata": {},
     "output_type": "execute_result"
    }
   ],
   "source": [
    "str5 = \"hello World\"\n",
    "str5.endswith(\"World\")"
   ]
  },
  {
   "cell_type": "markdown",
   "id": "5fc20f59-80b8-4f92-87dc-2ad26173af5c",
   "metadata": {},
   "source": [
    "### expandtabs()"
   ]
  },
  {
   "cell_type": "code",
   "execution_count": 58,
   "id": "9aee5343-b273-4c24-b9f9-33c7792eb7db",
   "metadata": {},
   "outputs": [
    {
     "data": {
      "text/plain": [
       "'H    e    l    l    o'"
      ]
     },
     "execution_count": 58,
     "metadata": {},
     "output_type": "execute_result"
    }
   ],
   "source": [
    "\"H\\te\\tl\\tl\\to\".expandtabs(5)"
   ]
  },
  {
   "cell_type": "markdown",
   "id": "143c91b1-949c-4e3d-96a0-3d6fcc82fe44",
   "metadata": {},
   "source": [
    "### find()"
   ]
  },
  {
   "cell_type": "code",
   "execution_count": 203,
   "id": "d1134b65-eafb-4ea4-a026-c6d48251e2f9",
   "metadata": {},
   "outputs": [
    {
     "data": {
      "text/plain": [
       "6"
      ]
     },
     "execution_count": 203,
     "metadata": {},
     "output_type": "execute_result"
    }
   ],
   "source": [
    "str5 = \"hello World\"\n",
    "str5.find(\"World\") #index will be the output"
   ]
  },
  {
   "cell_type": "markdown",
   "id": "f2ab7efb-c71b-4b0c-a3b8-5fd08c92cb99",
   "metadata": {},
   "source": [
    "### format() and format_map()"
   ]
  },
  {
   "cell_type": "code",
   "execution_count": 64,
   "id": "f94a070c-a670-4aa0-8282-be32679200b1",
   "metadata": {},
   "outputs": [
    {
     "data": {
      "text/plain": [
       "'My name is Sree'"
      ]
     },
     "execution_count": 64,
     "metadata": {},
     "output_type": "execute_result"
    }
   ],
   "source": [
    "\"My name is {name}\".format(name=\"Sree\")"
   ]
  },
  {
   "cell_type": "code",
   "execution_count": 70,
   "id": "c265a0b8-97ad-4da1-a837-1a64db4f3542",
   "metadata": {},
   "outputs": [
    {
     "data": {
      "text/plain": [
       "'My name is Sree'"
      ]
     },
     "execution_count": 70,
     "metadata": {},
     "output_type": "execute_result"
    }
   ],
   "source": [
    "\"My name is {name}\".format_map({\"name\": \"Sree\"})\n"
   ]
  },
  {
   "cell_type": "markdown",
   "id": "2e3dd766-463b-498a-a3d3-5a74b7f9c77f",
   "metadata": {},
   "source": [
    "### index()"
   ]
  },
  {
   "cell_type": "code",
   "execution_count": 3,
   "id": "e218127d-d1ee-4a55-bda0-f94533a55cf2",
   "metadata": {},
   "outputs": [
    {
     "data": {
      "text/plain": [
       "5"
      ]
     },
     "execution_count": 3,
     "metadata": {},
     "output_type": "execute_result"
    }
   ],
   "source": [
    "str6 = \"sree bhadra balamurali\"\n",
    "str6.index(\"bhadra\")"
   ]
  },
  {
   "cell_type": "code",
   "execution_count": 11,
   "id": "bea0dc2d-103c-4a46-9237-60854993baae",
   "metadata": {},
   "outputs": [
    {
     "name": "stdout",
     "output_type": "stream",
     "text": [
      "7\n",
      "-1\n"
     ]
    }
   ],
   "source": [
    "#find() produces -1 as output if it is unable to find the substring, whereas index() throws a ValueError exception\n",
    "\n",
    "strg1 = \"sree bhadra balamurali\"\n",
    "print(strg1.index(\"a\"))\n",
    "\n",
    "strg2 = \"hello World\"\n",
    "print(strg2.find(\"z\")) "
   ]
  },
  {
   "cell_type": "markdown",
   "id": "b67a7c96-76c9-4fd4-883b-5fd6ffbe7a24",
   "metadata": {},
   "source": [
    "### isalnum()"
   ]
  },
  {
   "cell_type": "code",
   "execution_count": 209,
   "id": "e6c89fcf-deb9-4e71-8bb4-fc117c514680",
   "metadata": {},
   "outputs": [
    {
     "name": "stdout",
     "output_type": "stream",
     "text": [
      "False\n",
      "True\n"
     ]
    }
   ],
   "source": [
    "print(\"helloo world\".isalnum())\n",
    "print(\"HelloWorld123\".isalnum()) \n",
    "\n",
    "#is alphanumeric i.e. alphabet and number"
   ]
  },
  {
   "cell_type": "markdown",
   "id": "7f70e198-63e7-488a-82f1-6225f91ccb92",
   "metadata": {},
   "source": [
    "### isalpha()"
   ]
  },
  {
   "cell_type": "code",
   "execution_count": 84,
   "id": "052cc2d7-376b-4920-ae6c-5cdc8eaa80bd",
   "metadata": {},
   "outputs": [
    {
     "data": {
      "text/plain": [
       "True"
      ]
     },
     "execution_count": 84,
     "metadata": {},
     "output_type": "execute_result"
    }
   ],
   "source": [
    "str7 = \"pythonprogram\" #if whitespace there, then false\n",
    "str7.isalpha()\n",
    "\n",
    "#is all alphabets"
   ]
  },
  {
   "cell_type": "markdown",
   "id": "4e770c02-6fce-42af-80e9-7b89aeb98a03",
   "metadata": {},
   "source": [
    "### isascii()"
   ]
  },
  {
   "cell_type": "code",
   "execution_count": 213,
   "id": "fb73c33e-1807-4282-b647-2f5175482b28",
   "metadata": {},
   "outputs": [
    {
     "name": "stdout",
     "output_type": "stream",
     "text": [
      "True\n",
      "False\n"
     ]
    }
   ],
   "source": [
    "print(\"Hello World!\".isascii())\n",
    "print(\"Hel\\xf6n World!\".isascii())\n",
    "\n",
    "#character belonging to the ASCII character set"
   ]
  },
  {
   "cell_type": "markdown",
   "id": "e0971596-341a-4410-a8da-cf9772f0f960",
   "metadata": {},
   "source": [
    "### isdecimal()"
   ]
  },
  {
   "cell_type": "code",
   "execution_count": 229,
   "id": "0a2ae7a8-aaff-4729-a8b0-d4f534f05f72",
   "metadata": {},
   "outputs": [
    {
     "name": "stdout",
     "output_type": "stream",
     "text": [
      "False\n",
      "False\n",
      "False\n",
      "True\n"
     ]
    }
   ],
   "source": [
    "print(\"12345/2\".isdecimal())\n",
    "print(\"12345.2\".isdecimal())\n",
    "print(\"12345a\".isdecimal())\n",
    "print(\"12345\".isdecimal())\n",
    "\n",
    "#Because . is not numeric, a digit, nor decimal"
   ]
  },
  {
   "cell_type": "markdown",
   "id": "a84dddcf-3772-484d-ade0-2195a9c05627",
   "metadata": {},
   "source": [
    "### isdigit()"
   ]
  },
  {
   "cell_type": "code",
   "execution_count": 227,
   "id": "62c4d019-fe25-442e-b01a-b4da8eb80e22",
   "metadata": {},
   "outputs": [
    {
     "name": "stdout",
     "output_type": "stream",
     "text": [
      "False\n",
      "False\n",
      "False\n",
      "True\n"
     ]
    }
   ],
   "source": [
    "print(\"12345/2\".isdigit())\n",
    "print(\"12345.2\".isdigit())\n",
    "print(\"12345a\".isdigit())\n",
    "print(\"12345\".isdigit())\n",
    "\n",
    "#Because . is not numeric, a digit, nor decimal"
   ]
  },
  {
   "cell_type": "markdown",
   "id": "a431d9dd-5efb-4448-8f34-cf0e7dad47c2",
   "metadata": {},
   "source": [
    "### isidentifier()"
   ]
  },
  {
   "cell_type": "code",
   "execution_count": 224,
   "id": "86d3319c-0b82-4622-922e-c2fffe82bcec",
   "metadata": {},
   "outputs": [
    {
     "name": "stdout",
     "output_type": "stream",
     "text": [
      "True\n",
      "False\n",
      "False\n",
      "True\n"
     ]
    }
   ],
   "source": [
    "print(\"valid_identifier\".isidentifier())\n",
    "print(\"valid identifier\".isidentifier())\n",
    "print(\"valid-identifier\".isidentifier())\n",
    "print(\"valididentifier\".isidentifier())"
   ]
  },
  {
   "cell_type": "markdown",
   "id": "44c71c0b-8c6c-4d35-9549-6c1404061b73",
   "metadata": {},
   "source": [
    "### islower()"
   ]
  },
  {
   "cell_type": "code",
   "execution_count": 108,
   "id": "f973297a-e127-4def-9ed4-cb150561be4e",
   "metadata": {},
   "outputs": [
    {
     "data": {
      "text/plain": [
       "False"
      ]
     },
     "execution_count": 108,
     "metadata": {},
     "output_type": "execute_result"
    }
   ],
   "source": [
    "str8 = \"EAST WEST\"\n",
    "str8.islower()"
   ]
  },
  {
   "cell_type": "markdown",
   "id": "c216fa98-ffdd-47c8-b31a-d292d53e819a",
   "metadata": {},
   "source": [
    "### isnumeric()"
   ]
  },
  {
   "cell_type": "code",
   "execution_count": 231,
   "id": "169b3235-8cb1-498a-b356-2dc54071434d",
   "metadata": {},
   "outputs": [
    {
     "name": "stdout",
     "output_type": "stream",
     "text": [
      "False\n",
      "False\n",
      "False\n",
      "True\n"
     ]
    }
   ],
   "source": [
    "print(\"12345/2\".isnumeric())\n",
    "print(\"12345.2\".isnumeric())\n",
    "print(\"12345a\".isnumeric())\n",
    "print(\"12345\".isnumeric())"
   ]
  },
  {
   "cell_type": "markdown",
   "id": "ff90bfde-760e-423c-b190-8c6f6d09e121",
   "metadata": {},
   "source": [
    "### isprintable()"
   ]
  },
  {
   "cell_type": "code",
   "execution_count": 114,
   "id": "562bbe0f-33ff-4321-8fe6-92ae488e48e1",
   "metadata": {},
   "outputs": [
    {
     "name": "stdout",
     "output_type": "stream",
     "text": [
      "True\n",
      "False\n"
     ]
    }
   ],
   "source": [
    "print(\"python\".isprintable())\n",
    "print(\"python\\t\".isprintable())"
   ]
  },
  {
   "cell_type": "markdown",
   "id": "aec89a53-716e-42ad-969f-6cd10e1ccb1f",
   "metadata": {},
   "source": [
    "### isspace()"
   ]
  },
  {
   "cell_type": "code",
   "execution_count": 240,
   "id": "eefb89f5-3bea-4210-a6eb-fc08ea0c4139",
   "metadata": {},
   "outputs": [
    {
     "name": "stdout",
     "output_type": "stream",
     "text": [
      "True\n",
      "False\n",
      "False\n"
     ]
    }
   ],
   "source": [
    "print(\"   \".isspace())\n",
    "print(\" d \".isspace())\n",
    "print(\"fg\".isspace())"
   ]
  },
  {
   "cell_type": "markdown",
   "id": "4cea03e5-8308-48ed-bb4d-c467f9b9a69e",
   "metadata": {},
   "source": [
    "### istitle()"
   ]
  },
  {
   "cell_type": "code",
   "execution_count": 126,
   "id": "c9bab906-0a96-4280-b76e-d017b5543320",
   "metadata": {},
   "outputs": [
    {
     "name": "stdout",
     "output_type": "stream",
     "text": [
      "False\n",
      "False\n",
      "True\n"
     ]
    }
   ],
   "source": [
    "print(\"PYTHON IS EASY\".istitle())\n",
    "print(\"python is easy\".istitle())\n",
    "print(\"Pythin Is Easy\".istitle())"
   ]
  },
  {
   "cell_type": "markdown",
   "id": "92881f4c-6268-4d2a-a2f4-35389de18207",
   "metadata": {},
   "source": [
    "### isupper()"
   ]
  },
  {
   "cell_type": "code",
   "execution_count": 243,
   "id": "ad1efe46-ce82-4712-a85b-963a85d50f8e",
   "metadata": {},
   "outputs": [
    {
     "data": {
      "text/plain": [
       "False"
      ]
     },
     "execution_count": 243,
     "metadata": {},
     "output_type": "execute_result"
    }
   ],
   "source": [
    "\"SREe\".isupper()"
   ]
  },
  {
   "cell_type": "markdown",
   "id": "a84c2e4a-9676-4bfa-9be9-234cccc7dc0b",
   "metadata": {},
   "source": [
    "### join()"
   ]
  },
  {
   "cell_type": "code",
   "execution_count": 130,
   "id": "828802ac-15e3-47cb-92f0-178f836b0263",
   "metadata": {},
   "outputs": [
    {
     "data": {
      "text/plain": [
       "'Hello-World'"
      ]
     },
     "execution_count": 130,
     "metadata": {},
     "output_type": "execute_result"
    }
   ],
   "source": [
    "\"-\".join([\"Hello\", \"World\"])"
   ]
  },
  {
   "cell_type": "markdown",
   "id": "adf3963c-2e25-48df-98ae-53858bcb4b06",
   "metadata": {},
   "source": [
    "### ljust() and rjust()"
   ]
  },
  {
   "cell_type": "code",
   "execution_count": 247,
   "id": "70a23edb-8186-4fcd-be31-64830ea127fa",
   "metadata": {},
   "outputs": [
    {
     "name": "stdout",
     "output_type": "stream",
     "text": [
      "Hello     \n",
      "     Hello\n"
     ]
    }
   ],
   "source": [
    "print(\"Hello\".ljust(10)) #left align\n",
    "print(\"Hello\".rjust(10)) #right align"
   ]
  },
  {
   "cell_type": "markdown",
   "id": "f314d507-d28b-4d0c-8f00-d8cc21fe600e",
   "metadata": {},
   "source": [
    "### lower()"
   ]
  },
  {
   "cell_type": "code",
   "execution_count": 134,
   "id": "210cd867-4160-4119-bccd-73724b49b2f2",
   "metadata": {},
   "outputs": [
    {
     "data": {
      "text/plain": [
       "'hello world'"
      ]
     },
     "execution_count": 134,
     "metadata": {},
     "output_type": "execute_result"
    }
   ],
   "source": [
    "\"HELLO WORLD\".lower()"
   ]
  },
  {
   "cell_type": "markdown",
   "id": "328494dd-1ecf-413f-83a0-222f8bdd6a53",
   "metadata": {},
   "source": [
    "### lstrip() and rstrip()"
   ]
  },
  {
   "cell_type": "code",
   "execution_count": 257,
   "id": "2631c8e0-b32d-4024-82ca-cb572cf61600",
   "metadata": {},
   "outputs": [
    {
     "name": "stdout",
     "output_type": "stream",
     "text": [
      "Hello World\n",
      "Hello World\n"
     ]
    }
   ],
   "source": [
    "print(\"   Hello World\".lstrip()) #removes whitespace from left\n",
    "print(\"Hello World   \".rstrip()) #removes whitespace from right"
   ]
  },
  {
   "cell_type": "markdown",
   "id": "820af9f9-09d6-45c1-8f38-51bd381cb755",
   "metadata": {},
   "source": [
    "### maketrans()"
   ]
  },
  {
   "cell_type": "code",
   "execution_count": 333,
   "id": "0234c607-1ca1-4172-bd38-648851b5eddd",
   "metadata": {},
   "outputs": [
    {
     "name": "stdout",
     "output_type": "stream",
     "text": [
      "Hello Pam!\n"
     ]
    }
   ],
   "source": [
    "txt = \"Hello Sam!\"\n",
    "mytable = str.maketrans(\"S\", \"P\")\n",
    "print(txt.translate(mytable))\n",
    "\n",
    "#used to construct the transition table \n",
    "#specify the list of characters that need to be replaced in the whole string \n",
    "#or the characters that need to be deleted from the string"
   ]
  },
  {
   "cell_type": "markdown",
   "id": "6c8ec836-b1bf-4647-8c72-0d9acf36efa0",
   "metadata": {},
   "source": [
    "### translate()"
   ]
  },
  {
   "cell_type": "code",
   "execution_count": 337,
   "id": "5415b2bb-7be9-48b7-928e-283c834aeca7",
   "metadata": {},
   "outputs": [
    {
     "name": "stdout",
     "output_type": "stream",
     "text": [
      "{72: 74}\n",
      "Jello\n"
     ]
    }
   ],
   "source": [
    "print(\"Hello\".maketrans(\"H\", \"J\"))\n",
    "print(\"Hello\".translate(str.maketrans(\"H\", \"J\")))\n",
    "\n",
    "#used to make the translations\n",
    "#This function uses the translation mapping specified using the maketrans()."
   ]
  },
  {
   "cell_type": "markdown",
   "id": "0e1e5706-2ff3-4911-bec7-ae5544eb4c30",
   "metadata": {},
   "source": [
    "### partition()"
   ]
  },
  {
   "cell_type": "code",
   "execution_count": 152,
   "id": "f8e4b876-e8e2-47af-8fd9-46be3335cd55",
   "metadata": {},
   "outputs": [
    {
     "data": {
      "text/plain": [
       "('SOLD-O', 'U', 'T')"
      ]
     },
     "execution_count": 152,
     "metadata": {},
     "output_type": "execute_result"
    }
   ],
   "source": [
    "str9 = \"SOLD-OUT\"\n",
    "str9.partition(\"U\")"
   ]
  },
  {
   "cell_type": "markdown",
   "id": "8e2b32d8-671b-4b17-8e9f-a80f6103a63c",
   "metadata": {},
   "source": [
    "### replace()"
   ]
  },
  {
   "cell_type": "code",
   "execution_count": 154,
   "id": "fa446250-41f9-43b1-b2e8-858075e3d8aa",
   "metadata": {},
   "outputs": [
    {
     "data": {
      "text/plain": [
       "'Python programming'"
      ]
     },
     "execution_count": 154,
     "metadata": {},
     "output_type": "execute_result"
    }
   ],
   "source": [
    "str10 = \"sreebhadra programming\"\n",
    "str10.replace(\"sreebhadra\", \"Python\")"
   ]
  },
  {
   "cell_type": "markdown",
   "id": "53cf965d-37d4-49e8-9e4b-d3e7b3c167f0",
   "metadata": {},
   "source": [
    "### rfind()"
   ]
  },
  {
   "cell_type": "code",
   "execution_count": 309,
   "id": "fbdd36c1-f444-4f36-b212-3619fd153634",
   "metadata": {},
   "outputs": [
    {
     "name": "stdout",
     "output_type": "stream",
     "text": [
      "12\n"
     ]
    }
   ],
   "source": [
    "print(\"Hello World World\".rfind(\"World\"))"
   ]
  },
  {
   "cell_type": "markdown",
   "id": "7febda5a-8585-46ce-9984-f1a5dd884261",
   "metadata": {},
   "source": [
    "### rindex()"
   ]
  },
  {
   "cell_type": "code",
   "execution_count": 311,
   "id": "b229136a-2a81-46d4-a17f-b9ee25c51df4",
   "metadata": {},
   "outputs": [
    {
     "name": "stdout",
     "output_type": "stream",
     "text": [
      "12\n"
     ]
    }
   ],
   "source": [
    "print(\"Hello World World\".rindex(\"World\"))"
   ]
  },
  {
   "cell_type": "markdown",
   "id": "17642fd1-5b19-4137-839a-38968520e00d",
   "metadata": {},
   "source": [
    "### rpartition()"
   ]
  },
  {
   "cell_type": "code",
   "execution_count": 315,
   "id": "c9b41aba-cb80-4389-9522-5d75d6ac5716",
   "metadata": {},
   "outputs": [
    {
     "name": "stdout",
     "output_type": "stream",
     "text": [
      "('Hello World ', 'World', '')\n",
      "('', 'Hello', ' World World')\n",
      "('Hello World ', 'Wor', 'ld')\n"
     ]
    }
   ],
   "source": [
    "print(\"Hello World World\".rpartition(\"World\"))\n",
    "print(\"Hello World World\".rpartition(\"Hello\"))\n",
    "print(\"Hello World World\".rpartition(\"Wor\"))"
   ]
  },
  {
   "cell_type": "markdown",
   "id": "7a5aa7a5-3919-4569-8180-001a223374ce",
   "metadata": {},
   "source": [
    "### rsplit()"
   ]
  },
  {
   "cell_type": "code",
   "execution_count": 306,
   "id": "8b41c888-54ae-4a72-8f2a-76e5d343c7e3",
   "metadata": {},
   "outputs": [
    {
     "name": "stdout",
     "output_type": "stream",
     "text": [
      "['Hello World', 'World']\n",
      "['Hello', 'World', 'World']\n",
      "['Hello World World']\n"
     ]
    }
   ],
   "source": [
    "print(\"Hello World World\".rsplit(\" \", 1))\n",
    "print(\"Hello World World\".rsplit(\" \", 2))\n",
    "print(\"Hello World World\".rsplit(\" \", 0))"
   ]
  },
  {
   "cell_type": "markdown",
   "id": "226a5a46-1846-4f73-aa28-73fcee254287",
   "metadata": {},
   "source": [
    "### split()"
   ]
  },
  {
   "cell_type": "code",
   "execution_count": 168,
   "id": "6685783c-ad8b-45cc-a94c-c61b5d588c1e",
   "metadata": {},
   "outputs": [
    {
     "data": {
      "text/plain": [
       "['Hello', 'World', 'World']"
      ]
     },
     "execution_count": 168,
     "metadata": {},
     "output_type": "execute_result"
    }
   ],
   "source": [
    "\"Hello World World\".split()"
   ]
  },
  {
   "cell_type": "markdown",
   "id": "79474ece-9b7d-40bb-884b-d855d110ede9",
   "metadata": {},
   "source": [
    "### splitlines()"
   ]
  },
  {
   "cell_type": "code",
   "execution_count": 319,
   "id": "14126cea-ff48-4dec-89c3-e8fdecdc32e3",
   "metadata": {},
   "outputs": [
    {
     "data": {
      "text/plain": [
       "['Hello', 'World', 'Python']"
      ]
     },
     "execution_count": 319,
     "metadata": {},
     "output_type": "execute_result"
    }
   ],
   "source": [
    "\"Hello\\nWorld\\nPython\".splitlines()"
   ]
  },
  {
   "cell_type": "markdown",
   "id": "d05125e1-a201-4c9b-8524-6b6210fac6a8",
   "metadata": {},
   "source": [
    "### startswith()"
   ]
  },
  {
   "cell_type": "code",
   "execution_count": 172,
   "id": "e547c692-3e5a-45de-8499-ce20c4040d6d",
   "metadata": {},
   "outputs": [
    {
     "data": {
      "text/plain": [
       "True"
      ]
     },
     "execution_count": 172,
     "metadata": {},
     "output_type": "execute_result"
    }
   ],
   "source": [
    "\"Hello World\".startswith(\"Hello\")"
   ]
  },
  {
   "cell_type": "markdown",
   "id": "95df1232-053c-4746-b0a6-79d63668e04b",
   "metadata": {},
   "source": [
    "### strip()"
   ]
  },
  {
   "cell_type": "code",
   "execution_count": 323,
   "id": "0606454f-cb61-44c5-9553-c238f67a5aa0",
   "metadata": {},
   "outputs": [
    {
     "data": {
      "text/plain": [
       "'Hello World'"
      ]
     },
     "execution_count": 323,
     "metadata": {},
     "output_type": "execute_result"
    }
   ],
   "source": [
    "\"   Hello World   \".strip() #removes characters from the beginning and the end"
   ]
  },
  {
   "cell_type": "markdown",
   "id": "35959c7e-fd08-45cb-a1d4-75c46521a0be",
   "metadata": {},
   "source": [
    "### swapcase()"
   ]
  },
  {
   "cell_type": "code",
   "execution_count": 176,
   "id": "ae959fa9-9eed-4ccc-bc45-2338cde4b462",
   "metadata": {},
   "outputs": [
    {
     "data": {
      "text/plain": [
       "'hELLO wORLD'"
      ]
     },
     "execution_count": 176,
     "metadata": {},
     "output_type": "execute_result"
    }
   ],
   "source": [
    "\"Hello World\".swapcase()"
   ]
  },
  {
   "cell_type": "markdown",
   "id": "474a31ad-8fe9-4e85-ad8b-1bf53f25c1c1",
   "metadata": {},
   "source": [
    "### title()"
   ]
  },
  {
   "cell_type": "code",
   "execution_count": 178,
   "id": "4bf54cfe-bc1d-4953-9886-702afcadf563",
   "metadata": {},
   "outputs": [
    {
     "data": {
      "text/plain": [
       "'Hello World'"
      ]
     },
     "execution_count": 178,
     "metadata": {},
     "output_type": "execute_result"
    }
   ],
   "source": [
    "\"hello world\".title()"
   ]
  },
  {
   "cell_type": "markdown",
   "id": "2883a2ac-86e6-4f97-b598-459f6ae7d4dd",
   "metadata": {},
   "source": [
    "### upper()"
   ]
  },
  {
   "cell_type": "code",
   "execution_count": 186,
   "id": "3542585a-95ee-490a-baf4-b7808ffc846f",
   "metadata": {},
   "outputs": [
    {
     "data": {
      "text/plain": [
       "'HELLO, MY NAME IS SREE'"
      ]
     },
     "execution_count": 186,
     "metadata": {},
     "output_type": "execute_result"
    }
   ],
   "source": [
    "string = \"hello, my name is sree\"\n",
    "string.upper()"
   ]
  },
  {
   "cell_type": "markdown",
   "id": "08e71502-02db-4885-a100-ae11f7e7166f",
   "metadata": {},
   "source": [
    "### zfill()"
   ]
  },
  {
   "cell_type": "code",
   "execution_count": 329,
   "id": "ea95909c-cc17-415d-81c2-970469c1a8fd",
   "metadata": {},
   "outputs": [
    {
     "data": {
      "text/plain": [
       "'0000000000sreebhadra'"
      ]
     },
     "execution_count": 329,
     "metadata": {},
     "output_type": "execute_result"
    }
   ],
   "source": [
    "\"sreebhadra\".zfill(20) #adds zeros (0) at the beginning of the string, until it reaches the specified length"
   ]
  },
  {
   "cell_type": "code",
   "execution_count": null,
   "id": "973b9189-4648-4672-a0d3-88cecd36fb52",
   "metadata": {},
   "outputs": [],
   "source": []
  }
 ],
 "metadata": {
  "kernelspec": {
   "display_name": "Python 3 (ipykernel)",
   "language": "python",
   "name": "python3"
  },
  "language_info": {
   "codemirror_mode": {
    "name": "ipython",
    "version": 3
   },
   "file_extension": ".py",
   "mimetype": "text/x-python",
   "name": "python",
   "nbconvert_exporter": "python",
   "pygments_lexer": "ipython3",
   "version": "3.12.4"
  }
 },
 "nbformat": 4,
 "nbformat_minor": 5
}
