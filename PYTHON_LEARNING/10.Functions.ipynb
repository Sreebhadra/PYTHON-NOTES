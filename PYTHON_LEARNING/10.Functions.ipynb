{
 "cells": [
  {
   "cell_type": "markdown",
   "id": "cb09fad3-b32b-48a2-82ea-4467c6657e84",
   "metadata": {},
   "source": [
    "# PYTHON FUNCTIONS\n",
    "**Functions facilitate code reusability. <br>In simple terms, when you want to do something repeatedly, you can define that something as a function and call that function whenever you need to**"
   ]
  },
  {
   "cell_type": "code",
   "execution_count": 281,
   "id": "892b7500-4728-4732-9147-63c389d36c58",
   "metadata": {},
   "outputs": [],
   "source": [
    "#use the def keyword, give your function a name, followed by a pair of parentheses, and end the line with a colon (:)\n",
    "#In function definition, the arguments that your function consumes are referred to as parameters\n",
    "def function_name(parameters):\n",
    "    # What the function does goes here\n",
    "    return result #The return statement returns control to the point where the function was originally called\n",
    "#When you call the function with specific values for the parameters, they're called arguments or actual parameters. \n",
    "#This is because the arguments in the function call are the values used for the function's parameters.\n",
    "    \n",
    "#the arguments and the return statement are optional. \n",
    "#This means that you could have a function that takes in no arguments, and returns nothing.\n",
    "\n",
    "#define\n",
    "#declare\n",
    "#call"
   ]
  },
  {
   "cell_type": "markdown",
   "id": "aed81c66-4918-4b73-b744-0950c979c9f2",
   "metadata": {},
   "source": [
    "**Types of Functions in Python**<br>***Built-in library function**: These are Standard functions in Python that are available to use<br>\n",
    "**User-defined function**: We can create our own functions based on our requirements*"
   ]
  },
  {
   "cell_type": "markdown",
   "id": "f53ee415-a500-472a-888b-6ff4a23002a4",
   "metadata": {},
   "source": [
    "### How to Create a Simple Function in Python"
   ]
  },
  {
   "cell_type": "code",
   "execution_count": 5,
   "id": "7d831c1e-5dd9-475c-aeb8-e06e624ce15d",
   "metadata": {},
   "outputs": [],
   "source": [
    "def my_func():\n",
    "  print(\"Hello! Hope you're doing well\") #no output will be there as there is no function call"
   ]
  },
  {
   "cell_type": "code",
   "execution_count": 7,
   "id": "9dfae071-8652-4fa9-b3e1-239090e9d4c1",
   "metadata": {},
   "outputs": [
    {
     "name": "stdout",
     "output_type": "stream",
     "text": [
      "Hello! Hope you're doing well\n"
     ]
    }
   ],
   "source": [
    "def my_func():\n",
    "  print(\"Hello! Hope you're doing well\")\n",
    "my_func()"
   ]
  },
  {
   "cell_type": "markdown",
   "id": "cafdf81b-3e1a-4799-911a-62180cd882dc",
   "metadata": {},
   "source": [
    "**Types of Python Function Arguments**<br>\n",
    "Python supports various types of arguments that can be passed at the time of the function call.<br>\n",
    "1.Default argument<br>\n",
    "2.Keyword arguments (named arguments)<br>\n",
    "3.Positional arguments<br>\n",
    "4.Arbitrary arguments (variable-length arguments *args and **kwargs)<br>"
   ]
  },
  {
   "cell_type": "markdown",
   "id": "3ba7415e-5de7-4083-996e-5c6c8e9fd812",
   "metadata": {},
   "source": [
    "### How to Create a Function with Arguments in Python"
   ]
  },
  {
   "cell_type": "markdown",
   "id": "69f95e12-0604-4ba2-9931-6a9e446c2a8a",
   "metadata": {},
   "source": [
    "**Positional argument**"
   ]
  },
  {
   "cell_type": "code",
   "execution_count": 17,
   "id": "467b2c35-af10-4ecc-b096-75cb3f964498",
   "metadata": {},
   "outputs": [
    {
     "name": "stdout",
     "output_type": "stream",
     "text": [
      "Hello Sree! Are you from Paris?\n"
     ]
    }
   ],
   "source": [
    "def my_func(name,place):\n",
    "  print(f\"Hello {name}! Are you from {place}?\")\n",
    "my_func(\"Sree\",\"Paris\")\n",
    "\n",
    "#The arguments in the function call are positional arguments. \n",
    "#This means that the first argument in the function call is used as the value of the first parameter (name)  \n",
    "#and the second argument in the function call is used as the value of the second parameter ( place )"
   ]
  },
  {
   "cell_type": "markdown",
   "id": "6cbaa757-4081-485d-8ba6-aff3c9a6f9d7",
   "metadata": {},
   "source": [
    "**Keyword argument**"
   ]
  },
  {
   "cell_type": "code",
   "execution_count": 15,
   "id": "a1af6dfb-272e-432f-9739-fb283bd8ae44",
   "metadata": {},
   "outputs": [
    {
     "name": "stdout",
     "output_type": "stream",
     "text": [
      "Hello Bhadra! Are you from Hawaii?\n"
     ]
    }
   ],
   "source": [
    "def my_func(name,place):\n",
    "  print(f\"Hello {name}! Are you from {place}?\")\n",
    "my_func(place=\"Hawaii\",name=\"Bhadra\")\n",
    "\n",
    "#These are called keyword arguments. \n",
    "#The order of arguments in the function call does not matter so long as the names of the parameters are correct"
   ]
  },
  {
   "cell_type": "code",
   "execution_count": 53,
   "id": "e2c4008c-0f71-4b50-8645-c37df6b4f013",
   "metadata": {},
   "outputs": [
    {
     "name": "stdout",
     "output_type": "stream",
     "text": [
      "Area of the rectangle is 400\n"
     ]
    }
   ],
   "source": [
    "def area_rect(x,y):\n",
    "    ar = x * y\n",
    "    print(f\"Area of the rectangle is {ar}\")\n",
    "area_rect(10,40)"
   ]
  },
  {
   "cell_type": "markdown",
   "id": "ef77df9f-bf60-4584-90f1-f3a97688c7fc",
   "metadata": {},
   "source": [
    "**Default Arguments in Python**"
   ]
  },
  {
   "cell_type": "code",
   "execution_count": 27,
   "id": "bf1199e0-d9c9-47e2-88ae-553d6ff4ec91",
   "metadata": {},
   "outputs": [
    {
     "name": "stdout",
     "output_type": "stream",
     "text": [
      "x:  10\n",
      "y:  50\n"
     ]
    }
   ],
   "source": [
    "def myFun(x, y=50):\n",
    "    print(\"x: \", x)\n",
    "    print(\"y: \", y)\n",
    "myFun(10)"
   ]
  },
  {
   "cell_type": "code",
   "execution_count": 139,
   "id": "73a57995-5e3e-4592-b590-265fb10fcb0d",
   "metadata": {},
   "outputs": [
    {
     "name": "stdout",
     "output_type": "stream",
     "text": [
      "I am from India\n",
      "I am from USA\n",
      "I am from UK\n",
      "I am from Australia\n"
     ]
    }
   ],
   "source": [
    "def place(country = \"India\"):\n",
    "    s = \"I am from \" +country\n",
    "    print(s)\n",
    "place()\n",
    "place(\"USA\")\n",
    "place(\"UK\")\n",
    "place(\"Australia\")"
   ]
  },
  {
   "cell_type": "code",
   "execution_count": 45,
   "id": "982f9187-8633-4e9b-af05-af6e9114373b",
   "metadata": {},
   "outputs": [
    {
     "name": "stdout",
     "output_type": "stream",
     "text": [
      "Total paid is $201\n"
     ]
    }
   ],
   "source": [
    "def total_paid(bill_amount,tip=100):\n",
    "  total = bill_amount + tip\n",
    "  total = round(total,)\n",
    "  print(f\"Total paid is ${total}\")\n",
    "total_paid(100.67)"
   ]
  },
  {
   "cell_type": "markdown",
   "id": "df23201b-e830-4c22-ba4b-46a882af3326",
   "metadata": {},
   "source": [
    "**Arbitrary Keyword  Arguments**"
   ]
  },
  {
   "cell_type": "raw",
   "id": "eb7e422b-16ea-4684-800d-32d74a541b5a",
   "metadata": {},
   "source": [
    "*args (Non-Keyword Arguments)\n",
    "**kwargs (Keyword Arguments)"
   ]
  },
  {
   "cell_type": "code",
   "execution_count": 135,
   "id": "8dca6e81-4e34-4887-86ed-f2736a117e15",
   "metadata": {},
   "outputs": [
    {
     "name": "stdout",
     "output_type": "stream",
     "text": [
      "the new joiner is sree\n"
     ]
    }
   ],
   "source": [
    "# *args for variable number of arguments\n",
    "def new_stdnt(*students):\n",
    "    st = f\"the new joiner is \" +students[2]\n",
    "    print(st)\n",
    "new_stdnt(\"arya\",\"ardra\",\"sree\")"
   ]
  },
  {
   "cell_type": "code",
   "execution_count": 79,
   "id": "b3d612b7-4519-49f8-824a-8f6c694c6e24",
   "metadata": {},
   "outputs": [
    {
     "name": "stdout",
     "output_type": "stream",
     "text": [
      "Hello\n",
      "Welcome\n",
      "to\n",
      "Navalt\n"
     ]
    }
   ],
   "source": [
    "#variable length non-keyword arguments\n",
    "\n",
    "def myFun(*args):\n",
    "    for arg in args:\n",
    "        print(arg)\n",
    "\n",
    "myFun('Hello', 'Welcome', 'to', 'Navalt')"
   ]
  },
  {
   "cell_type": "code",
   "execution_count": 133,
   "id": "14daae59-ea18-439c-8d40-f4fd0df90e3b",
   "metadata": {},
   "outputs": [
    {
     "name": "stdout",
     "output_type": "stream",
     "text": [
      "the last name is bhadra\n"
     ]
    }
   ],
   "source": [
    "# *kwargs for variable number of keyword arguments\n",
    "def new(**names):\n",
    "    s = \"the last name is \" +names[\"lname\"]\n",
    "    print(s)\n",
    "new(fname=\"sree\", lname=\"bhadra\")"
   ]
  },
  {
   "cell_type": "code",
   "execution_count": 81,
   "id": "f4c67240-e258-4df4-b436-b480ef3824bb",
   "metadata": {},
   "outputs": [
    {
     "name": "stdout",
     "output_type": "stream",
     "text": [
      "first == Sree\n",
      "mid ==  Bhadra\n",
      "last ==  Balamurali\n"
     ]
    }
   ],
   "source": [
    "#varible length keyword\n",
    "\n",
    "def myFun(**kwargs):\n",
    "    for key, value in kwargs.items():\n",
    "        print(\"%s == %s\" % (key, value))\n",
    "\n",
    "myFun(first='Sree', mid=' Bhadra', last=' Balamurali')"
   ]
  },
  {
   "cell_type": "markdown",
   "id": "5dbb9c0f-1266-4c4a-88b7-8bb2df79e07a",
   "metadata": {},
   "source": [
    "### Docstring\n",
    "The first string after the function is called the Document string or Docstring in short. <br>\n",
    "This is used to describe the functionality of the function. <br>\n",
    "\n",
    "**$Syntax: print(function_name.__doc__)$**"
   ]
  },
  {
   "cell_type": "code",
   "execution_count": 91,
   "id": "c8d9fb95-f860-48a2-8ad1-fb4ceebc13e2",
   "metadata": {},
   "outputs": [
    {
     "name": "stdout",
     "output_type": "stream",
     "text": [
      "Function to check if the given number is even\n",
      "x is even\n"
     ]
    }
   ],
   "source": [
    "def evn_num(x):\n",
    "    \"\"\"Function to check if the given number is even\"\"\"\n",
    "\n",
    "    print(evn_num.__doc__)\n",
    "    if x % 2 == 0:\n",
    "        print(\"x is even\")\n",
    "    else:\n",
    "        print(\"x is odd\")\n",
    "    \n",
    "evn_num(10)"
   ]
  },
  {
   "cell_type": "markdown",
   "id": "f014c9ad-6369-4434-8d24-50cf5ba65827",
   "metadata": {},
   "source": [
    "### Inner Function or Nested Function\n",
    "A function that is defined inside another function"
   ]
  },
  {
   "cell_type": "code",
   "execution_count": 107,
   "id": "5d37bd78-20eb-4341-87ed-9bf9af185aa3",
   "metadata": {},
   "outputs": [
    {
     "name": "stdout",
     "output_type": "stream",
     "text": [
      "to check the inner function\n",
      "this is an inner function\n"
     ]
    }
   ],
   "source": [
    "def f1():\n",
    "    s1 = \"to check the inner function\"\n",
    "\n",
    "    def f2():\n",
    "        s2 = \"this is an inner function\"\n",
    "        print(s1)\n",
    "        print(s2)\n",
    "    f2()\n",
    "#print(s2) ---> this wont work becoz s2 is inside the f2() function\n",
    "f1() #also u cant call the f2() before f1() as f2() is inside f1()"
   ]
  },
  {
   "cell_type": "markdown",
   "id": "f143daa6-a900-4e6a-92be-60c09959c039",
   "metadata": {},
   "source": [
    "# Pass by Reference and Pass by Value"
   ]
  },
  {
   "cell_type": "markdown",
   "id": "b13beeac-c7f8-4fc6-a150-8bd7b1408869",
   "metadata": {},
   "source": [
    "When you pass function arguments by reference, those arguments are only references to existing values. <br>\n",
    "In contrast, when you pass arguments by value, those arguments become independent copies of the original values."
   ]
  },
  {
   "cell_type": "code",
   "execution_count": 191,
   "id": "b130a22d-d11e-4f87-b4c8-ce120c48b3a0",
   "metadata": {},
   "outputs": [
    {
     "name": "stdout",
     "output_type": "stream",
     "text": [
      "[100, 20, 30, 40, 50, 60, 70]\n"
     ]
    }
   ],
   "source": [
    "def lst_1(x):\n",
    "    x[0] = 100\n",
    "lst_2 =[10,20,30,40,50,60,70]\n",
    "\n",
    "lst_1(lst_2)\n",
    "print(lst_2)"
   ]
  },
  {
   "cell_type": "code",
   "execution_count": 203,
   "id": "d81fa328-bda8-47d9-8a6d-1a2a94caee1f",
   "metadata": {},
   "outputs": [
    {
     "name": "stdout",
     "output_type": "stream",
     "text": [
      "20\n"
     ]
    }
   ],
   "source": [
    "def s(x):\n",
    "   print(x)\n",
    "s(20)\n"
   ]
  },
  {
   "cell_type": "markdown",
   "id": "47c6b55e-3489-48ff-8283-b97e82c0ea01",
   "metadata": {},
   "source": [
    "## Python Variable Scope\n",
    "\n",
    "local scope<br>global scope<br>non-local scope"
   ]
  },
  {
   "cell_type": "code",
   "execution_count": 220,
   "id": "c18c5da8-9b31-43f1-9464-35c1cedb552a",
   "metadata": {},
   "outputs": [
    {
     "name": "stdout",
     "output_type": "stream",
     "text": [
      "hello!\n"
     ]
    }
   ],
   "source": [
    "#local variable\n",
    "\n",
    "def greet():\n",
    "    message2 = \"hello!\" #message is a local variable\n",
    "    print(message2)\n",
    "greet()\n",
    "\n",
    "#print(message2)  ---> this wont work becaus emessage is inside the function"
   ]
  },
  {
   "cell_type": "code",
   "execution_count": 216,
   "id": "46146d68-b826-4d6f-8d76-b6fdec53c036",
   "metadata": {},
   "outputs": [
    {
     "name": "stdout",
     "output_type": "stream",
     "text": [
      "hello!\n",
      "hello!\n",
      "hello!\n"
     ]
    }
   ],
   "source": [
    "#global variable\n",
    "\n",
    "message1 = \"hello!\" #global variable\n",
    "\n",
    "def greet():\n",
    "    message2 = \"hello!\" #local variable\n",
    "    print(message1)\n",
    "    print(message2)\n",
    "greet()\n",
    "\n",
    "print(message1) "
   ]
  },
  {
   "cell_type": "code",
   "execution_count": 234,
   "id": "b6fb6ad2-155b-4ada-91a0-1dca50fd49ae",
   "metadata": {},
   "outputs": [
    {
     "name": "stdout",
     "output_type": "stream",
     "text": [
      "hello!\n",
      "global keyword\n"
     ]
    }
   ],
   "source": [
    "#global keyword\n",
    "\n",
    "def greet():\n",
    "    message2 = \"hello!\" #message2 is a local variable\n",
    "    global msg #using a global keyword\n",
    "    msg = \"global keyword\" \n",
    "    print(message2)\n",
    "greet()\n",
    "\n",
    "#print(message2)  ---> this wont work becaus emessage is inside the function\n",
    "print(msg)"
   ]
  },
  {
   "cell_type": "code",
   "execution_count": 236,
   "id": "253c1c9c-8a4b-41bf-afd4-73ad9d9276c2",
   "metadata": {},
   "outputs": [
    {
     "name": "stdout",
     "output_type": "stream",
     "text": [
      "hello!\n",
      "hello!\n",
      "hello!\n"
     ]
    }
   ],
   "source": [
    "#nonlocal variable --> neither local nor global as it is an inner function\n",
    "\n",
    "message1 = \"hello!\"\n",
    "\n",
    "def f1():\n",
    "    message2 = \"hello!\"\n",
    "\n",
    "    def f2():\n",
    "        message3 = \"hello!\"\n",
    "        print(message3)\n",
    "        print(message2)\n",
    "        print(message1)\n",
    "    f2()\n",
    "    #print(message3) --->this woont work\n",
    "f1()"
   ]
  },
  {
   "cell_type": "markdown",
   "id": "fafa3e44-264c-49d0-910d-d43d78c6d83d",
   "metadata": {},
   "source": [
    "## Python Recursion\n",
    "function that calls itself"
   ]
  },
  {
   "cell_type": "code",
   "execution_count": 278,
   "id": "788242ff-f31f-4109-90d6-0aab7df535aa",
   "metadata": {},
   "outputs": [
    {
     "name": "stdout",
     "output_type": "stream",
     "text": [
      "The factorial of 0 is 0\n"
     ]
    }
   ],
   "source": [
    "def factorial(x):\n",
    "\n",
    "    if x == 1:\n",
    "        return 1\n",
    "    elif x == 0:\n",
    "        return 0\n",
    "    else:\n",
    "        return (x * factorial(x-1))\n",
    "\n",
    "\n",
    "num = 0\n",
    "print(\"The factorial of\", num, \"is\", factorial(num))"
   ]
  },
  {
   "cell_type": "markdown",
   "id": "04daabf0-035d-45d1-b7d6-45b13a4a0cfa",
   "metadata": {},
   "source": [
    "## Python Main Function"
   ]
  },
  {
   "cell_type": "raw",
   "id": "5b0aaa6e-f938-4162-9f45-5a0a5dee86b1",
   "metadata": {},
   "source": [
    "In Python, there's no built-in main() function like in some other languages, but developers often create their own to serve as the program's entry point. \n",
    "\n",
    "This is typically done by defining a main() function and using Python's __name__ variable. \n",
    "The __name__ variable is a special built-in Python variable that shows the name of the current module. Its value depends on how the Python file is executed.\n",
    "\n",
    "When a Python script is run directly, its __name__ is set to \"__main__\". \n",
    "By checking for this condition, you can control when your main() function executes. \n",
    "This setup allows the script to behave differently when run directly versus when it's imported as a module in another script. \n",
    "It's a common pattern that helps organize code and enables reusability, as functions defined in the script can be imported and used elsewhere without automatically running the main program logic."
   ]
  },
  {
   "cell_type": "code",
   "execution_count": 2,
   "id": "9d0ede18-6e79-4673-940e-94745909478c",
   "metadata": {},
   "outputs": [
    {
     "name": "stdout",
     "output_type": "stream",
     "text": [
      "This is the main function\n"
     ]
    }
   ],
   "source": [
    "def main():\n",
    "    # Your main program code goes here\n",
    "    print(\"This is the main function\")\n",
    "\n",
    "if __name__ == \"__main__\":\n",
    "    main()"
   ]
  },
  {
   "cell_type": "code",
   "execution_count": 20,
   "id": "ce86a9b8-0e8e-4db1-9a3a-e4273356d88a",
   "metadata": {},
   "outputs": [
    {
     "name": "stdout",
     "output_type": "stream",
     "text": [
      "This is the main function\n"
     ]
    }
   ],
   "source": [
    "def main():\n",
    "    print(\"This is the main function\")\n",
    "main()"
   ]
  },
  {
   "cell_type": "code",
   "execution_count": 32,
   "id": "627da19e-506b-4174-89e9-3f27f8c67038",
   "metadata": {},
   "outputs": [
    {
     "name": "stdout",
     "output_type": "stream",
     "text": [
      "__main__\n"
     ]
    }
   ],
   "source": [
    "print(__name__)"
   ]
  },
  {
   "cell_type": "raw",
   "id": "d08adb1b-f97c-4a59-b31b-4a3e36309c52",
   "metadata": {},
   "source": [
    "Both code snippets will produce the same output when run directly. However, there's a crucial difference in how they behave when imported as a module.\n",
    "\n",
    "First, code only runs the main() function when the script is executed directly. If this file is imported as a module in another script, the main() function won't automatically run.\n",
    "\n",
    "Second code always runs the main() function, whether the script is run directly or imported as a module.\n",
    "\n",
    "The key difference is in reusability and control. The first version allows you to import and use functions from this file in other scripts without automatically executing the main() function. The second version will always run main() when the file is imported, which might not be desirable.\n",
    "This distinction becomes important in larger projects where you might want to reuse functions across multiple files without triggering unintended executions."
   ]
  }
 ],
 "metadata": {
  "kernelspec": {
   "display_name": "Python 3 (ipykernel)",
   "language": "python",
   "name": "python3"
  },
  "language_info": {
   "codemirror_mode": {
    "name": "ipython",
    "version": 3
   },
   "file_extension": ".py",
   "mimetype": "text/x-python",
   "name": "python",
   "nbconvert_exporter": "python",
   "pygments_lexer": "ipython3",
   "version": "3.12.4"
  }
 },
 "nbformat": 4,
 "nbformat_minor": 5
}
