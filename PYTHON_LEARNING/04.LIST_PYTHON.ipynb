{
 "cells": [
  {
   "cell_type": "markdown",
   "id": "d2d7b151-f93a-423a-b4f9-56ad092755f2",
   "metadata": {},
   "source": [
    "# PYTHON LIST\n",
    "## lists are: ordered, mutable, written in square bracket, allow duplicate values"
   ]
  },
  {
   "cell_type": "code",
   "execution_count": 21,
   "id": "516590b8-a47f-4b69-a356-976edcbe3575",
   "metadata": {},
   "outputs": [
    {
     "name": "stdout",
     "output_type": "stream",
     "text": [
      "[19, 26, 29, 26]\n"
     ]
    }
   ],
   "source": [
    "ages = [19, 26, 29, 26]\r\n",
    "print(ages)"
   ]
  },
  {
   "cell_type": "markdown",
   "id": "bda0d680-4607-4315-8634-291de55dacab",
   "metadata": {},
   "source": [
    "### Access Elements Using Index"
   ]
  },
  {
   "cell_type": "code",
   "execution_count": 4,
   "id": "78faedbf-8908-4320-a767-05240bc57805",
   "metadata": {},
   "outputs": [
    {
     "name": "stdout",
     "output_type": "stream",
     "text": [
      "Python\n",
      "C++\n",
      "C++\n",
      "Swift\n"
     ]
    }
   ],
   "source": [
    "languages = ['Python', 'Swift', 'C++']\n",
    "\n",
    "print(languages[0])  \n",
    "print(languages[2])  \n",
    "print(languages[-1])  \n",
    "print(languages[-2])  "
   ]
  },
  {
   "cell_type": "markdown",
   "id": "aa27c27a-98ec-49ba-846f-38c71e840a60",
   "metadata": {},
   "source": [
    "### slicing of list"
   ]
  },
  {
   "cell_type": "code",
   "execution_count": 5,
   "id": "03631758-372a-4925-a325-d19dd8d750de",
   "metadata": {},
   "outputs": [
    {
     "name": "stdout",
     "output_type": "stream",
     "text": [
      "['o', 'g', 'r']\n",
      "['a', 'm']\n",
      "['p', 'r', 'o', 'g', 'r', 'a', 'm']\n"
     ]
    }
   ],
   "source": [
    "my_list = ['p', 'r', 'o', 'g', 'r', 'a', 'm']\n",
    "\n",
    "print(my_list[2:5])\n",
    "print(my_list[5:])\n",
    "print(my_list[:])"
   ]
  },
  {
   "cell_type": "markdown",
   "id": "8d20559f-d97f-46a1-82aa-0320e0422a47",
   "metadata": {},
   "source": [
    "### Add Elements to a Python List: append()"
   ]
  },
  {
   "cell_type": "code",
   "execution_count": 6,
   "id": "d07203cb-730d-4125-882e-4372dbe1a827",
   "metadata": {},
   "outputs": [
    {
     "name": "stdout",
     "output_type": "stream",
     "text": [
      "Original List: ['apple', 'banana', 'orange']\n",
      "Updated List: ['apple', 'banana', 'orange', 'cherry']\n"
     ]
    }
   ],
   "source": [
    "fruits = ['apple', 'banana', 'orange']\n",
    "print('Original List:', fruits)\n",
    "fruits.append('cherry')\n",
    "print('Updated List:', fruits)"
   ]
  },
  {
   "cell_type": "markdown",
   "id": "dc98dcea-bb18-4db3-b0bc-f722a2843649",
   "metadata": {},
   "source": [
    "### Add Elements at the Specified Index: insert()"
   ]
  },
  {
   "cell_type": "code",
   "execution_count": 7,
   "id": "4c02e38f-5f4c-423c-a3a4-6d43a836cac4",
   "metadata": {},
   "outputs": [
    {
     "name": "stdout",
     "output_type": "stream",
     "text": [
      "Original List: ['apple', 'banana', 'orange']\n",
      "Updated List: ['apple', 'banana', 'cherry', 'orange']\n"
     ]
    }
   ],
   "source": [
    "fruits = ['apple', 'banana', 'orange']\n",
    "print(\"Original List:\", fruits) \n",
    "\n",
    "fruits.insert(2, 'cherry')\n",
    "\n",
    "print(\"Updated List:\", fruits)"
   ]
  },
  {
   "cell_type": "markdown",
   "id": "62452128-53c3-4a84-a232-d902b2697ebf",
   "metadata": {},
   "source": [
    "### Add Elements to a List From Other Iterables: extend()"
   ]
  },
  {
   "cell_type": "code",
   "execution_count": 8,
   "id": "a0409e15-4589-41d9-b4e9-8daef5cbeec4",
   "metadata": {},
   "outputs": [
    {
     "name": "stdout",
     "output_type": "stream",
     "text": [
      "Numbers: [1, 3, 5]\n",
      "Updated Numbers: [1, 3, 5, 2, 4, 6]\n"
     ]
    }
   ],
   "source": [
    "numbers = [1, 3, 5]\n",
    "print('Numbers:', numbers)\n",
    "\n",
    "even_numbers  = [2, 4, 6]\n",
    "\n",
    "numbers.extend(even_numbers)\n",
    "print('Updated Numbers:', numbers) "
   ]
  },
  {
   "cell_type": "markdown",
   "id": "16d56608-7aed-4ce9-9594-e97cacca961d",
   "metadata": {},
   "source": [
    "### Change List Items (using index)"
   ]
  },
  {
   "cell_type": "code",
   "execution_count": 9,
   "id": "35e5ae72-4a4d-4fed-92e5-e879348dcfdc",
   "metadata": {},
   "outputs": [
    {
     "name": "stdout",
     "output_type": "stream",
     "text": [
      "Original List: ['Red', 'Black', 'Green']\n",
      "Updated List: ['Red', 'Black', 'Blue']\n"
     ]
    }
   ],
   "source": [
    "colors = ['Red', 'Black', 'Green']\n",
    "print('Original List:', colors)\n",
    "\n",
    "colors[2] = 'Blue'\n",
    "print('Updated List:', colors)"
   ]
  },
  {
   "cell_type": "markdown",
   "id": "e872adc2-9bad-4c37-80fa-eee33bec8976",
   "metadata": {},
   "source": [
    "### Remove an Item From a List: remove()"
   ]
  },
  {
   "cell_type": "code",
   "execution_count": 10,
   "id": "1673964d-662a-464d-8ae9-d2e800cba091",
   "metadata": {},
   "outputs": [
    {
     "name": "stdout",
     "output_type": "stream",
     "text": [
      "[2, 7, 9]\n"
     ]
    }
   ],
   "source": [
    "numbers = [2,4,7,9]\n",
    "\n",
    "numbers.remove(4)\n",
    "print(numbers) \n"
   ]
  },
  {
   "cell_type": "markdown",
   "id": "f6356421-8e2c-4185-8f06-3e475a403694",
   "metadata": {},
   "source": [
    "### Remove One or More Elements of a List: del"
   ]
  },
  {
   "cell_type": "code",
   "execution_count": 16,
   "id": "2c5fa7a9-3052-4008-bebe-79593121ca08",
   "metadata": {},
   "outputs": [
    {
     "name": "stdout",
     "output_type": "stream",
     "text": [
      "['Eva', 'Laura', 'Nick', 'Jack']\n",
      "['Eva', 'Laura']\n"
     ]
    }
   ],
   "source": [
    "names = ['John', 'Eva', 'Laura', 'Nick', 'Jack']\n",
    "\n",
    "del names[0]\n",
    "print(names)\n",
    "\n",
    "del names[2:5]\n",
    "print(names) \n",
    "\n",
    "del names #to del entire list"
   ]
  },
  {
   "cell_type": "markdown",
   "id": "6cc13f26-976a-43bf-9886-ca88fcd3fcec",
   "metadata": {},
   "source": [
    "### Python List Length: len()"
   ]
  },
  {
   "cell_type": "code",
   "execution_count": 17,
   "id": "b09b12d4-90c7-482e-bbd2-edef64e43502",
   "metadata": {},
   "outputs": [
    {
     "name": "stdout",
     "output_type": "stream",
     "text": [
      "Total Elements:  3\n"
     ]
    }
   ],
   "source": [
    "cars = ['BMW', 'Mercedes', 'Tesla']\n",
    "\n",
    "print('Total Elements: ', len(cars))  "
   ]
  },
  {
   "cell_type": "markdown",
   "id": "f9c59e6a-3834-48a2-988a-6199fe28c996",
   "metadata": {},
   "source": [
    "### iterate through the list using loop"
   ]
  },
  {
   "cell_type": "code",
   "execution_count": 18,
   "id": "b62c3fe0-e8e8-4498-adee-81753bcd2361",
   "metadata": {},
   "outputs": [
    {
     "name": "stdout",
     "output_type": "stream",
     "text": [
      "apple\n",
      "banana\n",
      "orange\n"
     ]
    }
   ],
   "source": [
    "fruits = ['apple', 'banana', 'orange']\n",
    "\n",
    "for fruit in fruits:\n",
    "    print(fruit)"
   ]
  },
  {
   "cell_type": "raw",
   "id": "75aee7c2-b8d2-4347-8e16-49c7eabc6706",
   "metadata": {},
   "source": [
    "append()\tAdds an item to the end of the list\n",
    "extend()\tAdds items of lists and other iterables to the end of the list\n",
    "insert()\tInserts an item at the specified index\n",
    "remove()\tRemoves item present at the given index\n",
    "pop()\tReturns and removes item present at the given index\n",
    "clear()\tRemoves all items from the list\n",
    "index()\tReturns the index of the first matched item\n",
    "count()\tReturns the count of the specified item in the list\n",
    "sort()\tSorts the list in ascending/descending order\n",
    "reverse()\tReverses the item of the list\n",
    "copy()\tReturns the shallow copy of the list"
   ]
  },
  {
   "cell_type": "code",
   "execution_count": 19,
   "id": "c207686d-5b5f-4235-b407-3555dd6eb82b",
   "metadata": {},
   "outputs": [
    {
     "name": "stdout",
     "output_type": "stream",
     "text": [
      "[1, 4, 9, 16, 25]\n"
     ]
    }
   ],
   "source": [
    "# create a list with square values\n",
    "numbers = [n**2 for n in range(1, 6)]\n",
    "print(numbers)    \n"
   ]
  },
  {
   "cell_type": "markdown",
   "id": "99b7852a-6b9d-44e7-8c0c-2917cf979be2",
   "metadata": {},
   "source": [
    "### check if an item exists in python list"
   ]
  },
  {
   "cell_type": "code",
   "execution_count": 20,
   "id": "7cf3a135-8943-42ea-b5de-7db28336d22d",
   "metadata": {},
   "outputs": [
    {
     "name": "stdout",
     "output_type": "stream",
     "text": [
      "False\n",
      "True\n"
     ]
    }
   ],
   "source": [
    "fruits = ['apple', 'cherry', 'banana']\n",
    "\n",
    "print('orange' in fruits)    \n",
    "print('cherry' in fruits)    "
   ]
  },
  {
   "cell_type": "code",
   "execution_count": null,
   "id": "ca2a1357-c18d-4f57-b12f-e81575ebe58e",
   "metadata": {},
   "outputs": [],
   "source": []
  }
 ],
 "metadata": {
  "kernelspec": {
   "display_name": "Python 3 (ipykernel)",
   "language": "python",
   "name": "python3"
  },
  "language_info": {
   "codemirror_mode": {
    "name": "ipython",
    "version": 3
   },
   "file_extension": ".py",
   "mimetype": "text/x-python",
   "name": "python",
   "nbconvert_exporter": "python",
   "pygments_lexer": "ipython3",
   "version": "3.12.4"
  }
 },
 "nbformat": 4,
 "nbformat_minor": 5
}
