{
 "cells": [
  {
   "cell_type": "markdown",
   "id": "b19940dc-5192-44fa-9115-9346e3b47d8f",
   "metadata": {},
   "source": [
    "# Python CSV: Read and Write CSV Files"
   ]
  },
  {
   "cell_type": "markdown",
   "id": "ef9b4eea-f772-4c60-8b80-6020f27ee37d",
   "metadata": {},
   "source": [
    "A CSV file, short for Comma Separated Values, is a simple way to store data in a table format. It's like a spreadsheet, but instead of using a program like Excel, you can store the data in a plain text file with a .csv extension."
   ]
  },
  {
   "cell_type": "markdown",
   "id": "ddecd8ba-68af-4342-bddc-34dfc9c15903",
   "metadata": {},
   "source": [
    "**Example of CSV file**"
   ]
  },
  {
   "cell_type": "raw",
   "id": "c98d6ed5-57cb-4021-b695-a2b910e477f1",
   "metadata": {},
   "source": [
    "SN, Name,    City\n",
    "1,  Nandana, Malapuram\n",
    "2,  Sree,    Thiruvanathapuram"
   ]
  },
  {
   "cell_type": "markdown",
   "id": "14c7f221-2379-4828-8b8d-914bbb477fa5",
   "metadata": {},
   "source": [
    " **PANDAS**"
   ]
  },
  {
   "cell_type": "raw",
   "id": "e48ca1f5-42e9-4ed9-b0df-103b627bcb7f",
   "metadata": {},
   "source": [
    "Pandas DataFrame is a 2 dimensional data structure, like a 2 dimensional array, or a table with rows and columns."
   ]
  },
  {
   "cell_type": "code",
   "execution_count": 20,
   "id": "13de7d06-8824-41fc-b231-cb11bcaf1789",
   "metadata": {},
   "outputs": [
    {
     "name": "stdout",
     "output_type": "stream",
     "text": [
      "   calories  duration\n",
      "0       420        50\n",
      "1       380        40\n",
      "2       390        45\n"
     ]
    }
   ],
   "source": [
    "import pandas as pd\n",
    "\n",
    "data = {\n",
    "  \"calories\": [420, 380, 390],\n",
    "  \"duration\": [50, 40, 45]\n",
    "}\n",
    "\n",
    "#load data into a DataFrame object:\n",
    "df = pd.DataFrame(data)\n",
    "\n",
    "print(df) "
   ]
  },
  {
   "cell_type": "markdown",
   "id": "790ec309-a94a-481f-98c6-afd8eda69d9e",
   "metadata": {},
   "source": [
    "**Read CSV Files with Python**"
   ]
  },
  {
   "cell_type": "code",
   "execution_count": 16,
   "id": "47d0f620-9f92-43be-8c22-aaf205bafbbd",
   "metadata": {},
   "outputs": [
    {
     "name": "stdout",
     "output_type": "stream",
     "text": [
      "['Name', '   Age', ' Profession']\n",
      "['Jack', '   23', '  Doctor']\n",
      "['Miller', ' 22', '  Engineer']\n"
     ]
    }
   ],
   "source": [
    "import csv\n",
    "\n",
    "with open('people.csv', 'r') as file: #to read the file\n",
    "    reader = csv.reader(file)\n",
    "\n",
    "    for row in reader:\n",
    "        print(row)"
   ]
  },
  {
   "cell_type": "code",
   "execution_count": 1,
   "id": "3e218b1d-54d2-4909-91b5-8f64bd070d8a",
   "metadata": {},
   "outputs": [
    {
     "data": {
      "text/html": [
       "<div>\n",
       "<style scoped>\n",
       "    .dataframe tbody tr th:only-of-type {\n",
       "        vertical-align: middle;\n",
       "    }\n",
       "\n",
       "    .dataframe tbody tr th {\n",
       "        vertical-align: top;\n",
       "    }\n",
       "\n",
       "    .dataframe thead th {\n",
       "        text-align: right;\n",
       "    }\n",
       "</style>\n",
       "<table border=\"1\" class=\"dataframe\">\n",
       "  <thead>\n",
       "    <tr style=\"text-align: right;\">\n",
       "      <th></th>\n",
       "      <th>Name</th>\n",
       "      <th>Age</th>\n",
       "      <th>Profession</th>\n",
       "    </tr>\n",
       "  </thead>\n",
       "  <tbody>\n",
       "    <tr>\n",
       "      <th>0</th>\n",
       "      <td>Jack</td>\n",
       "      <td>23</td>\n",
       "      <td>Doctor</td>\n",
       "    </tr>\n",
       "    <tr>\n",
       "      <th>1</th>\n",
       "      <td>Miller</td>\n",
       "      <td>22</td>\n",
       "      <td>Engineer</td>\n",
       "    </tr>\n",
       "  </tbody>\n",
       "</table>\n",
       "</div>"
      ],
      "text/plain": [
       "     Name     Age  Profession\n",
       "0    Jack      23      Doctor\n",
       "1  Miller      22    Engineer"
      ]
     },
     "execution_count": 1,
     "metadata": {},
     "output_type": "execute_result"
    }
   ],
   "source": [
    "import pandas as pd\n",
    "pd.read_csv(\"people.csv\")"
   ]
  },
  {
   "cell_type": "markdown",
   "id": "80b8306f-25ec-4f32-be7c-077c35277110",
   "metadata": {},
   "source": [
    "**Write to CSV Files with Python**"
   ]
  },
  {
   "cell_type": "code",
   "execution_count": 11,
   "id": "dd5cd0b6-4e88-47a2-b30b-92691d8db6e0",
   "metadata": {},
   "outputs": [],
   "source": [
    "import csv\n",
    "with open('people.csv', 'w', newline='') as file:\n",
    "    writer = csv.writer(file)\n",
    "    writer.writerow([\"Name\", \"Age\", \"Profession\"])\n",
    "    writer.writerow([\"Sree\", \"22\", \"Pilot\"])"
   ]
  },
  {
   "cell_type": "code",
   "execution_count": 13,
   "id": "a7b49ad1-191d-4a0f-9def-cc77e5ea8ed2",
   "metadata": {},
   "outputs": [
    {
     "data": {
      "text/html": [
       "<div>\n",
       "<style scoped>\n",
       "    .dataframe tbody tr th:only-of-type {\n",
       "        vertical-align: middle;\n",
       "    }\n",
       "\n",
       "    .dataframe tbody tr th {\n",
       "        vertical-align: top;\n",
       "    }\n",
       "\n",
       "    .dataframe thead th {\n",
       "        text-align: right;\n",
       "    }\n",
       "</style>\n",
       "<table border=\"1\" class=\"dataframe\">\n",
       "  <thead>\n",
       "    <tr style=\"text-align: right;\">\n",
       "      <th></th>\n",
       "      <th>Name</th>\n",
       "      <th>Age</th>\n",
       "      <th>Profession</th>\n",
       "    </tr>\n",
       "  </thead>\n",
       "  <tbody>\n",
       "    <tr>\n",
       "      <th>0</th>\n",
       "      <td>Sree</td>\n",
       "      <td>22</td>\n",
       "      <td>Pilot</td>\n",
       "    </tr>\n",
       "  </tbody>\n",
       "</table>\n",
       "</div>"
      ],
      "text/plain": [
       "   Name  Age Profession\n",
       "0  Sree   22      Pilot"
      ]
     },
     "execution_count": 13,
     "metadata": {},
     "output_type": "execute_result"
    }
   ],
   "source": [
    "import pandas as pd\n",
    "pd.read_csv(\"people.csv\")"
   ]
  },
  {
   "cell_type": "code",
   "execution_count": 15,
   "id": "70cefc76-8f3e-48ce-85dc-3fa891f9974f",
   "metadata": {},
   "outputs": [],
   "source": [
    "import pandas as pd\n",
    "\n",
    "# creating a data frame\n",
    "df = pd.DataFrame([['Jack', 24], ['Rose', 22]], columns = ['Name', 'Age'])\n",
    "\n",
    "# writing data frame to a CSV file\n",
    "df.to_csv('people.csv')"
   ]
  },
  {
   "cell_type": "code",
   "execution_count": 17,
   "id": "9109d7b7-529d-4fbd-a3a8-4a9396ca83eb",
   "metadata": {},
   "outputs": [
    {
     "data": {
      "text/html": [
       "<div>\n",
       "<style scoped>\n",
       "    .dataframe tbody tr th:only-of-type {\n",
       "        vertical-align: middle;\n",
       "    }\n",
       "\n",
       "    .dataframe tbody tr th {\n",
       "        vertical-align: top;\n",
       "    }\n",
       "\n",
       "    .dataframe thead th {\n",
       "        text-align: right;\n",
       "    }\n",
       "</style>\n",
       "<table border=\"1\" class=\"dataframe\">\n",
       "  <thead>\n",
       "    <tr style=\"text-align: right;\">\n",
       "      <th></th>\n",
       "      <th>Unnamed: 0</th>\n",
       "      <th>Name</th>\n",
       "      <th>Age</th>\n",
       "    </tr>\n",
       "  </thead>\n",
       "  <tbody>\n",
       "    <tr>\n",
       "      <th>0</th>\n",
       "      <td>0</td>\n",
       "      <td>Jack</td>\n",
       "      <td>24</td>\n",
       "    </tr>\n",
       "    <tr>\n",
       "      <th>1</th>\n",
       "      <td>1</td>\n",
       "      <td>Rose</td>\n",
       "      <td>22</td>\n",
       "    </tr>\n",
       "  </tbody>\n",
       "</table>\n",
       "</div>"
      ],
      "text/plain": [
       "   Unnamed: 0  Name  Age\n",
       "0           0  Jack   24\n",
       "1           1  Rose   22"
      ]
     },
     "execution_count": 17,
     "metadata": {},
     "output_type": "execute_result"
    }
   ],
   "source": [
    "import pandas as pd\n",
    "pd.read_csv(\"people.csv\")"
   ]
  },
  {
   "cell_type": "markdown",
   "id": "0810f85f-a4ad-4aaf-8f55-4bb78e74e45e",
   "metadata": {},
   "source": [
    "**How to read a csv file**"
   ]
  },
  {
   "cell_type": "code",
   "execution_count": 32,
   "id": "33442144-97ad-4398-bf76-e9bee1d5a6fd",
   "metadata": {},
   "outputs": [
    {
     "name": "stdout",
     "output_type": "stream",
     "text": [
      "['', 'Name', 'Age']\n",
      "['0', 'Jack', '24']\n",
      "['1', 'Rose', '22']\n"
     ]
    }
   ],
   "source": [
    "import csv\n",
    "\n",
    "with open('people.csv', 'r') as file:\n",
    "    reader = csv.reader(file)\n",
    "    for row in reader:\n",
    "        print(row)"
   ]
  },
  {
   "cell_type": "raw",
   "id": "f02899ca-e60d-4bee-833a-40808e1af02a",
   "metadata": {},
   "source": [
    "We import the csv module.\n",
    "We open the CSV file people.csv in read mode ('r') using the with statement, which ensures the file is properly closed when we're done with it.\n",
    "We create a csv.reader object, passing the file object to it.\n",
    "We iterate over each row in the CSV file using a for loop.\n",
    "We print each row, which is a list of values."
   ]
  },
  {
   "cell_type": "markdown",
   "id": "45280af0-6097-4df6-b834-031bd07cc388",
   "metadata": {},
   "source": [
    "**Customizing the reader**: Sometimes, your CSV file might use a different delimiter, such as a tab (\\t) or a pipe (|). <br> You can specify the delimiter using the delimiter parameter:"
   ]
  },
  {
   "cell_type": "raw",
   "id": "73c03dd6-4876-47f6-9f5c-33f7810ff550",
   "metadata": {},
   "source": [
    "reader = csv.reader(file, delimiter='\\t')"
   ]
  },
  {
   "cell_type": "markdown",
   "id": "509bdc23-726a-42f4-bac2-cba71a17908a",
   "metadata": {},
   "source": [
    "You can also remove initial whitespace from each value by setting **skipinitialspace** to True:"
   ]
  },
  {
   "cell_type": "raw",
   "id": "f1a2e5e9-b4e5-4a28-a1c1-1f2dd300dad3",
   "metadata": {},
   "source": [
    "reader = csv.reader(file, skipinitialspace=True)"
   ]
  },
  {
   "cell_type": "markdown",
   "id": "28bb8d94-0493-4c91-aace-a6e8358a29f9",
   "metadata": {},
   "source": [
    "Using dialects If you're working with multiple CSV files that have similar formats, you can define a dialect to simplify the process. <br> A dialect is a set of formatting patterns, such as delimiter, quoting, and escape characters. <br>\n",
    "\n",
    "You can register a dialect using the **csv.register_dialect** function"
   ]
  },
  {
   "cell_type": "raw",
   "id": "bb68517c-07c1-4b94-ac23-2cefac3690a9",
   "metadata": {},
   "source": [
    "csv.register_dialect('myDialect', delimiter='|', skipinitialspace=True, quoting=csv.QUOTE_ALL)"
   ]
  },
  {
   "cell_type": "raw",
   "id": "4c48b87e-631b-4768-be9c-ad06898a3270",
   "metadata": {},
   "source": [
    "reader = csv.reader(file, dialect='myDialect') #when creating an object"
   ]
  },
  {
   "cell_type": "markdown",
   "id": "a62dcd0b-6379-4110-b096-bb6d74663ad4",
   "metadata": {},
   "source": [
    "**How to write a CSV file in Python?**"
   ]
  },
  {
   "cell_type": "code",
   "execution_count": 42,
   "id": "1f096221-6f3b-4ae8-980d-4770f96b36c2",
   "metadata": {},
   "outputs": [],
   "source": [
    "import csv\n",
    "\n",
    "with open('new.csv', 'w', newline='') as file:\n",
    "    writer = csv.writer(file)\n",
    "    writer.writerow([\"Member\", \"Name\", \"Contribution\"])\n",
    "    writer.writerow([1, \"Linni\", \"backend\"])\n",
    "    writer.writerow([2, \"Tim\", \"frondend\"])\n",
    "    writer.writerow([3, \"Guido\", \"vessel performance\"])"
   ]
  },
  {
   "cell_type": "raw",
   "id": "5b759d7c-fb9c-4f77-8b80-15beb20173a1",
   "metadata": {},
   "source": [
    "We import the csv module.\n",
    "We open the CSV file innovators.csv in write mode ('w') using the with statement, which ensures the file is properly closed when we're done with it. We also specify newline='' to avoid extra newlines.\n",
    "We create a csv.writer object, passing the file object to it.\n",
    "We use the writerow method to write each row to the CSV file."
   ]
  },
  {
   "cell_type": "markdown",
   "id": "e5bf6e4b-e0b8-4d33-bf86-007c49562fd8",
   "metadata": {},
   "source": [
    "**Writing multiple rows at once**: Instead of writing each row individually, we can use the **writerows** method to write multiple rows at once"
   ]
  },
  {
   "cell_type": "code",
   "execution_count": 45,
   "id": "3eb80fbc-fcfc-47f6-9ef0-3d8acf6c2854",
   "metadata": {},
   "outputs": [],
   "source": [
    "data = [[\"Member\", \"Name\", \"Contribution\"],\n",
    "        [1, \"Linni\", \"backend\"],\n",
    "        [2, \"Tim\", \"frontend\"],\n",
    "        [3, \"Guido\", \"analytics\"]]\n",
    "\n",
    "with open('new2.csv', 'w', newline='') as file:\n",
    "    writer = csv.writer(file)\n",
    "    writer.writerows(data)"
   ]
  },
  {
   "cell_type": "markdown",
   "id": "cebec38f-9c35-42c1-aa4e-51e0d4d9af05",
   "metadata": {},
   "source": [
    "**Customizing the writer**: Sometimes, you might want to customize the writer to use a different delimiter, quoting, or escape characters. <br> You can do this by creating a csv. <br> Dialect object and passing it to the writer constructor:"
   ]
  },
  {
   "cell_type": "code",
   "execution_count": 51,
   "id": "aa1782ec-901a-4463-a111-b16a1f52a831",
   "metadata": {},
   "outputs": [],
   "source": [
    "dialect = csv.excel_tab\n",
    "with open('new.csv', 'w', newline='') as file:\n",
    "    writer = csv.writer(file)\n",
    "    writer.writerow([\"Member\", \"Name\", \"Contribution\"])\n",
    "    writer.writerow([1, \"Linni\", \"backend\"])\n",
    "    writer.writerow([2, \"Tim\", \"frondend\"])\n",
    "    writer.writerow([3, \"Guido\", \"vessel performance\"])"
   ]
  },
  {
   "cell_type": "code",
   "execution_count": null,
   "id": "8dd96e0e-a43b-4e97-b2ac-7fdf850742c0",
   "metadata": {},
   "outputs": [],
   "source": []
  },
  {
   "cell_type": "code",
   "execution_count": 67,
   "id": "14a58be7-ff3a-4071-a3ac-5159eaa9cf1c",
   "metadata": {},
   "outputs": [
    {
     "data": {
      "text/html": [
       "<div>\n",
       "<style scoped>\n",
       "    .dataframe tbody tr th:only-of-type {\n",
       "        vertical-align: middle;\n",
       "    }\n",
       "\n",
       "    .dataframe tbody tr th {\n",
       "        vertical-align: top;\n",
       "    }\n",
       "\n",
       "    .dataframe thead th {\n",
       "        text-align: right;\n",
       "    }\n",
       "</style>\n",
       "<table border=\"1\" class=\"dataframe\">\n",
       "  <thead>\n",
       "    <tr style=\"text-align: right;\">\n",
       "      <th></th>\n",
       "      <th>Member</th>\n",
       "      <th>Name</th>\n",
       "      <th>Contribution</th>\n",
       "    </tr>\n",
       "  </thead>\n",
       "  <tbody>\n",
       "    <tr>\n",
       "      <th>0</th>\n",
       "      <td>1</td>\n",
       "      <td>Linni</td>\n",
       "      <td>backend</td>\n",
       "    </tr>\n",
       "    <tr>\n",
       "      <th>1</th>\n",
       "      <td>2</td>\n",
       "      <td>Tim</td>\n",
       "      <td>frontend</td>\n",
       "    </tr>\n",
       "    <tr>\n",
       "      <th>2</th>\n",
       "      <td>3</td>\n",
       "      <td>Guido</td>\n",
       "      <td>analytics</td>\n",
       "    </tr>\n",
       "  </tbody>\n",
       "</table>\n",
       "</div>"
      ],
      "text/plain": [
       "   Member   Name Contribution\n",
       "0       1  Linni      backend\n",
       "1       2    Tim     frontend\n",
       "2       3  Guido    analytics"
      ]
     },
     "execution_count": 67,
     "metadata": {},
     "output_type": "execute_result"
    }
   ],
   "source": [
    "import pandas as pd\n",
    "pd.read_csv(\"new2.csv\")"
   ]
  },
  {
   "cell_type": "code",
   "execution_count": null,
   "id": "60906352-700d-4298-8eea-d1c9b6d6f857",
   "metadata": {},
   "outputs": [],
   "source": []
  }
 ],
 "metadata": {
  "kernelspec": {
   "display_name": "Python 3 (ipykernel)",
   "language": "python",
   "name": "python3"
  },
  "language_info": {
   "codemirror_mode": {
    "name": "ipython",
    "version": 3
   },
   "file_extension": ".py",
   "mimetype": "text/x-python",
   "name": "python",
   "nbconvert_exporter": "python",
   "pygments_lexer": "ipython3",
   "version": "3.12.4"
  }
 },
 "nbformat": 4,
 "nbformat_minor": 5
}
