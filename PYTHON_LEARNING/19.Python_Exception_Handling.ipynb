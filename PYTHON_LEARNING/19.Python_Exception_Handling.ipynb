{
 "cells": [
  {
   "cell_type": "markdown",
   "id": "067c49ee-fe94-4805-ba62-5f993b1856cb",
   "metadata": {},
   "source": [
    "# Python Exception Handling"
   ]
  },
  {
   "cell_type": "markdown",
   "id": "40f3be14-29de-4ba6-bec8-9e2768ff4c53",
   "metadata": {},
   "source": [
    "Exception handling allows the program to continue to execute even if an error occurs"
   ]
  },
  {
   "cell_type": "raw",
   "id": "c63d401b-7dad-4afd-9441-061c5026a842",
   "metadata": {},
   "source": [
    "Exceptions in Python are unexpected events that occur during program execution. For example, trying to divide a number by 0 will cause an exception."
   ]
  },
  {
   "cell_type": "raw",
   "id": "58cce19d-881f-4395-9072-d3e1410fa59c",
   "metadata": {},
   "source": [
    "divide_by_zero = 7 / 0\n",
    "This code will throw a ZeroDivisionError because it's not possible to divide a number by 0.\n",
    "When these types of runtime errors occur, Python creates an exception object. If not handled properly, it prints a traceback to that error along with some details about why that error occurred."
   ]
  },
  {
   "cell_type": "raw",
   "id": "ed836606-5e0a-4e23-b750-fbaab46d778f",
   "metadata": {},
   "source": [
    "In Python, exception handling is achieved using the try, except, and finally statements. Here's a brief overview:\n",
    "\n",
    "try block: This is where you put the code that might potentially raise an exception.\n",
    "except block: This is where you put the code that will be executed if an exception is raised in the try block.\n",
    "finally block: This is where you put the code that will be executed regardless of whether an exception was raised or not."
   ]
  },
  {
   "cell_type": "markdown",
   "id": "2f444a83-a1c6-4932-bf62-7c76355f0cce",
   "metadata": {},
   "source": [
    "## Try block"
   ]
  },
  {
   "cell_type": "code",
   "execution_count": 10,
   "id": "23c03084-fb59-4537-afa0-e9512a76b14b",
   "metadata": {},
   "outputs": [
    {
     "name": "stdout",
     "output_type": "stream",
     "text": [
      "Error: Denominator cannot be 0.\n"
     ]
    }
   ],
   "source": [
    "try:\n",
    "    numerator = 10\n",
    "    denominator = 0\n",
    "    result = numerator / denominator\n",
    "    print(result)\n",
    "except:\n",
    "    print(\"Error: Denominator cannot be 0.\")"
   ]
  },
  {
   "cell_type": "code",
   "execution_count": 6,
   "id": "f60d6583-b82a-4ae5-8862-733569db4b33",
   "metadata": {},
   "outputs": [
    {
     "name": "stdout",
     "output_type": "stream",
     "text": [
      "Error: Denominator cannot be 0.\n",
      "This will be executed\n"
     ]
    }
   ],
   "source": [
    "try:\n",
    "    numerator = 10\n",
    "    denominator = 0\n",
    "    result = numerator / denominator\n",
    "    print(result)\n",
    "except ZeroDivisionError:\n",
    "    print(\"Error: Denominator cannot be 0.\")\n",
    "finally:\n",
    "    print(\"This will be executed\")"
   ]
  },
  {
   "cell_type": "raw",
   "id": "13daa119-ddca-4c5b-bf93-37e06bdd7994",
   "metadata": {},
   "source": [
    "In this example, the try block attempts to divide a number by 0, which raises a ZeroDivisionError. The except block catches this exception and prints an error message. The finally block is executed regardless of the exception and prints a message."
   ]
  },
  {
   "cell_type": "code",
   "execution_count": 16,
   "id": "3a0c170f-88c4-4e62-96d4-1548f5812348",
   "metadata": {},
   "outputs": [
    {
     "name": "stdin",
     "output_type": "stream",
     "text": [
      "Enter a number:  1\n"
     ]
    },
    {
     "name": "stdout",
     "output_type": "stream",
     "text": [
      "Not a two digit number!\n"
     ]
    }
   ],
   "source": [
    "try:\n",
    "    num = int(input(\"Enter a number: \"))\n",
    "    assert len(num) == 2\n",
    "except:\n",
    "    print(\"Not a two digit number!\")\n",
    "else:\n",
    "    print(\"Its a two digit number\")"
   ]
  },
  {
   "cell_type": "markdown",
   "id": "17cf2634-43f2-47f2-91d6-93b79d62d668",
   "metadata": {},
   "source": [
    "## User-defined exceptions\n",
    "They custom exceptions that you can create to handle specific error scenarios in your code."
   ]
  },
  {
   "cell_type": "raw",
   "id": "78fc6fe9-6b99-47d0-9159-c87d0dc638d4",
   "metadata": {},
   "source": [
    "In Python, you can define a custom exception by creating a new class that inherits from the built-in Exception class"
   ]
  },
  {
   "cell_type": "code",
   "execution_count": 32,
   "id": "eefc1329-b736-4793-9d88-b3c436585abf",
   "metadata": {},
   "outputs": [
    {
     "name": "stdout",
     "output_type": "stream",
     "text": [
      "Custom error occurred\n"
     ]
    }
   ],
   "source": [
    "class CustomError(Exception):\n",
    "    pass\n",
    "try:\n",
    "    raise CustomError\n",
    "except CustomError:\n",
    "    print(\"Custom error occurred\")"
   ]
  },
  {
   "cell_type": "raw",
   "id": "39880d49-ebb8-4166-9f6b-52dd55a27713",
   "metadata": {},
   "source": [
    "In this example, we've defined a custom exception called CustomError that inherits from the Exception class. We then raise this exception in the try block and catch it in the except block."
   ]
  },
  {
   "cell_type": "code",
   "execution_count": 30,
   "id": "af3ada65-6d6f-4876-8a13-f3485bf525c9",
   "metadata": {},
   "outputs": [
    {
     "name": "stdin",
     "output_type": "stream",
     "text": [
      "Enter salary amount:  34\n"
     ]
    },
    {
     "name": "stdout",
     "output_type": "stream",
     "text": [
      "Error: Salary is not in range from 5000 to 15000\n"
     ]
    }
   ],
   "source": [
    "class SalaryError(Exception):\n",
    "    def __init__(self, salary, message=\"Salary is not in range from 5000 to 15000\"): #takes two arguments: salary and message\n",
    "        self.salary = salary\n",
    "        self.message = message\n",
    "        super().__init__(self.message)\n",
    "\n",
    "try:\n",
    "    salary = int(input(\"Enter salary amount: \"))\n",
    "    if not 5000 < salary < 15000:\n",
    "        raise SalaryError(salary)\n",
    "except SalaryError as e:\n",
    "    print(f\"Error: {e.message}\")"
   ]
  },
  {
   "cell_type": "markdown",
   "id": "eac3e844-c95c-42c8-b860-030e19ac36dd",
   "metadata": {},
   "source": [
    "## Example"
   ]
  },
  {
   "cell_type": "code",
   "execution_count": null,
   "id": "a35cd57a-1d16-4914-bb7c-f2e6bf66813b",
   "metadata": {},
   "outputs": [],
   "source": [
    "Python code that uses the requests module to get an API link, print its output, and handle exceptions"
   ]
  },
  {
   "cell_type": "code",
   "execution_count": null,
   "id": "8a24780b-1aa6-499f-8802-78f068b0039a",
   "metadata": {},
   "outputs": [],
   "source": [
    "import requests\n",
    "x = requests.get('https://dogapi.dog/api/v2/breeds')\n",
    "print(x.text)"
   ]
  },
  {
   "cell_type": "code",
   "execution_count": null,
   "id": "ff1349e7-1b27-4bf4-984b-965abbf71b9c",
   "metadata": {},
   "outputs": [],
   "source": [
    "import requests\n",
    "\n",
    "try:\n",
    "    api_url = \"https://dogapi.dog/api/v2/breed\"\n",
    "    response = requests.get(api_url)\n",
    "    print(response.text)\n",
    "except:\n",
    "    print(\"\\nPlease check the spelling of the URL\")\n",
    "finally:\n",
    "    print(\"\\nAPI request completed\")\n",
    "    "
   ]
  },
  {
   "cell_type": "code",
   "execution_count": null,
   "id": "c9165090-e0d3-4a31-a816-cdbb37fd5c9e",
   "metadata": {},
   "outputs": [],
   "source": [
    "import requests\n",
    "\n",
    "try:\n",
    "    api = input(\"Please enter the API URL: \")\n",
    "    response = requests.get(api)\n",
    "    \n",
    "    if response.ok:\n",
    "        print(response.text)\n",
    "    else:\n",
    "        print(\"\\nPlease check the spelling of the URL\")\n",
    "except:\n",
    "    print(\"\\nRequest was not successful.\")\n",
    "finally:\n",
    "    print(\"\\nAPI request completed\")\n"
   ]
  },
  {
   "cell_type": "code",
   "execution_count": 19,
   "id": "594b3273-9317-47a6-b6ed-59a744f443df",
   "metadata": {},
   "outputs": [
    {
     "name": "stdout",
     "output_type": "stream",
     "text": [
      "\n",
      "Please check the spelling of the URL\n",
      "\n",
      "API request completed\n"
     ]
    }
   ],
   "source": [
    "import requests\n",
    "\n",
    "try:\n",
    "    api_url = \"https://dogapi.dog/api/v2/breed\"\n",
    "    response = requests.get(api_url)\n",
    "    response.raise_for_status()\n",
    "    print(response.text)\n",
    "except requests.RequestException:\n",
    "    print(\"\\nPlease check the spelling of the URL\")\n",
    "finally:\n",
    "    print(\"\\nAPI request completed\")"
   ]
  }
 ],
 "metadata": {
  "kernelspec": {
   "display_name": "Python 3 (ipykernel)",
   "language": "python",
   "name": "python3"
  },
  "language_info": {
   "codemirror_mode": {
    "name": "ipython",
    "version": 3
   },
   "file_extension": ".py",
   "mimetype": "text/x-python",
   "name": "python",
   "nbconvert_exporter": "python",
   "pygments_lexer": "ipython3",
   "version": "3.12.4"
  }
 },
 "nbformat": 4,
 "nbformat_minor": 5
}
