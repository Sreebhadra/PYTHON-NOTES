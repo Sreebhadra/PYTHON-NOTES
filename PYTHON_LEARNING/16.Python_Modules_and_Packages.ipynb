{
 "cells": [
  {
   "cell_type": "markdown",
   "id": "ff1f1fc6-1071-4535-8de6-0abafad87741",
   "metadata": {},
   "source": [
    "# Python Modules"
   ]
  },
  {
   "cell_type": "raw",
   "id": "edf45858-a6f6-40cb-8b7e-b26ae26e88a3",
   "metadata": {},
   "source": [
    "In Python, a module is a file that contains code to perform a specific task. Think of it like a container that holds related functions, variables, and classes. Modules help keep your code organized and make it easier to maintain.\n",
    "\n",
    "Imagine you're working on a big project with many lines of code. Instead of putting everything in a single file, you can break it down into smaller modules, each with its own specific functionality. This way, you can easily find and modify the code you need."
   ]
  },
  {
   "cell_type": "markdown",
   "id": "c3b72a83-08ce-4816-a067-0e78f7d602d8",
   "metadata": {},
   "source": [
    "### Creating a module"
   ]
  },
  {
   "cell_type": "raw",
   "id": "b6093109-1a12-4c47-ab83-d081042906cb",
   "metadata": {},
   "source": [
    "create a simple module called example.py. Inside this module, we'll define a function called add() that takes two numbers and returns their sum."
   ]
  },
  {
   "cell_type": "code",
   "execution_count": 46,
   "id": "cf9172c7-413b-469a-9829-8437fa36045c",
   "metadata": {},
   "outputs": [],
   "source": [
    "#example.py should be saved in the same directory\n",
    "def add(a, b):\n",
    "    result = a + b\n",
    "    return result"
   ]
  },
  {
   "cell_type": "code",
   "execution_count": 48,
   "id": "269ff260-ede3-4a5e-9cf0-ba19649d266e",
   "metadata": {},
   "outputs": [
    {
     "data": {
      "text/plain": [
       "5"
      ]
     },
     "execution_count": 48,
     "metadata": {},
     "output_type": "execute_result"
    }
   ],
   "source": [
    "import example\n",
    "example.add(2,3)"
   ]
  },
  {
   "cell_type": "code",
   "execution_count": 50,
   "id": "ebb14b39-7ab2-48fe-a806-76131071e14f",
   "metadata": {},
   "outputs": [
    {
     "name": "stdout",
     "output_type": "stream",
     "text": [
      "To import you own package, first create a file named myfile.py in the same directory as the script or in Python's module search path.\n",
      " The custom module named myfile likely contains at least one function called my_function().\n",
      "Then call the function named my_function() that is defined within the myfile module.\n"
     ]
    }
   ],
   "source": [
    "import myfile\n",
    "myfile.my_function()"
   ]
  },
  {
   "cell_type": "markdown",
   "id": "b5532940-b734-45df-a9d9-25cba93ecb76",
   "metadata": {},
   "source": [
    "### Importing standard modules"
   ]
  },
  {
   "cell_type": "raw",
   "id": "90d01f0a-d16e-402c-aa85-ea3e05678d36",
   "metadata": {},
   "source": [
    "Python has many built-in modules that you can use. For example, if you want to get the value of pi, you can import the math module and use math.pi"
   ]
  },
  {
   "cell_type": "code",
   "execution_count": 11,
   "id": "406f7a00-133d-44a1-8b9d-369ee5798795",
   "metadata": {},
   "outputs": [
    {
     "name": "stdout",
     "output_type": "stream",
     "text": [
      "The value of pi is 3.141592653589793\n"
     ]
    }
   ],
   "source": [
    "import math\n",
    "print(\"The value of pi is\", math.pi)"
   ]
  },
  {
   "cell_type": "markdown",
   "id": "16f44abd-dd83-4c0f-b41b-3825dd74544c",
   "metadata": {},
   "source": [
    "### Renaming modules"
   ]
  },
  {
   "cell_type": "code",
   "execution_count": 13,
   "id": "01373598-b2e4-4550-8343-ada1541baf0e",
   "metadata": {},
   "outputs": [
    {
     "name": "stdout",
     "output_type": "stream",
     "text": [
      "3.141592653589793\n"
     ]
    }
   ],
   "source": [
    "## You can also import a module and give it a new name. This can save you typing time.\n",
    "import math as m\n",
    "print(m.pi)"
   ]
  },
  {
   "cell_type": "markdown",
   "id": "7cf413f9-d1ac-4051-b736-4718537927fa",
   "metadata": {},
   "source": [
    "### The dir() Function"
   ]
  },
  {
   "cell_type": "code",
   "execution_count": 55,
   "id": "1405fe3f-11a8-4c4e-bc91-5daf6bd169ee",
   "metadata": {},
   "outputs": [
    {
     "data": {
      "text/plain": [
       "['__builtins__',\n",
       " '__cached__',\n",
       " '__doc__',\n",
       " '__file__',\n",
       " '__loader__',\n",
       " '__name__',\n",
       " '__package__',\n",
       " '__spec__',\n",
       " 'add']"
      ]
     },
     "execution_count": 55,
     "metadata": {},
     "output_type": "execute_result"
    }
   ],
   "source": [
    "# You can use the dir() function to list all the function names in a module.\n",
    "dir(example)"
   ]
  },
  {
   "cell_type": "code",
   "execution_count": 57,
   "id": "488c71bc-f4ab-43e2-81e2-f64ff8f0fc47",
   "metadata": {},
   "outputs": [
    {
     "data": {
      "text/plain": [
       "['__builtins__',\n",
       " '__cached__',\n",
       " '__doc__',\n",
       " '__file__',\n",
       " '__loader__',\n",
       " '__name__',\n",
       " '__package__',\n",
       " '__spec__',\n",
       " 'my_function']"
      ]
     },
     "execution_count": 57,
     "metadata": {},
     "output_type": "execute_result"
    }
   ],
   "source": [
    "dir(myfile)"
   ]
  },
  {
   "cell_type": "markdown",
   "id": "96932497-0374-487b-a496-3eb306400d98",
   "metadata": {},
   "source": [
    "# Python Packages"
   ]
  },
  {
   "cell_type": "raw",
   "id": "05255f80-852f-440a-b039-60de1459280a",
   "metadata": {},
   "source": [
    "In Python, a package is a collection of related modules. Think of it like a folder that contains multiple modules, each with its own specific functionality. Packages help keep your code organized and make it easier to distribute and maintain.\n",
    "\n",
    "Imagine you're working on a large project with many modules. Instead of having a flat structure with many modules at the same level, you can group related modules into packages. This way, you can easily find and modify the code you need."
   ]
  },
  {
   "cell_type": "markdown",
   "id": "3b0458ab-a11c-440a-b800-365cbfc25f9f",
   "metadata": {},
   "source": [
    "### Creating a Package"
   ]
  },
  {
   "cell_type": "raw",
   "id": "5113754a-1469-46e1-875b-1065170ef53c",
   "metadata": {},
   "source": [
    "To create a package, you need to create a folder with a special file called __init__.py. This file can be empty, but it's required to tell Python that the folder is a package.\n",
    "\n",
    "Let's create a package called mypackage with two modules: module1.py and module2.py."
   ]
  },
  {
   "cell_type": "raw",
   "id": "400ce7d6-563b-46da-a7da-27b3540c9a01",
   "metadata": {},
   "source": [
    "mypackage/ #directory (folder) that contains the package.\n",
    "    __init__.py #a file that tells Python this directory should be treated as a package\n",
    "    module1.py #Python files (modules) within the package\n",
    "    module2.py"
   ]
  },
  {
   "cell_type": "raw",
   "id": "ef5e2f58-0db6-498e-a9a5-3bde35fac51e",
   "metadata": {},
   "source": [
    "#module1.py\n",
    "def function1():\n",
    "    print(\"This is function1 from module1\")"
   ]
  },
  {
   "cell_type": "raw",
   "id": "096771f1-372c-45d8-b02c-4a9ff5fddc20",
   "metadata": {},
   "source": [
    "#module2.py\n",
    "def function2():\n",
    "    print(\"This is function2 from module2\")"
   ]
  },
  {
   "cell_type": "markdown",
   "id": "712f2b31-f34f-48d0-ad39-b25c56da733d",
   "metadata": {},
   "source": [
    "### Importing modules from the packages"
   ]
  },
  {
   "cell_type": "code",
   "execution_count": 14,
   "id": "76434fe5-72b8-4a75-afa8-6d58bd24ec52",
   "metadata": {},
   "outputs": [
    {
     "name": "stdout",
     "output_type": "stream",
     "text": [
      "This is function1 from module1\n",
      "This is function2 from module2\n"
     ]
    }
   ],
   "source": [
    "import mypackage.module1\n",
    "import mypackage.module2\n",
    "\n",
    "mypackage.module1.function1()  \n",
    "mypackage.module2.function2()  "
   ]
  },
  {
   "cell_type": "markdown",
   "id": "938bd853-da56-40dd-b1ad-86cee1bb0f52",
   "metadata": {},
   "source": [
    "### Importing entire packages"
   ]
  },
  {
   "cell_type": "code",
   "execution_count": 17,
   "id": "5324aaba-9aa7-4c5c-9f7e-d845a4a140cb",
   "metadata": {},
   "outputs": [
    {
     "name": "stdout",
     "output_type": "stream",
     "text": [
      "This is function1 from module1\n",
      "This is function2 from module2\n"
     ]
    }
   ],
   "source": [
    "from mypackage import *\n",
    "\n",
    "module1.function1()  \n",
    "module2.function2() "
   ]
  },
  {
   "cell_type": "markdown",
   "id": "a2fac64e-29cb-401e-bded-b5d10c1b8416",
   "metadata": {},
   "source": [
    "### Relative Imports\n",
    "\n",
    "When you're working with packages, you might need to import modules from a sibling package or a subpackage. <br> You can use relative imports to do this."
   ]
  },
  {
   "cell_type": "raw",
   "id": "80158939-b164-4e74-be08-d8a481be311d",
   "metadata": {},
   "source": [
    "mypackage/\n",
    "    __init__.py\n",
    "    module1.py\n",
    "    module2.py\n",
    "    subpackage/\n",
    "        __init__.py\n",
    "        submodule.py"
   ]
  },
  {
   "cell_type": "markdown",
   "id": "7091d977-96d5-408a-b735-15899cd80155",
   "metadata": {},
   "source": [
    "### Installing Packages\n",
    "\n",
    "You can install packages using pip, the Python package installer."
   ]
  },
  {
   "cell_type": "code",
   "execution_count": 28,
   "id": "32286dbc-cfc5-49f9-97d9-5eec0d6e5cca",
   "metadata": {},
   "outputs": [
    {
     "name": "stdout",
     "output_type": "stream",
     "text": [
      "Requirement already satisfied: requests in c:\\users\\admin\\anaconda3\\lib\\site-packages (2.32.2)\n",
      "Requirement already satisfied: charset-normalizer<4,>=2 in c:\\users\\admin\\anaconda3\\lib\\site-packages (from requests) (2.0.4)\n",
      "Requirement already satisfied: idna<4,>=2.5 in c:\\users\\admin\\anaconda3\\lib\\site-packages (from requests) (3.7)\n",
      "Requirement already satisfied: urllib3<3,>=1.21.1 in c:\\users\\admin\\anaconda3\\lib\\site-packages (from requests) (2.2.2)\n",
      "Requirement already satisfied: certifi>=2017.4.17 in c:\\users\\admin\\anaconda3\\lib\\site-packages (from requests) (2024.7.4)\n",
      "Note: you may need to restart the kernel to use updated packages.\n"
     ]
    }
   ],
   "source": [
    "pip install requests"
   ]
  }
 ],
 "metadata": {
  "kernelspec": {
   "display_name": "Python 3 (ipykernel)",
   "language": "python",
   "name": "python3"
  },
  "language_info": {
   "codemirror_mode": {
    "name": "ipython",
    "version": 3
   },
   "file_extension": ".py",
   "mimetype": "text/x-python",
   "name": "python",
   "nbconvert_exporter": "python",
   "pygments_lexer": "ipython3",
   "version": "3.12.4"
  }
 },
 "nbformat": 4,
 "nbformat_minor": 5
}
