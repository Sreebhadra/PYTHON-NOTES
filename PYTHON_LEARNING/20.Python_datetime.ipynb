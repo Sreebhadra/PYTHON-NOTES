{
 "cells": [
  {
   "cell_type": "markdown",
   "id": "cf3a5cc5-5380-40b7-a7e4-c7bc4dacf396",
   "metadata": {},
   "source": [
    "# Python datetime"
   ]
  },
  {
   "cell_type": "markdown",
   "id": "331b1c0d-fc7d-4cdf-902f-572bb39e1905",
   "metadata": {},
   "source": [
    "A date in Python is not a data type of its own, but we can import a module named datetime to work with dates as date objects."
   ]
  },
  {
   "cell_type": "markdown",
   "id": "b4fe90ed-52df-4394-a7d8-e06d7dfb5717",
   "metadata": {},
   "source": [
    "### datetime module"
   ]
  },
  {
   "cell_type": "code",
   "execution_count": 13,
   "id": "0b3ce082-b8ba-4dcf-98f5-fe4060086a92",
   "metadata": {},
   "outputs": [
    {
     "name": "stdout",
     "output_type": "stream",
     "text": [
      "['MAXYEAR', 'MINYEAR', 'UTC', '__all__', '__builtins__', '__cached__', '__doc__', '__file__', '__loader__', '__name__', '__package__', '__spec__', 'date', 'datetime', 'datetime_CAPI', 'time', 'timedelta', 'timezone', 'tzinfo']\n"
     ]
    }
   ],
   "source": [
    "import datetime\n",
    "\n",
    "print(dir(datetime))"
   ]
  },
  {
   "cell_type": "code",
   "execution_count": 10,
   "id": "df81c28c-f780-451e-9edf-163240aaf8b9",
   "metadata": {},
   "outputs": [
    {
     "name": "stdout",
     "output_type": "stream",
     "text": [
      "2024-07-25 16:22:52.633616\n"
     ]
    }
   ],
   "source": [
    "import datetime\n",
    "\n",
    "now = datetime.datetime.now()\n",
    "print(now)"
   ]
  },
  {
   "cell_type": "code",
   "execution_count": 22,
   "id": "e024deac-53f9-4a3d-834c-5ce4558dea81",
   "metadata": {},
   "outputs": [
    {
     "name": "stdout",
     "output_type": "stream",
     "text": [
      "2024-07-26\n",
      "2024-07-26\n"
     ]
    }
   ],
   "source": [
    "import datetime\n",
    "x = datetime.date.today()\n",
    "y = date.today()\n",
    "print(x)\n",
    "print(y)"
   ]
  },
  {
   "cell_type": "code",
   "execution_count": 15,
   "id": "b2bceab7-b897-41ca-b344-fd6a6290098d",
   "metadata": {},
   "outputs": [
    {
     "name": "stdout",
     "output_type": "stream",
     "text": [
      "time.struct_time(tm_year=2024, tm_mon=7, tm_mday=26, tm_hour=11, tm_min=17, tm_sec=52, tm_wday=4, tm_yday=208, tm_isdst=0)\n"
     ]
    }
   ],
   "source": [
    "import datetime\n",
    "x = time.localtime()\n",
    "print(x)"
   ]
  },
  {
   "cell_type": "markdown",
   "id": "60db2654-0ae9-4ba0-83d0-52536093b8fa",
   "metadata": {},
   "source": [
    "**Extracting Information from a datetime Object**"
   ]
  },
  {
   "cell_type": "code",
   "execution_count": 41,
   "id": "e6e5c236-0c05-4da9-bf32-433346d5c227",
   "metadata": {},
   "outputs": [
    {
     "name": "stdout",
     "output_type": "stream",
     "text": [
      "2024-07-26 10:14:31.031828\n",
      "2024\n",
      "7\n",
      "26\n",
      "10\n",
      "14\n",
      "31\n",
      "31828\n"
     ]
    }
   ],
   "source": [
    "import datetime\n",
    "now = datetime.datetime.now()\n",
    "print(now)\n",
    "\n",
    "# Year\n",
    "print(now.year)\n",
    "\n",
    "# Month\n",
    "print(now.month)\n",
    "\n",
    "# Day\n",
    "print(now.day)\n",
    "\n",
    "# Hour\n",
    "print(now.hour)\n",
    "\n",
    "# Minute\n",
    "print(now.minute)\n",
    "\n",
    "# Second\n",
    "print(now.second)\n",
    "\n",
    "# Microsecond\n",
    "print(now.microsecond)"
   ]
  },
  {
   "cell_type": "code",
   "execution_count": 26,
   "id": "bea9a47f-9018-470d-9c2f-14756f8feb71",
   "metadata": {},
   "outputs": [
    {
     "name": "stdout",
     "output_type": "stream",
     "text": [
      "Current year: 2024\n",
      "Current month: 7\n",
      "Current day: 26\n"
     ]
    }
   ],
   "source": [
    "from datetime import date\n",
    "today = date.today() \n",
    "\n",
    "print(\"Current year:\", today.year)\n",
    "print(\"Current month:\", today.month)\n",
    "print(\"Current day:\", today.day)"
   ]
  },
  {
   "cell_type": "markdown",
   "id": "73f76060-6dff-49f2-8124-a79e8278b00e",
   "metadata": {},
   "source": [
    "**datetime.time class**"
   ]
  },
  {
   "cell_type": "code",
   "execution_count": 29,
   "id": "5fa6e038-ca4e-4efb-8363-637dbda89973",
   "metadata": {},
   "outputs": [
    {
     "name": "stdout",
     "output_type": "stream",
     "text": [
      "00:00:00\n",
      "11:34:56\n",
      "11:34:56\n",
      "11:34:56.234566\n"
     ]
    }
   ],
   "source": [
    "from datetime import time\n",
    "\n",
    "# time(hour = 0, minute = 0, second = 0)\n",
    "a = time()\n",
    "print(a)\n",
    "\n",
    "# time(hour, minute and second)\n",
    "b = time(11, 34, 56)\n",
    "print(b)\n",
    "\n",
    "# time(hour, minute and second)\n",
    "c = time(hour = 11, minute = 34, second = 56)\n",
    "print(c)\n",
    "\n",
    "# time(hour, minute, second, microsecond)\n",
    "d = time(11, 34, 56, 234566)\n",
    "print(d)"
   ]
  },
  {
   "cell_type": "code",
   "execution_count": 31,
   "id": "f7329cab-60ba-4dd4-9778-3586469d7a14",
   "metadata": {},
   "outputs": [
    {
     "name": "stdout",
     "output_type": "stream",
     "text": [
      "Hour = 11\n",
      "Minute = 34\n",
      "Second = 56\n",
      "Microsecond = 0\n"
     ]
    }
   ],
   "source": [
    "from datetime import time\n",
    "\n",
    "a = time(11, 34, 56)\n",
    "\n",
    "print(\"Hour =\", a.hour)\n",
    "print(\"Minute =\", a.minute)\n",
    "print(\"Second =\", a.second)\n",
    "print(\"Microsecond =\", a.microsecond)"
   ]
  },
  {
   "cell_type": "code",
   "execution_count": 33,
   "id": "6190ff3e-bb43-40e7-91a3-87a2790ad9d6",
   "metadata": {},
   "outputs": [
    {
     "name": "stdout",
     "output_type": "stream",
     "text": [
      "2022-12-28 00:00:00\n",
      "2022-12-28 23:55:59.342380\n"
     ]
    }
   ],
   "source": [
    "from datetime import datetime\n",
    "\n",
    "# datetime(year, month, day)\n",
    "a = datetime(2022, 12, 28)\n",
    "print(a)\n",
    "\n",
    "# datetime(year, month, day, hour, minute, second, microsecond)\n",
    "b = datetime(2022, 12, 28, 23, 55, 59, 342380)\n",
    "print(b)"
   ]
  },
  {
   "cell_type": "code",
   "execution_count": 35,
   "id": "ef2777b9-aa2b-46cd-88fa-bde8a9b7207c",
   "metadata": {},
   "outputs": [
    {
     "name": "stdout",
     "output_type": "stream",
     "text": [
      "Year = 2022\n",
      "Month = 12\n",
      "Hour = 23\n",
      "Minute = 55\n",
      "Timestamp = 1672251959.34238\n"
     ]
    }
   ],
   "source": [
    "from datetime import datetime\n",
    "\n",
    "a = datetime(2022, 12, 28, 23, 55, 59, 342380)\n",
    "\n",
    "print(\"Year =\", a.year)\n",
    "print(\"Month =\", a.month)\n",
    "print(\"Hour =\", a.hour)\n",
    "print(\"Minute =\", a.minute)\n",
    "print(\"Timestamp =\", a.timestamp())"
   ]
  },
  {
   "cell_type": "markdown",
   "id": "bf47eb9d-e570-41e0-9fad-9251abf36d57",
   "metadata": {},
   "source": [
    "**datetime.timedelta class**"
   ]
  },
  {
   "cell_type": "code",
   "execution_count": 38,
   "id": "cec21c64-6a35-4449-ae5c-074ec5c5ce85",
   "metadata": {},
   "outputs": [
    {
     "name": "stdout",
     "output_type": "stream",
     "text": [
      "t3 = 201 days, 0:00:00\n",
      "t6 = -333 days, 1:14:20\n",
      "Type of t3 = <class 'datetime.timedelta'>\n",
      "Type of t6 = <class 'datetime.timedelta'>\n"
     ]
    }
   ],
   "source": [
    "from datetime import datetime, date\n",
    "\n",
    "# using date()\n",
    "t1 = date(year = 2018, month = 7, day = 12)\n",
    "t2 = date(year = 2017, month = 12, day = 23)\n",
    "\n",
    "t3 = t1 - t2\n",
    "\n",
    "print(\"t3 =\", t3)\n",
    "\n",
    "# using datetime()\n",
    "t4 = datetime(year = 2018, month = 7, day = 12, hour = 7, minute = 9, second = 33)\n",
    "t5 = datetime(year = 2019, month = 6, day = 10, hour = 5, minute = 55, second = 13)\n",
    "t6 = t4 - t5\n",
    "print(\"t6 =\", t6)\n",
    "\n",
    "print(\"Type of t3 =\", type(t3)) \n",
    "print(\"Type of t6 =\", type(t6))  "
   ]
  },
  {
   "cell_type": "code",
   "execution_count": 40,
   "id": "54f32030-c8e3-406a-8060-17712d1cd0f0",
   "metadata": {},
   "outputs": [
    {
     "name": "stdout",
     "output_type": "stream",
     "text": [
      "t3 = 14 days, 13:55:39\n"
     ]
    }
   ],
   "source": [
    "#difference between two timedelta\n",
    "from datetime import timedelta\n",
    "\n",
    "t1 = timedelta(weeks = 2, days = 5, hours = 1, seconds = 33)\n",
    "t2 = timedelta(days = 4, hours = 11, minutes = 4, seconds = 54)\n",
    "\n",
    "t3 = t1 - t2\n",
    "\n",
    "print(\"t3 =\", t3)"
   ]
  },
  {
   "cell_type": "code",
   "execution_count": 42,
   "id": "9a44f2b6-cc39-4422-a6e8-61fc660a6785",
   "metadata": {},
   "outputs": [
    {
     "name": "stdout",
     "output_type": "stream",
     "text": [
      "Total seconds = 435633.233423\n"
     ]
    }
   ],
   "source": [
    "#timeduration in seconds\n",
    "from datetime import timedelta\n",
    "\n",
    "t = timedelta(days = 5, hours = 1, seconds = 33, microseconds = 233423)\n",
    "print(\"Total seconds =\", t.total_seconds())"
   ]
  },
  {
   "cell_type": "markdown",
   "id": "93760ed1-b336-4507-976c-f61482d3ace2",
   "metadata": {},
   "source": [
    "**To get the week number of the year**"
   ]
  },
  {
   "cell_type": "code",
   "execution_count": 62,
   "id": "f03847d0-8628-44c1-8183-ae7f3c6d8345",
   "metadata": {},
   "outputs": [
    {
     "name": "stdout",
     "output_type": "stream",
     "text": [
      "datetime.IsoCalendarDate(year=2024, week=30, weekday=5)\n",
      "2024\n",
      "30\n",
      "5\n"
     ]
    }
   ],
   "source": [
    "import datetime\n",
    "now = datetime.datetime.now()\n",
    "\n",
    "print(now.isocalendar())\n",
    "print(now.isocalendar()[0])\n",
    "print(now.isocalendar()[1])\n",
    "print(now.isocalendar()[2])"
   ]
  },
  {
   "cell_type": "markdown",
   "id": "0cbe8f73-1a85-45a3-a3a2-cd860f0c7eb4",
   "metadata": {},
   "source": [
    "**To get the day of the year**"
   ]
  },
  {
   "cell_type": "code",
   "execution_count": 71,
   "id": "0119ffeb-ddb3-4255-ab82-f71d2d59fa2e",
   "metadata": {},
   "outputs": [
    {
     "name": "stdout",
     "output_type": "stream",
     "text": [
      "time.struct_time(tm_year=2024, tm_mon=7, tm_mday=26, tm_hour=10, tm_min=20, tm_sec=13, tm_wday=4, tm_yday=208, tm_isdst=-1)\n",
      "208\n"
     ]
    }
   ],
   "source": [
    "import datetime\n",
    "now = datetime.datetime.now()\n",
    "\n",
    "print(now.timetuple())\n",
    "print(now.timetuple().tm_yday)"
   ]
  },
  {
   "cell_type": "markdown",
   "id": "9bf98e22-8c2d-4d14-bb5f-af42f3038cf7",
   "metadata": {},
   "source": [
    "**Date object to represent a date**"
   ]
  },
  {
   "cell_type": "code",
   "execution_count": 17,
   "id": "42f6ff39-9d0e-4fca-b410-5e19d51e55dc",
   "metadata": {},
   "outputs": [
    {
     "name": "stdout",
     "output_type": "stream",
     "text": [
      "2022-12-25\n"
     ]
    }
   ],
   "source": [
    "import datetime\n",
    "\n",
    "d = datetime.date(2022, 12, 25)\n",
    "print(d)"
   ]
  },
  {
   "cell_type": "code",
   "execution_count": 20,
   "id": "e667cff3-5bc7-4fb5-9bf6-823c7590c8a7",
   "metadata": {},
   "outputs": [
    {
     "name": "stdout",
     "output_type": "stream",
     "text": [
      "2022-12-25\n"
     ]
    }
   ],
   "source": [
    "#import only date from datetime module\n",
    "from datetime import date\n",
    "\n",
    "d = date(2022, 12, 25)\n",
    "print(d)"
   ]
  },
  {
   "cell_type": "markdown",
   "id": "48d8a0c3-0e07-4cad-b11b-66ded212d84b",
   "metadata": {},
   "source": [
    "**Formatting Dates and Times (strftime())**"
   ]
  },
  {
   "cell_type": "code",
   "execution_count": 76,
   "id": "b15253f8-489c-4816-bd9b-af189e666e94",
   "metadata": {},
   "outputs": [
    {
     "name": "stdout",
     "output_type": "stream",
     "text": [
      "2024-07-26 10:20:13\n"
     ]
    }
   ],
   "source": [
    "import datetime\n",
    "now = datetime.datetime.now()\n",
    "\n",
    "formatted_date = now.strftime(\"%Y-%m-%d %H:%M:%S\")\n",
    "print(formatted_date)"
   ]
  },
  {
   "cell_type": "raw",
   "id": "06d65bcb-7cd8-4ca8-bf2c-8b1be3cb1912",
   "metadata": {},
   "source": [
    "Common format codes:\n",
    "\n",
    "%Y: Year (e.g., 2024)\n",
    "%m: Month (01-12)\n",
    "%d: Day of the month (01-31)\n",
    "%H: Hour (00-23)\n",
    "%M: Minute (00-59)\n",
    "%S: Second (00-59)"
   ]
  },
  {
   "cell_type": "code",
   "execution_count": 35,
   "id": "17eb56da-0e2b-48cd-982d-7c71bccdbfdc",
   "metadata": {},
   "outputs": [
    {
     "name": "stdout",
     "output_type": "stream",
     "text": [
      "2024\n",
      "Friday\n"
     ]
    }
   ],
   "source": [
    "import datetime\n",
    "now = datetime.datetime.now()\n",
    "\n",
    "print(now.year)\n",
    "print(now.strftime(\"%A\"))"
   ]
  },
  {
   "cell_type": "code",
   "execution_count": 6,
   "id": "ce001c62-52e8-41b8-980c-5f9aaf4c0708",
   "metadata": {},
   "outputs": [
    {
     "name": "stdout",
     "output_type": "stream",
     "text": [
      "2022-12-25\n"
     ]
    }
   ],
   "source": [
    "#yoou can create date objects using date class\n",
    "import datetime\n",
    "\n",
    "d = datetime.date(2022, 12, 25)\n",
    "print(d)"
   ]
  },
  {
   "cell_type": "code",
   "execution_count": 12,
   "id": "48942b41-f324-4a26-91a7-2761057f4f78",
   "metadata": {},
   "outputs": [
    {
     "name": "stdout",
     "output_type": "stream",
     "text": [
      "Time: 16:23:26\n"
     ]
    }
   ],
   "source": [
    "#Additionally, you can use the strftime method to format date and time objects into strings\n",
    "from datetime import datetime\n",
    "\n",
    "now = datetime.now()\n",
    "t = now.strftime(\"%H:%M:%S\")\n",
    "print(\"Time:\", t)"
   ]
  },
  {
   "cell_type": "code",
   "execution_count": 44,
   "id": "42427621-7ce4-48df-aced-ebbe8105b6db",
   "metadata": {},
   "outputs": [
    {
     "name": "stdout",
     "output_type": "stream",
     "text": [
      "Time: 11:24:51\n",
      "s1: 07/26/2024, 11:24:51\n",
      "s2: 26/07/2024, 11:24:51\n"
     ]
    }
   ],
   "source": [
    "from datetime import datetime\n",
    "\n",
    "# current date and time\n",
    "now = datetime.now()\n",
    "\n",
    "t = now.strftime(\"%H:%M:%S\")\n",
    "print(\"Time:\", t)\n",
    "\n",
    "s1 = now.strftime(\"%m/%d/%Y, %H:%M:%S\")\n",
    "# mm/dd/YY H:M:S format\n",
    "print(\"s1:\", s1)\n",
    "\n",
    "s2 = now.strftime(\"%d/%m/%Y, %H:%M:%S\")\n",
    "# dd/mm/YY H:M:S format\n",
    "print(\"s2:\", s2)"
   ]
  },
  {
   "cell_type": "markdown",
   "id": "a5477e86-3c15-4620-bed6-c2edd70e3172",
   "metadata": {},
   "source": [
    "**Parsing Strings to datetime Objects (strptime())** <br> The strptime() function is used to create datetime objects from strings"
   ]
  },
  {
   "cell_type": "code",
   "execution_count": 14,
   "id": "725dc8de-23fd-4f2a-9344-5c2ffd87a451",
   "metadata": {},
   "outputs": [
    {
     "name": "stdout",
     "output_type": "stream",
     "text": [
      "date_object = 2022-12-25 00:00:00\n"
     ]
    }
   ],
   "source": [
    "#you can use the strptime method to parse strings into date and time objects\n",
    "from datetime import datetime\n",
    "\n",
    "date_string = \"25 December, 2022\"\n",
    "date_object = datetime.strptime(date_string, \"%d %B, %Y\")\n",
    "print(\"date_object =\", date_object)"
   ]
  },
  {
   "cell_type": "code",
   "execution_count": 80,
   "id": "1d7e7abb-2ebd-4547-a9ff-4ccbbd090c99",
   "metadata": {},
   "outputs": [
    {
     "name": "stdout",
     "output_type": "stream",
     "text": [
      "2024-07-26 14:30:45\n"
     ]
    }
   ],
   "source": [
    "date_1 = \"2024-07-26 14:30:45\"\n",
    "new_date = datetime.datetime.strptime(date_1, \"%Y-%m-%d %H:%M:%S\")\n",
    "print(new_date)"
   ]
  },
  {
   "cell_type": "code",
   "execution_count": 46,
   "id": "e1e617fe-3bd7-4398-be15-fbd8a868068c",
   "metadata": {},
   "outputs": [
    {
     "name": "stdout",
     "output_type": "stream",
     "text": [
      "Time: 11:25:14\n",
      "s1: 07/26/2024, 11:25:14\n",
      "s2: 26/07/2024, 11:25:14\n"
     ]
    }
   ],
   "source": [
    "from datetime import datetime\n",
    "\n",
    "# current date and time\n",
    "now = datetime.now()\n",
    "\n",
    "t = now.strftime(\"%H:%M:%S\")\n",
    "print(\"Time:\", t)\n",
    "\n",
    "s1 = now.strftime(\"%m/%d/%Y, %H:%M:%S\")\n",
    "# mm/dd/YY H:M:S format\n",
    "print(\"s1:\", s1)\n",
    "\n",
    "s2 = now.strftime(\"%d/%m/%Y, %H:%M:%S\")\n",
    "# dd/mm/YY H:M:S format\n",
    "print(\"s2:\", s2)"
   ]
  },
  {
   "cell_type": "markdown",
   "id": "1a68ca0d-cddd-4b58-be30-e2e429ff747e",
   "metadata": {},
   "source": [
    "**Handling Timezone**"
   ]
  },
  {
   "cell_type": "markdown",
   "id": "76e70719-6b3a-4723-9766-d3e5649400ae",
   "metadata": {},
   "source": [
    "### Timestamps and datetime"
   ]
  },
  {
   "cell_type": "markdown",
   "id": "00a0bdea-5a01-493e-abb3-24ce421cc44c",
   "metadata": {},
   "source": [
    "**Getting a Timestamp** <br> To get the current timestamp (seconds since the epoch):"
   ]
  },
  {
   "cell_type": "code",
   "execution_count": 84,
   "id": "56c1d42d-0144-4a4f-9c45-6ab95c7aa496",
   "metadata": {},
   "outputs": [
    {
     "name": "stdout",
     "output_type": "stream",
     "text": [
      "1721969872.732629\n"
     ]
    }
   ],
   "source": [
    "import time\n",
    "current_timestamp = time.time()\n",
    "print(current_timestamp)"
   ]
  },
  {
   "cell_type": "code",
   "execution_count": 24,
   "id": "dc65e27d-ed61-4949-bf97-a717e3401695",
   "metadata": {},
   "outputs": [
    {
     "name": "stdout",
     "output_type": "stream",
     "text": [
      "Date = 2012-01-11\n"
     ]
    }
   ],
   "source": [
    "from datetime import date\n",
    "\n",
    "timestamp = date.fromtimestamp(1326244364)\n",
    "print(\"Date =\", timestamp)"
   ]
  },
  {
   "cell_type": "markdown",
   "id": "eb18a158-0b81-40fa-a750-9a0d52067862",
   "metadata": {},
   "source": [
    "**Converting Timestamp to datetime**"
   ]
  },
  {
   "cell_type": "code",
   "execution_count": 90,
   "id": "371a7baf-6e5c-45a8-8396-3b77d147f47f",
   "metadata": {},
   "outputs": [
    {
     "name": "stdout",
     "output_type": "stream",
     "text": [
      "2024-07-26 10:27:52.732629\n"
     ]
    }
   ],
   "source": [
    "datetime_obj = datetime.datetime.fromtimestamp(current_timestamp)\n",
    "print(datetime_obj)"
   ]
  },
  {
   "cell_type": "markdown",
   "id": "bfc9433c-c672-49f2-8eca-5464974d716a",
   "metadata": {},
   "source": [
    "**Converting datetime to Timestamp**"
   ]
  },
  {
   "cell_type": "code",
   "execution_count": 94,
   "id": "f90eff98-efaa-4604-81d4-552fada91958",
   "metadata": {},
   "outputs": [
    {
     "name": "stdout",
     "output_type": "stream",
     "text": [
      "1721969872.732629\n"
     ]
    }
   ],
   "source": [
    "timestamp = datetime_obj.timestamp()\n",
    "print(timestamp)"
   ]
  },
  {
   "cell_type": "markdown",
   "id": "d6215ebc-acff-4690-ade8-e2a60776d296",
   "metadata": {},
   "source": [
    "### Time module\n",
    "The time module provides various time-related functions"
   ]
  },
  {
   "cell_type": "markdown",
   "id": "2300bb6f-6116-401e-9f0e-28a1bd5e9d5e",
   "metadata": {},
   "source": [
    "**sleep() method in Python** <br>\n",
    "is used to suspend the execution of a program for a specified number of seconds"
   ]
  },
  {
   "cell_type": "code",
   "execution_count": 17,
   "id": "7efe94c8-6b57-4e9e-a805-6a38fcbaa4ee",
   "metadata": {},
   "outputs": [
    {
     "name": "stdout",
     "output_type": "stream",
     "text": [
      "Wait until 2 seconds.\n"
     ]
    }
   ],
   "source": [
    "import time\n",
    "\n",
    "time.sleep(2)\n",
    "print(\"Wait until 2 seconds.\")"
   ]
  },
  {
   "cell_type": "markdown",
   "id": "9f31edc7-2c7d-4ae1-927f-e86034b2ea3c",
   "metadata": {},
   "source": [
    "**Syntax for sleep method: time.sleep(seconds)**"
   ]
  },
  {
   "cell_type": "code",
   "execution_count": 22,
   "id": "03cbc5df-e6a3-42c1-9f81-372254a65a64",
   "metadata": {},
   "outputs": [
    {
     "name": "stdout",
     "output_type": "stream",
     "text": [
      "Printed immediately.\n",
      "Printed after 2.4 seconds.\n"
     ]
    }
   ],
   "source": [
    "import time\n",
    "\n",
    "print(\"Printed immediately.\")\n",
    "time.sleep(2.4)\n",
    "print(\"Printed after 2.4 seconds.\")"
   ]
  },
  {
   "cell_type": "code",
   "execution_count": null,
   "id": "d2c31abb-4407-4e72-94c3-fa885e8cd1fc",
   "metadata": {},
   "outputs": [],
   "source": [
    "# sleep() to create a digital clock that updates every second:\n"
   ]
  },
  {
   "cell_type": "markdown",
   "id": "9326b9ee-c1d3-4023-a7b2-b96dc60aacb0",
   "metadata": {},
   "source": [
    "**Getting the current time**"
   ]
  },
  {
   "cell_type": "code",
   "execution_count": 1,
   "id": "14155a64-9236-4d5f-86c2-bd78070efdec",
   "metadata": {},
   "outputs": [
    {
     "name": "stdout",
     "output_type": "stream",
     "text": [
      "time.struct_time(tm_year=2024, tm_mon=7, tm_mday=26, tm_hour=11, tm_min=11, tm_sec=23, tm_wday=4, tm_yday=208, tm_isdst=0)\n"
     ]
    }
   ],
   "source": [
    "import time\n",
    "print(time.localtime())"
   ]
  },
  {
   "cell_type": "code",
   "execution_count": 104,
   "id": "d78b17ad-f9be-4b0e-8718-66ee17e4ebda",
   "metadata": {},
   "outputs": [
    {
     "name": "stdout",
     "output_type": "stream",
     "text": [
      "Year: 2024\n",
      "Month: 7\n",
      "Day: 26\n"
     ]
    }
   ],
   "source": [
    "print(f\"Year: {current_time.tm_year}\")\n",
    "print(f\"Month: {current_time.tm_mon}\")\n",
    "print(f\"Day: {current_time.tm_mday}\")"
   ]
  },
  {
   "cell_type": "code",
   "execution_count": null,
   "id": "d7828fe4-2c82-49b9-b4a4-b9aaddfbfccd",
   "metadata": {},
   "outputs": [],
   "source": []
  }
 ],
 "metadata": {
  "kernelspec": {
   "display_name": "Python 3 (ipykernel)",
   "language": "python",
   "name": "python3"
  },
  "language_info": {
   "codemirror_mode": {
    "name": "ipython",
    "version": 3
   },
   "file_extension": ".py",
   "mimetype": "text/x-python",
   "name": "python",
   "nbconvert_exporter": "python",
   "pygments_lexer": "ipython3",
   "version": "3.12.4"
  }
 },
 "nbformat": 4,
 "nbformat_minor": 5
}
